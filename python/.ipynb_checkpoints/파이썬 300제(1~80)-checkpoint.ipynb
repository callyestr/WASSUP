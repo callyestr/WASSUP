{
 "cells": [
  {
   "cell_type": "markdown",
   "id": "566f3090",
   "metadata": {},
   "source": [
    "## 01. 파이썬 시작하기"
   ]
  },
  {
   "cell_type": "markdown",
   "id": "76b6b7b7",
   "metadata": {},
   "source": [
    "001 print 기초\n",
    "화면에 Hello World 문자열을 출력하세요."
   ]
  },
  {
   "cell_type": "code",
   "execution_count": 2,
   "id": "1a3d96eb",
   "metadata": {},
   "outputs": [
    {
     "name": "stdout",
     "output_type": "stream",
     "text": [
      "Hello World\n"
     ]
    }
   ],
   "source": [
    "print(\"Hello World\")"
   ]
  },
  {
   "cell_type": "markdown",
   "id": "66dbd348",
   "metadata": {},
   "source": [
    "002 print 기초\n",
    "화면에 Mary's cosmetics을 출력하세요. (중간에 '가 있음에 주의하세요)"
   ]
  },
  {
   "cell_type": "code",
   "execution_count": 3,
   "id": "c9b138cb",
   "metadata": {},
   "outputs": [
    {
     "name": "stdout",
     "output_type": "stream",
     "text": [
      "Mary's cosmetics\n"
     ]
    }
   ],
   "source": [
    "print(\"Mary's cosmetics\")"
   ]
  },
  {
   "cell_type": "markdown",
   "id": "bcbf63de",
   "metadata": {},
   "source": [
    "003 print 기초\n",
    "화면에 아래 문장을 출력하세요. (중간에 \"가 있음에 주의하세요.)\n",
    "\n",
    "신씨가 소리질렀다. \"도둑이야\"."
   ]
  },
  {
   "cell_type": "code",
   "execution_count": 68,
   "id": "4c834913",
   "metadata": {},
   "outputs": [
    {
     "name": "stdout",
     "output_type": "stream",
     "text": [
      "신씨가 소리질렀다. \"도둑이야\"\n"
     ]
    }
   ],
   "source": [
    "print('신씨가 소리질렀다. \"도둑이야\"')"
   ]
  },
  {
   "cell_type": "markdown",
   "id": "86bfa80c",
   "metadata": {},
   "source": [
    "004 print 기초\n",
    "화면에 C:\\Windows를 출력하세요."
   ]
  },
  {
   "cell_type": "code",
   "execution_count": 9,
   "id": "bee69576",
   "metadata": {},
   "outputs": [
    {
     "name": "stdout",
     "output_type": "stream",
     "text": [
      "C:\\Windows\n"
     ]
    }
   ],
   "source": [
    "print(\"C:\\Windows\")"
   ]
  },
  {
   "cell_type": "markdown",
   "id": "72dfbede",
   "metadata": {},
   "source": [
    "005 print 탭과 줄바꿈\n",
    "다음 코드를 실행해보고 \\t와 \\n의 역할을 설명해보세요.\n",
    "\n",
    "print(\"안녕하세요.\\n만나서\\t\\t반갑습니다.\")"
   ]
  },
  {
   "cell_type": "code",
   "execution_count": 11,
   "id": "b715bb8e",
   "metadata": {
    "scrolled": true
   },
   "outputs": [
    {
     "name": "stdout",
     "output_type": "stream",
     "text": [
      "안녕하세요.\n",
      "만나서\t\t반갑습니다.\n"
     ]
    }
   ],
   "source": [
    "print(\"안녕하세요.\\n만나서\\t\\t반갑습니다.\") # \\n은 줄바꿈 \\t는 탭"
   ]
  },
  {
   "cell_type": "markdown",
   "id": "3a0f335a",
   "metadata": {},
   "source": [
    "006 print 여러 데이터 출력\n",
    "print 함수에 두 개의 단어를 입력한 예제입니다. 아래 코드의 출력 결과를 예상해봅시다."
   ]
  },
  {
   "cell_type": "code",
   "execution_count": 69,
   "id": "8b18f313",
   "metadata": {},
   "outputs": [
    {
     "name": "stdout",
     "output_type": "stream",
     "text": [
      "오늘은 일요일\n"
     ]
    }
   ],
   "source": [
    "print(\"오늘은\", \"일요일\")"
   ]
  },
  {
   "cell_type": "markdown",
   "id": "15fe40ea",
   "metadata": {},
   "source": [
    "007 print 기초\n",
    "print() 함수를 사용하여 다음과 같이 출력하세요.\n",
    "\n",
    "naver;kakao;sk;samsung"
   ]
  },
  {
   "cell_type": "code",
   "execution_count": 75,
   "id": "b004296a",
   "metadata": {},
   "outputs": [
    {
     "name": "stdout",
     "output_type": "stream",
     "text": [
      "naver;kakao;sk;samsung\n"
     ]
    }
   ],
   "source": [
    "print(\"naver\", \"kakao\", \"sk\", \"samsung\", sep = \";\")"
   ]
  },
  {
   "cell_type": "markdown",
   "id": "746d860c",
   "metadata": {},
   "source": [
    "008 print 기초\n",
    "print() 함수를 사용하여 다음과 같이 출력하세요.\n",
    "\n",
    "naver/kakao/sk/samsung"
   ]
  },
  {
   "cell_type": "code",
   "execution_count": 74,
   "id": "4d5fb253",
   "metadata": {},
   "outputs": [
    {
     "name": "stdout",
     "output_type": "stream",
     "text": [
      "naver/kakao/sk/samsung\n"
     ]
    }
   ],
   "source": [
    "print(\"naver\", \"kakao\", \"sk\", \"samsung\", sep = \"/\")"
   ]
  },
  {
   "cell_type": "markdown",
   "id": "3db54979",
   "metadata": {},
   "source": [
    "009 print 줄바꿈\n",
    "다음 코드를 수정하여 줄바꿈이 없이 출력하세요. (힌트: end='') print 함수는 두 번 사용합니다. 세미콜론 (;)은 한줄에 여러 개의 명령을 작성하기 위해 사용합니다.#\n",
    "\n",
    "print(\"first\");print(\"second\")"
   ]
  },
  {
   "cell_type": "code",
   "execution_count": 79,
   "id": "b265d9c5",
   "metadata": {},
   "outputs": [
    {
     "name": "stdout",
     "output_type": "stream",
     "text": [
      "firstsecond\n"
     ]
    }
   ],
   "source": [
    "print(\"first\", end =\"\"); print(\"second\")"
   ]
  },
  {
   "cell_type": "markdown",
   "id": "21a488b0",
   "metadata": {},
   "source": [
    "010 연산 결과 출력\n",
    "5/3의 결과를 화면에 출력하세요."
   ]
  },
  {
   "cell_type": "code",
   "execution_count": 80,
   "id": "e87ace28",
   "metadata": {},
   "outputs": [
    {
     "name": "stdout",
     "output_type": "stream",
     "text": [
      "1.6666666666666667\n"
     ]
    }
   ],
   "source": [
    "print(5/3)"
   ]
  },
  {
   "cell_type": "markdown",
   "id": "8ef803ec",
   "metadata": {},
   "source": [
    "## 02. 파이썬 문법 리뷰"
   ]
  },
  {
   "cell_type": "markdown",
   "id": "a5e98177",
   "metadata": {},
   "source": [
    "011 변수 사용하기\n",
    "삼성전자라는 변수로 50,000원을 바인딩해보세요. 삼성전자 주식 10주를 보유하고 있을 때 총 평가금액을 출력하세요."
   ]
  },
  {
   "cell_type": "code",
   "execution_count": 15,
   "id": "d9e27f82",
   "metadata": {},
   "outputs": [
    {
     "name": "stdout",
     "output_type": "stream",
     "text": [
      "500000\n"
     ]
    }
   ],
   "source": [
    "삼성전자 = 50000\n",
    "총평가금액 = 삼성전자 * 10\n",
    "print(총평가금액)"
   ]
  },
  {
   "cell_type": "markdown",
   "id": "6794c41d",
   "metadata": {},
   "source": [
    "012 변수 사용하기\n",
    "다음 표는 삼성전자의 일부 투자정보입니다. 변수를 사용해서 시가총액, 현재가, PER 등을 바인딩해보세요.\n",
    "\n",
    "항목\t값\n",
    "시가총액\t298조\n",
    "현재가\t50,000원\n",
    "PER\t15.79"
   ]
  },
  {
   "cell_type": "code",
   "execution_count": 21,
   "id": "64cb6906",
   "metadata": {},
   "outputs": [
    {
     "name": "stdout",
     "output_type": "stream",
     "text": [
      "29800000000000 <class 'int'>\n",
      "50000 <class 'int'>\n",
      "15.79 <class 'float'>\n"
     ]
    }
   ],
   "source": [
    "시가총액 = 29800000000000\n",
    "현재가 = 50000\n",
    "PER = 15.79\n",
    "print(시가총액, type(시가총액))\n",
    "print(현재가, type(현재가))\n",
    "print(PER, type(PER))"
   ]
  },
  {
   "cell_type": "markdown",
   "id": "d9e79ad9",
   "metadata": {},
   "source": [
    "013 문자열 출력\n",
    "변수 s와 t에는 각각 문자열이 바인딩 되어있습니다.\n",
    "\n",
    ">> s = \"hello\"\n",
    ">> t = \"python\"\n",
    "두 변수를 이용하여 아래와 같이 출력해보세요.\n",
    "\n",
    "실행 예:\n",
    "hello! python"
   ]
  },
  {
   "cell_type": "code",
   "execution_count": 66,
   "id": "76695345",
   "metadata": {},
   "outputs": [
    {
     "name": "stdout",
     "output_type": "stream",
     "text": [
      "hello! python\n"
     ]
    }
   ],
   "source": [
    "s = \"hello\"\n",
    "t = \"python\"\n",
    "print(s+\"!\", t)"
   ]
  },
  {
   "cell_type": "markdown",
   "id": "5f174af3",
   "metadata": {},
   "source": [
    "014 파이썬을 이용한 값 계산\n",
    "아래 코드의 실행 결과를 예상해보세요.\n",
    "\n",
    ">> 2 + 2 * 3 "
   ]
  },
  {
   "cell_type": "code",
   "execution_count": 29,
   "id": "9571802e",
   "metadata": {},
   "outputs": [
    {
     "data": {
      "text/plain": [
       "8"
      ]
     },
     "execution_count": 29,
     "metadata": {},
     "output_type": "execute_result"
    }
   ],
   "source": [
    "2 + 2 * 3"
   ]
  },
  {
   "cell_type": "markdown",
   "id": "ceaa0239",
   "metadata": {},
   "source": [
    "015 type 함수\n",
    "type() 함수는 데이터 타입을 판별합니다. 변수 a에는 128 숫자가 바인딩돼 있어 type 함수가 int (정수)형임을 알려줍니다.\n",
    "\n",
    ">> a = 128\n",
    ">> print (type(a))\n",
    "<class 'int'>\n",
    "아래 변수에 바인딩된 값의 타입을 판별해보세요.\n",
    "\n",
    ">> a = \"132\""
   ]
  },
  {
   "cell_type": "code",
   "execution_count": 31,
   "id": "9df126a1",
   "metadata": {},
   "outputs": [
    {
     "name": "stdout",
     "output_type": "stream",
     "text": [
      "<class 'str'>\n"
     ]
    }
   ],
   "source": [
    "a = \"132\"\n",
    "print(type(a))"
   ]
  },
  {
   "cell_type": "markdown",
   "id": "6569e0fd",
   "metadata": {},
   "source": [
    "016 문자열을 정수로 변환\n",
    "문자열 '720'를 정수형으로 변환해보세요.#\n",
    "\n",
    ">> num_str = \"720\""
   ]
  },
  {
   "cell_type": "code",
   "execution_count": 36,
   "id": "0e540eac",
   "metadata": {},
   "outputs": [
    {
     "name": "stdout",
     "output_type": "stream",
     "text": [
      "720\n"
     ]
    }
   ],
   "source": [
    "num_str = \"720\" \n",
    "num_int = int(num_str)\n",
    "print(int(num_str))"
   ]
  },
  {
   "cell_type": "markdown",
   "id": "f8ea05f6",
   "metadata": {},
   "source": [
    "017 정수를 문자열 100으로 변환\n",
    "정수 100을 문자열 '100'으로 변환해보세요.#\n",
    "\n",
    "num = 100"
   ]
  },
  {
   "cell_type": "code",
   "execution_count": 48,
   "id": "a0304eb0",
   "metadata": {},
   "outputs": [
    {
     "name": "stdout",
     "output_type": "stream",
     "text": [
      "100 <class 'str'>\n"
     ]
    }
   ],
   "source": [
    "num = 100\n",
    "string = str(num)\n",
    "print(string, type(string))"
   ]
  },
  {
   "cell_type": "markdown",
   "id": "0240f047",
   "metadata": {},
   "source": [
    "018 문자열을 실수로 변환\n",
    "문자열 \"15.79\"를 실수(float) 타입으로 변환해보세요. #"
   ]
  },
  {
   "cell_type": "code",
   "execution_count": 58,
   "id": "a2cc5f78",
   "metadata": {},
   "outputs": [
    {
     "name": "stdout",
     "output_type": "stream",
     "text": [
      "15.79 <class 'float'>\n"
     ]
    }
   ],
   "source": [
    "num_string = \"15.79\"\n",
    "num_float = float(num_string)\n",
    "print(num_float, type(num_float))"
   ]
  },
  {
   "cell_type": "markdown",
   "id": "c5a15705",
   "metadata": {},
   "source": [
    "019 문자열을 정수로 변환\n",
    "year라는 변수가 문자열 타입의 연도를 바인딩하고 있습니다. 이를 정수로 변환한 후 최근 3년의 연도를 화면에 출력해보세요.\n",
    "\n",
    "year = \"2020\""
   ]
  },
  {
   "cell_type": "code",
   "execution_count": 62,
   "id": "725923e9",
   "metadata": {},
   "outputs": [
    {
     "name": "stdout",
     "output_type": "stream",
     "text": [
      "2017 2018 2019\n"
     ]
    }
   ],
   "source": [
    "year = \"2020\"\n",
    "year_int = int(year)\n",
    "print(int(year) - 3, int(year) - 2, int(year) - 1)"
   ]
  },
  {
   "cell_type": "markdown",
   "id": "cde3ee08",
   "metadata": {},
   "source": [
    "020 파이썬 계산\n",
    "에이컨이 월 48,584원에 무이자 36개월의 조건으로 홈쇼핑에서 판매되고 있습니다. 총 금액은 계산한 후 이를 화면에 출력해보세요. (변수사용하기)"
   ]
  },
  {
   "cell_type": "code",
   "execution_count": 64,
   "id": "2b1d1179",
   "metadata": {},
   "outputs": [
    {
     "name": "stdout",
     "output_type": "stream",
     "text": [
      "1749024\n"
     ]
    }
   ],
   "source": [
    "월 = 48584\n",
    "총금액 = 월 * 36\n",
    "print(총금액)"
   ]
  },
  {
   "cell_type": "markdown",
   "id": "5c03acff",
   "metadata": {},
   "source": [
    "## 03. 파이썬 문자열"
   ]
  },
  {
   "cell_type": "markdown",
   "id": "4399f0e2",
   "metadata": {},
   "source": [
    "021 문자열 인덱싱\n",
    "letters가 바인딩하는 문자열에서 첫번째와 세번째 문자를 출력하세요.#\n",
    "\n",
    ">> letters = 'python'"
   ]
  },
  {
   "cell_type": "code",
   "execution_count": 11,
   "id": "1dec5e1b",
   "metadata": {},
   "outputs": [
    {
     "name": "stdout",
     "output_type": "stream",
     "text": [
      "p t\n"
     ]
    }
   ],
   "source": [
    "letters = 'python'\n",
    "print(letters[0], letters[2])"
   ]
  },
  {
   "cell_type": "markdown",
   "id": "8ba90e6d",
   "metadata": {},
   "source": [
    "022 문자열 슬라이싱\n",
    "자동차 번호가 다음과 같을 때 뒤에 4자리만 출력하세요.#\n",
    "\n",
    ">> license_plate = \"24가 2210\""
   ]
  },
  {
   "cell_type": "code",
   "execution_count": 84,
   "id": "26cfbd85",
   "metadata": {},
   "outputs": [
    {
     "name": "stdout",
     "output_type": "stream",
     "text": [
      "2210\n"
     ]
    }
   ],
   "source": [
    "license_plate = \"24가 2210\"\n",
    "print(license_plate[4:])"
   ]
  },
  {
   "cell_type": "markdown",
   "id": "ca10bc72",
   "metadata": {},
   "source": [
    "023 문자열 인덱싱\n",
    "아래의 문자열에서 '홀' 만 출력하세요.\n",
    "\n",
    ">> string = \"홀짝홀짝홀짝\""
   ]
  },
  {
   "cell_type": "code",
   "execution_count": 85,
   "id": "0289de52",
   "metadata": {},
   "outputs": [
    {
     "name": "stdout",
     "output_type": "stream",
     "text": [
      "홀홀홀\n"
     ]
    }
   ],
   "source": [
    "string = \"홀짝홀짝홀짝\"\n",
    "print(string[0], string[2], string[4], sep = \"\")"
   ]
  },
  {
   "cell_type": "code",
   "execution_count": 86,
   "id": "36524797",
   "metadata": {},
   "outputs": [
    {
     "name": "stdout",
     "output_type": "stream",
     "text": [
      "홀홀홀\n"
     ]
    }
   ],
   "source": [
    "string = \"홀짝홀짝홀짝\"\n",
    "print(string[::2]) # 처음부터 끝까지 2씩 출력"
   ]
  },
  {
   "cell_type": "markdown",
   "id": "1e9368a9",
   "metadata": {},
   "source": [
    "024 문자열 슬라이싱\n",
    "문자열을 거꾸로 뒤집어 출력하세요. #\n",
    "\n",
    ">> string = \"PYTHON\""
   ]
  },
  {
   "cell_type": "code",
   "execution_count": 87,
   "id": "02d00048",
   "metadata": {},
   "outputs": [
    {
     "name": "stdout",
     "output_type": "stream",
     "text": [
      "NOHTYP\n"
     ]
    }
   ],
   "source": [
    "string = \"PYTHON\"\n",
    "print(string[::-1]) # 암기"
   ]
  },
  {
   "cell_type": "markdown",
   "id": "c8da1bd2",
   "metadata": {},
   "source": [
    "025 문자열 치환\n",
    "아래의 전화번호에서 하이푼 ('-')을 제거하고 출력하세요.#\n",
    ">> phone_number = \"010-1111-2222\""
   ]
  },
  {
   "cell_type": "code",
   "execution_count": 43,
   "id": "c1ea5569",
   "metadata": {},
   "outputs": [
    {
     "name": "stdout",
     "output_type": "stream",
     "text": [
      "010 1111 2222\n"
     ]
    }
   ],
   "source": [
    "phone_number = \"010-1111-2222\"\n",
    "print(phone_number.replace(\"-\", \" \"))"
   ]
  },
  {
   "cell_type": "markdown",
   "id": "dde723a0",
   "metadata": {},
   "source": [
    "026 문자열 다루기\n",
    "25번 문제의 전화번호를 아래와 같이 모두 붙여 출력하세요"
   ]
  },
  {
   "cell_type": "code",
   "execution_count": 44,
   "id": "f1e8be4c",
   "metadata": {},
   "outputs": [
    {
     "name": "stdout",
     "output_type": "stream",
     "text": [
      "01011112222\n"
     ]
    }
   ],
   "source": [
    "phone_number = \"010-1111-2222\"\n",
    "print(phone_number.replace(\"-\", \"\"))"
   ]
  },
  {
   "cell_type": "markdown",
   "id": "112d98ad",
   "metadata": {},
   "source": [
    "027 문자열 다루기\n",
    "url 에 저장된 웹 페이지 주소에서 도메인을 출력하세요.#\n",
    "\n",
    ">> url = \"http://sharebook.kr\""
   ]
  },
  {
   "cell_type": "code",
   "execution_count": 88,
   "id": "a597de2e",
   "metadata": {},
   "outputs": [
    {
     "name": "stdout",
     "output_type": "stream",
     "text": [
      "kr\n"
     ]
    }
   ],
   "source": [
    "url = \"http://sharebook.kr\"\n",
    "print(url[-2:])"
   ]
  },
  {
   "cell_type": "markdown",
   "id": "0c573d92",
   "metadata": {},
   "source": [
    "028 문자열은 immutable\n",
    "아래 코드의 실행 결과를 예상해보세요.#\n",
    "\n",
    ">> lang = 'python'\n",
    ">> lang[0] = 'P'\n",
    ">> print(lang)"
   ]
  },
  {
   "cell_type": "code",
   "execution_count": 65,
   "id": "2f28f115",
   "metadata": {
    "scrolled": true
   },
   "outputs": [
    {
     "ename": "TypeError",
     "evalue": "'str' object does not support item assignment",
     "output_type": "error",
     "traceback": [
      "\u001b[0;31m---------------------------------------------------------------------------\u001b[0m",
      "\u001b[0;31mTypeError\u001b[0m                                 Traceback (most recent call last)",
      "Cell \u001b[0;32mIn[65], line 2\u001b[0m\n\u001b[1;32m      1\u001b[0m lang \u001b[38;5;241m=\u001b[39m \u001b[38;5;124m'\u001b[39m\u001b[38;5;124mpython\u001b[39m\u001b[38;5;124m'\u001b[39m\n\u001b[0;32m----> 2\u001b[0m lang[\u001b[38;5;241m0\u001b[39m] \u001b[38;5;241m=\u001b[39m \u001b[38;5;124m'\u001b[39m\u001b[38;5;124mP\u001b[39m\u001b[38;5;124m'\u001b[39m\n\u001b[1;32m      3\u001b[0m \u001b[38;5;28mprint\u001b[39m(lang)\n",
      "\u001b[0;31mTypeError\u001b[0m: 'str' object does not support item assignment"
     ]
    }
   ],
   "source": [
    "lang = 'python'\n",
    "lang[0] = 'P'\n",
    "print(lang)"
   ]
  },
  {
   "cell_type": "markdown",
   "id": "1e1da00c",
   "metadata": {},
   "source": [
    "029 replace 메서드\n",
    "아래 문자열에서 소문자 'a'를 대문자 'A'로 변경하세요.#\n",
    "\n",
    ">> string = 'abcdfe2a354a32a'"
   ]
  },
  {
   "cell_type": "code",
   "execution_count": 89,
   "id": "10a2be49",
   "metadata": {},
   "outputs": [
    {
     "name": "stdout",
     "output_type": "stream",
     "text": [
      "Abcdfe2A354A32A\n"
     ]
    }
   ],
   "source": [
    "string = 'abcdfe2a354a32a'\n",
    "string = string.replace('a', 'A')\n",
    "print(string)"
   ]
  },
  {
   "cell_type": "markdown",
   "id": "6a37b8a0",
   "metadata": {},
   "source": [
    "030 replace 메서드\n",
    "아래 코드의 실행 결과를 예상해보세요.\n",
    "\n",
    ">> string = 'abcd'\n",
    ">> string.replace('b', 'B')\n",
    ">> print(string)"
   ]
  },
  {
   "cell_type": "markdown",
   "id": "bcec3fc3",
   "metadata": {},
   "source": [
    "`abcd`가 그대로 출력됩니다. 왜냐하면 문자열은 변경할 수 없는 자료형이기 때문입니다. replace 메서드를 사용하면 원본은 그대로 둔채로 변경된 새로운 문자열 객체를 리턴해줍니다."
   ]
  },
  {
   "cell_type": "markdown",
   "id": "f3720b2d",
   "metadata": {},
   "source": [
    "031 문자열 합치기\n",
    "아래 코드의 실행 결과를 예상해보세요.\n",
    ">> a = \"3\"\n",
    ">> b = \"4\"\n",
    ">> print(a + b)"
   ]
  },
  {
   "cell_type": "code",
   "execution_count": 94,
   "id": "9c967fbc",
   "metadata": {},
   "outputs": [
    {
     "name": "stdout",
     "output_type": "stream",
     "text": [
      "34\n"
     ]
    }
   ],
   "source": [
    "a = \"3\"\n",
    "b = \"4\"\n",
    "print(a + b)"
   ]
  },
  {
   "cell_type": "markdown",
   "id": "1529ea7c",
   "metadata": {},
   "source": [
    "032 문자열 곱하기\n",
    "아래 코드의 실행 결과를 예상해보세요.\n",
    "\n",
    ">> print(\"Hi\" * 3)"
   ]
  },
  {
   "cell_type": "code",
   "execution_count": 95,
   "id": "4220774d",
   "metadata": {},
   "outputs": [
    {
     "name": "stdout",
     "output_type": "stream",
     "text": [
      "HiHiHi\n"
     ]
    }
   ],
   "source": [
    "print(\"Hi\" * 3)"
   ]
  },
  {
   "cell_type": "markdown",
   "id": "cb0111a5",
   "metadata": {},
   "source": [
    "033 문자열 곱하기\n",
    "화면에 '-'를 80개 출력하세요."
   ]
  },
  {
   "cell_type": "code",
   "execution_count": 97,
   "id": "2bd6394c",
   "metadata": {},
   "outputs": [
    {
     "name": "stdout",
     "output_type": "stream",
     "text": [
      "--------------------------------------------------------------------------------\n"
     ]
    }
   ],
   "source": [
    "print(\"-\" * 80)"
   ]
  },
  {
   "cell_type": "markdown",
   "id": "0f4b6ae0",
   "metadata": {},
   "source": [
    "034 문자열 곱하기\n",
    "변수에 다음과 같은 문자열이 바인딩되어 있습니다.\n",
    "\n",
    ">>> t1 = 'python'\n",
    ">>> t2 = 'java'\n",
    "변수에 문자열 더하기와 문자열 곱하기를 사용해서 아래와 같이 출력해보세요.\n",
    "\n",
    "실행 예:\n",
    "python java python java python java python java"
   ]
  },
  {
   "cell_type": "markdown",
   "id": "b12d9f73",
   "metadata": {},
   "source": [
    "035 문자열 출력\n",
    "변수에 다음과 같이 문자열과 정수가 바인딩되어 있을 때 % formatting을 사용해서 다음과 같이 출력해보세요.#\n",
    "\n",
    "name1 = \"김민수\" \n",
    "age1 = 10\n",
    "name2 = \"이철희\"\n",
    "age2 = 13\n",
    "이름: 김민수 나이: 10\n",
    "이름: 이철희 나이: 13"
   ]
  },
  {
   "cell_type": "markdown",
   "id": "04a94595",
   "metadata": {},
   "source": [
    "name1 = \"김민수\" \n",
    "age1 = 10\n",
    "name2 = \"이철희\"\n",
    "age2 = 13"
   ]
  },
  {
   "cell_type": "code",
   "execution_count": 110,
   "id": "5c72e669",
   "metadata": {},
   "outputs": [
    {
     "name": "stdout",
     "output_type": "stream",
     "text": [
      "이름: 김민수 나이: 10\n",
      "이름: 이철희 나이: 13\n"
     ]
    }
   ],
   "source": [
    "print(\"이름: %s 나이: %d\" % (name1, age1))\n",
    "print(\"이름: %s 나이: %d\" % (name2, age2))"
   ]
  },
  {
   "cell_type": "markdown",
   "id": "f0d204cf",
   "metadata": {},
   "source": [
    "036 문자열 출력\n",
    "문자열의 format( ) 메서드를 사용해서 035번 문제를 다시 풀어보세요.#"
   ]
  },
  {
   "cell_type": "code",
   "execution_count": 115,
   "id": "944bf3e8",
   "metadata": {},
   "outputs": [
    {
     "name": "stdout",
     "output_type": "stream",
     "text": [
      "이름: 김민수 나이: 10\n",
      "이름: 이철희 나이: 13\n"
     ]
    }
   ],
   "source": [
    "print(\"이름: {} 나이: {}\".format(name1, age1))\n",
    "print(\"이름: {} 나이: {}\".format(name2, age2))"
   ]
  },
  {
   "cell_type": "markdown",
   "id": "55acba39",
   "metadata": {},
   "source": [
    "037 문자열 출력\n",
    "파이썬 3.6부터 지원하는 f-string을 사용해서 035번 문제를 다시 풀어보세요."
   ]
  },
  {
   "cell_type": "code",
   "execution_count": 125,
   "id": "7058a046",
   "metadata": {},
   "outputs": [
    {
     "name": "stdout",
     "output_type": "stream",
     "text": [
      "이름: 김민수 나이: 10\n",
      "이름: 이철희 나이: 13\n"
     ]
    }
   ],
   "source": [
    "print(f'이름: {name1} 나이: {age1}')\n",
    "print(f'이름: {name2} 나이: {age2}')"
   ]
  },
  {
   "cell_type": "markdown",
   "id": "90707548",
   "metadata": {},
   "source": [
    "038 컴마 제거하기\n",
    "삼성전자의 상장주식수가 다음과 같습니다. 컴마를 제거한 후 이를 정수 타입으로 변환해보세요.#\n",
    "\n",
    "상장주식수 = \"5,969,782,550\""
   ]
  },
  {
   "cell_type": "code",
   "execution_count": 143,
   "id": "d9262c3d",
   "metadata": {},
   "outputs": [
    {
     "name": "stdout",
     "output_type": "stream",
     "text": [
      "<class 'int'>\n"
     ]
    }
   ],
   "source": [
    "상장주식수 = \"5,969,782,550\"\n",
    "a = 상장주식수.replace(\",\",\"\")\n",
    "int(a)\n",
    "print(type(int(a)))"
   ]
  },
  {
   "cell_type": "markdown",
   "id": "5744a1c7",
   "metadata": {},
   "source": [
    "039 문자열 슬라이싱\n",
    "다음과 같은 문자열에서 '2020/03'만 출력하세요.\n",
    "\n",
    "분기 = \"2020/03(E) (IFRS연결)\""
   ]
  },
  {
   "cell_type": "code",
   "execution_count": 150,
   "id": "9aa7de72",
   "metadata": {},
   "outputs": [
    {
     "name": "stdout",
     "output_type": "stream",
     "text": [
      "2020/03\n"
     ]
    }
   ],
   "source": [
    "분기 = \"2020/03(E) (IFRS연결)\"\n",
    "print(분기[0:7])"
   ]
  },
  {
   "cell_type": "markdown",
   "id": "c6394e93",
   "metadata": {},
   "source": [
    "040 strip 메서드\n",
    "문자열의 좌우의 공백이 있을 때 이를 제거해보세요.\n",
    "\n",
    "data = \"   삼성전자    \""
   ]
  },
  {
   "cell_type": "code",
   "execution_count": 158,
   "id": "1624272e",
   "metadata": {},
   "outputs": [
    {
     "name": "stdout",
     "output_type": "stream",
     "text": [
      "삼성전자\n"
     ]
    }
   ],
   "source": [
    "data = \"   삼성전자    \"\n",
    "data1 = data.strip()\n",
    "print(data1)"
   ]
  },
  {
   "cell_type": "markdown",
   "id": "dad21376",
   "metadata": {},
   "source": [
    "041 upper 메서드\n",
    "다음과 같은 문자열이 있을 때 이를 대문자 BTC_KRW로 변경하세요.\n",
    "\n",
    "ticker = \"btc_krw\""
   ]
  },
  {
   "cell_type": "code",
   "execution_count": 5,
   "id": "b008e394",
   "metadata": {},
   "outputs": [
    {
     "name": "stdout",
     "output_type": "stream",
     "text": [
      "BTC_KRW\n"
     ]
    }
   ],
   "source": [
    "ticker = \"btc_krw\"\n",
    "print(ticker.upper())"
   ]
  },
  {
   "cell_type": "markdown",
   "id": "863da483",
   "metadata": {},
   "source": [
    "042 lower 메서드\n",
    "다음과 같은 문자열이 있을 때 이를 소문자 btc_krw로 변경하세요.\n",
    "\n",
    "ticker = \"BTC_KRW\""
   ]
  },
  {
   "cell_type": "code",
   "execution_count": 6,
   "id": "9061b057",
   "metadata": {},
   "outputs": [
    {
     "name": "stdout",
     "output_type": "stream",
     "text": [
      "btc_krw\n"
     ]
    }
   ],
   "source": [
    "ticker = \"btc_krw\"\n",
    "print(ticker.lower())"
   ]
  },
  {
   "cell_type": "markdown",
   "id": "172253b0",
   "metadata": {},
   "source": [
    "043 capitalize 메서드\n",
    "문자열 'hello'가 있을 때 이를 'Hello'로 변경해보세요."
   ]
  },
  {
   "cell_type": "code",
   "execution_count": 4,
   "id": "11369218",
   "metadata": {},
   "outputs": [
    {
     "data": {
      "text/plain": [
       "'Hello'"
      ]
     },
     "execution_count": 4,
     "metadata": {},
     "output_type": "execute_result"
    }
   ],
   "source": [
    "string = 'hello'\n",
    "string.replace('h', 'H')"
   ]
  },
  {
   "cell_type": "code",
   "execution_count": 9,
   "id": "324d94bc",
   "metadata": {},
   "outputs": [],
   "source": [
    "a = 'hello'\n",
    "a = a.capitalize()"
   ]
  },
  {
   "cell_type": "markdown",
   "id": "b00df2b1",
   "metadata": {},
   "source": [
    "044 endswith 메서드\n",
    "파일 이름이 문자열로 저장되어 있을 때 endswith 메서드를 사용해서 파일 이름이 'xlsx'로 끝나는지 확인해보세요.#\n",
    "\n",
    "file_name = \"보고서.xlsx\""
   ]
  },
  {
   "cell_type": "code",
   "execution_count": 14,
   "id": "015b6f5c",
   "metadata": {},
   "outputs": [
    {
     "data": {
      "text/plain": [
       "True"
      ]
     },
     "execution_count": 14,
     "metadata": {},
     "output_type": "execute_result"
    }
   ],
   "source": [
    "file_name = \"보고서.xlsx\"\n",
    "file_name.endswith('xlsx')"
   ]
  },
  {
   "cell_type": "markdown",
   "id": "9dcb490b",
   "metadata": {},
   "source": [
    "045 endswith 메서드\n",
    "파일 이름이 문자열로 저장되어 있을 때 endswith 메서드를 사용해서 파일 이름이 'xlsx' 또는 'xls'로 끝나는지 확인해보세요.\n",
    "\n",
    "file_name = \"보고서.xlsx\""
   ]
  },
  {
   "cell_type": "code",
   "execution_count": 17,
   "id": "6b841513",
   "metadata": {},
   "outputs": [
    {
     "data": {
      "text/plain": [
       "True"
      ]
     },
     "execution_count": 17,
     "metadata": {},
     "output_type": "execute_result"
    }
   ],
   "source": [
    "file_name = \"보고서.xlsx\"\n",
    "file_name.endswith(('xlsx', 'xls'))"
   ]
  },
  {
   "cell_type": "markdown",
   "id": "a6baf68f",
   "metadata": {},
   "source": [
    "046 startswith 메서드\n",
    "파일 이름이 문자열로 저장되어 있을 때 startswith 메서드를 사용해서 파일 이름이 '2020'로 시작하는지 확인해보세요.\n",
    "\n",
    "file_name = \"2020_보고서.xlsx\""
   ]
  },
  {
   "cell_type": "code",
   "execution_count": 18,
   "id": "bf7d351b",
   "metadata": {},
   "outputs": [
    {
     "data": {
      "text/plain": [
       "True"
      ]
     },
     "execution_count": 18,
     "metadata": {},
     "output_type": "execute_result"
    }
   ],
   "source": [
    "file_name = \"2020_보고서.xlsx\"\n",
    "file_name.startswith('2020')"
   ]
  },
  {
   "cell_type": "markdown",
   "id": "a3ccc15b",
   "metadata": {},
   "source": [
    "047 split 메서드\n",
    "다음과 같은 문자열이 있을 때 공백을 기준으로 문자열을 나눠보세요.#\n",
    "\n",
    "a = \"hello world\""
   ]
  },
  {
   "cell_type": "code",
   "execution_count": 21,
   "id": "20094962",
   "metadata": {},
   "outputs": [
    {
     "data": {
      "text/plain": [
       "['hello', 'world']"
      ]
     },
     "execution_count": 21,
     "metadata": {},
     "output_type": "execute_result"
    }
   ],
   "source": [
    "a = \"hello world\"\n",
    "a.split()"
   ]
  },
  {
   "cell_type": "markdown",
   "id": "20b25a7f",
   "metadata": {},
   "source": [
    "048 split 메서드\n",
    "다음과 같이 문자열이 있을 때 btc와 krw로 나눠보세요.\n",
    "\n",
    "ticker = \"btc_krw\""
   ]
  },
  {
   "cell_type": "code",
   "execution_count": 22,
   "id": "b21cc57e",
   "metadata": {},
   "outputs": [
    {
     "data": {
      "text/plain": [
       "['btc', 'krw']"
      ]
     },
     "execution_count": 22,
     "metadata": {},
     "output_type": "execute_result"
    }
   ],
   "source": [
    "ticker = \"btc_krw\"\n",
    "ticker.split(\"_\")"
   ]
  },
  {
   "cell_type": "markdown",
   "id": "687f9910",
   "metadata": {},
   "source": [
    "049 split 메서드\n",
    "다음과 같이 날짜를 표현하는 문자열이 있을 때 연도, 월, 일로 나눠보세요.\n",
    "\n",
    "date = \"2020-05-01\""
   ]
  },
  {
   "cell_type": "code",
   "execution_count": 23,
   "id": "ca47bd5e",
   "metadata": {},
   "outputs": [
    {
     "data": {
      "text/plain": [
       "['2020', '05', '01']"
      ]
     },
     "execution_count": 23,
     "metadata": {},
     "output_type": "execute_result"
    }
   ],
   "source": [
    "date = \"2020-05-01\"\n",
    "date.split(\"-\")"
   ]
  },
  {
   "cell_type": "markdown",
   "id": "c82bc0ab",
   "metadata": {},
   "source": [
    "050 rstrip 메서드\n",
    "문자열의 오른쪽에 공백이 있을 때 이를 제거해보세요.\n",
    "\n",
    "data = \"039490     \""
   ]
  },
  {
   "cell_type": "code",
   "execution_count": 24,
   "id": "22a82ef8",
   "metadata": {},
   "outputs": [
    {
     "data": {
      "text/plain": [
       "'039490'"
      ]
     },
     "execution_count": 24,
     "metadata": {},
     "output_type": "execute_result"
    }
   ],
   "source": [
    "data = \"039490 \"\n",
    "data.rstrip(\" \")"
   ]
  },
  {
   "cell_type": "markdown",
   "id": "6b7903af",
   "metadata": {},
   "source": [
    "## 04. 파이썬 리스트"
   ]
  },
  {
   "cell_type": "markdown",
   "id": "dbec92df",
   "metadata": {},
   "source": [
    "051 리스트 생성\n",
    "2016년 11월 영화 예매 순위 기준 top3는 다음과 같습니다. 영화 제목을 movie_rank 이름의 리스트에 저장해보세요. (순위 정보는 저장하지 않습니다.)\n",
    "\n",
    "순위\t영화\n",
    "1\t닥터 스트레인지\n",
    "2\t스플릿\n",
    "3\t럭키"
   ]
  },
  {
   "cell_type": "code",
   "execution_count": 27,
   "id": "2b09b468",
   "metadata": {},
   "outputs": [
    {
     "name": "stdout",
     "output_type": "stream",
     "text": [
      "['닥터스트레인지', '스플릿', '럭키']\n"
     ]
    }
   ],
   "source": [
    "movie_rank = ['닥터스트레인지', '스플릿', '럭키']\n",
    "print(movie_rank)"
   ]
  },
  {
   "cell_type": "markdown",
   "id": "721524d8",
   "metadata": {},
   "source": [
    "052 리스트에 원소 추가\n",
    "051의 movie_rank 리스트에 \"배트맨\"을 추가하라."
   ]
  },
  {
   "cell_type": "code",
   "execution_count": 32,
   "id": "e1bdf284",
   "metadata": {},
   "outputs": [
    {
     "name": "stdout",
     "output_type": "stream",
     "text": [
      "['닥터스트레인지', '스플릿', '럭키', '배트맨']\n"
     ]
    }
   ],
   "source": [
    "movie_rank = ['닥터스트레인지', '스플릿', '럭키']\n",
    "movie_rank.append('배트맨')\n",
    "print(movie_rank)"
   ]
  },
  {
   "cell_type": "markdown",
   "id": "f93a5dda",
   "metadata": {},
   "source": [
    "053\n",
    "movie_rank 리스트에는 아래와 같이 네 개의 영화 제목이 바인딩되어 있다. \"슈퍼맨\"을 \"닥터 스트레인지\"와 \"스플릿\" 사이에 추가하라.\n",
    "\n",
    "movie_rank = ['닥터 스트레인지', '스플릿', '럭키', '배트맨']"
   ]
  },
  {
   "cell_type": "code",
   "execution_count": 34,
   "id": "dd152cfe",
   "metadata": {},
   "outputs": [
    {
     "name": "stdout",
     "output_type": "stream",
     "text": [
      "['닥터스트레인지', '슈퍼맨', '스플릿', '럭키', '배트맨']\n"
     ]
    }
   ],
   "source": [
    "movie_rank = ['닥터스트레인지', '스플릿', '럭키']\n",
    "movie_rank.append('배트맨')\n",
    "movie_rank.insert(1, \"슈퍼맨\")\n",
    "print(movie_rank)"
   ]
  },
  {
   "cell_type": "markdown",
   "id": "ece4e892",
   "metadata": {},
   "source": [
    "054\n",
    "movie_rank 리스트에서 '럭키'를 삭제하라.#\n",
    "\n",
    "movie_rank = ['닥터 스트레인지', '슈퍼맨', '스플릿', '럭키', '배트맨']"
   ]
  },
  {
   "cell_type": "code",
   "execution_count": 38,
   "id": "ba466741",
   "metadata": {},
   "outputs": [
    {
     "name": "stdout",
     "output_type": "stream",
     "text": [
      "['닥터 스트레인지', '슈퍼맨', '스플릿', '배트맨']\n"
     ]
    }
   ],
   "source": [
    "movie_rank = ['닥터 스트레인지', '슈퍼맨', '스플릿', '럭키', '배트맨']\n",
    "del movie_rank[3]\n",
    "print(movie_rank)"
   ]
  },
  {
   "cell_type": "markdown",
   "id": "9572d1ba",
   "metadata": {},
   "source": [
    "055\n",
    "movie_rank 리스트에서 '스플릿' 과 '배트맨'을 를 삭제하라.#\n",
    "\n",
    "movie_rank = ['닥터 스트레인지', '슈퍼맨', '스플릿', '배트맨']"
   ]
  },
  {
   "cell_type": "code",
   "execution_count": 44,
   "id": "4e227e69",
   "metadata": {},
   "outputs": [
    {
     "name": "stdout",
     "output_type": "stream",
     "text": [
      "['닥터 스트레인지', '슈퍼맨']\n"
     ]
    }
   ],
   "source": [
    "movie_rank = ['닥터 스트레인지', '슈퍼맨', '스플릿', '배트맨']\n",
    "del movie_rank[2]\n",
    "del movie_rank[2]\n",
    "print(movie_rank)"
   ]
  },
  {
   "cell_type": "markdown",
   "id": "b8a7e772",
   "metadata": {},
   "source": [
    "061\n",
    "price 변수에는 날짜와 종가 정보가 저장돼 있다. 날짜 정보를 제외하고 가격 정보만을 출력하라. (힌트 : 슬라이싱)\n",
    "\n",
    "price = ['20180728', 100, 130, 140, 150, 160, 170]"
   ]
  },
  {
   "cell_type": "code",
   "execution_count": 46,
   "id": "5dd99e28",
   "metadata": {},
   "outputs": [
    {
     "name": "stdout",
     "output_type": "stream",
     "text": [
      "[100, 130, 140, 150, 160, 170]\n"
     ]
    }
   ],
   "source": [
    "price = ['20180728', 100, 130, 140, 150, 160, 170]\n",
    "del price[0]\n",
    "print(price)"
   ]
  },
  {
   "cell_type": "code",
   "execution_count": 48,
   "id": "9b64850b",
   "metadata": {},
   "outputs": [
    {
     "name": "stdout",
     "output_type": "stream",
     "text": [
      "[100, 130, 140, 150, 160, 170]\n"
     ]
    }
   ],
   "source": [
    "price = ['20180728', 100, 130, 140, 150, 160, 170]\n",
    "print(price[1:])"
   ]
  },
  {
   "cell_type": "markdown",
   "id": "ab7089cd",
   "metadata": {},
   "source": [
    "062\n",
    "슬라이싱을 사용해서 홀수만 출력하라.#\n",
    "\n",
    "nums = [1, 2, 3, 4, 5, 6, 7, 8, 9, 10]"
   ]
  },
  {
   "cell_type": "code",
   "execution_count": 50,
   "id": "7f8f6047",
   "metadata": {},
   "outputs": [
    {
     "name": "stdout",
     "output_type": "stream",
     "text": [
      "[1, 3, 5, 7, 9]\n"
     ]
    }
   ],
   "source": [
    "nums = [1, 2, 3, 4, 5, 6, 7, 8, 9, 10]\n",
    "print(nums[::2])"
   ]
  },
  {
   "cell_type": "code",
   "execution_count": null,
   "id": "e6006013",
   "metadata": {},
   "outputs": [],
   "source": [
    "063\n",
    "슬라이싱을 사용해서 짝수만 출력하라.\n",
    "\n",
    "nums = [1, 2, 3, 4, 5, 6, 7, 8, 9, 10]"
   ]
  },
  {
   "cell_type": "code",
   "execution_count": 52,
   "id": "d50af275",
   "metadata": {},
   "outputs": [
    {
     "name": "stdout",
     "output_type": "stream",
     "text": [
      "[2, 4, 6, 8, 10]\n"
     ]
    }
   ],
   "source": [
    "nums = [1, 2, 3, 4, 5, 6, 7, 8, 9, 10]\n",
    "print(nums[1::2])"
   ]
  },
  {
   "cell_type": "markdown",
   "id": "6fd79b76",
   "metadata": {},
   "source": [
    "064\n",
    "슬라이싱을 사용해서 리스트의 숫자를 역 방향으로 출력하라.#\n",
    "\n",
    "nums = [1, 2, 3, 4, 5]"
   ]
  },
  {
   "cell_type": "code",
   "execution_count": 58,
   "id": "136505f4",
   "metadata": {},
   "outputs": [
    {
     "data": {
      "text/plain": [
       "[5, 4, 3, 2, 1]"
      ]
     },
     "execution_count": 58,
     "metadata": {},
     "output_type": "execute_result"
    }
   ],
   "source": [
    "nums = [1, 2, 3, 4, 5]\n",
    "nums.reverse()\n",
    "nums"
   ]
  },
  {
   "cell_type": "markdown",
   "id": "115f2751",
   "metadata": {},
   "source": [
    "065\n",
    "interest 리스트에는 아래의 데이터가 바인딩되어 있다.\n",
    "\n",
    "interest = ['삼성전자', 'LG전자', 'Naver']\n",
    "interest 리스트를 사용하여 아래와 같이 화면에 출력하라.\n",
    "\n",
    "출력 예시:\n",
    "삼성전자 Naver"
   ]
  },
  {
   "cell_type": "code",
   "execution_count": 63,
   "id": "73d5a815",
   "metadata": {},
   "outputs": [
    {
     "data": {
      "text/plain": [
       "['삼성전자', 'Naver']"
      ]
     },
     "execution_count": 63,
     "metadata": {},
     "output_type": "execute_result"
    }
   ],
   "source": [
    "interest = ['삼성전자', 'LG전자', 'Naver']\n",
    "interest.remove('LG전자')\n",
    "interest"
   ]
  },
  {
   "cell_type": "markdown",
   "id": "7c66eda4",
   "metadata": {},
   "source": [
    "066 join 메서드\n",
    "interest 리스트에는 아래의 데이터가 바인딩되어 있다.\n",
    "\n",
    "interest = ['삼성전자', 'LG전자', 'Naver', 'SK하이닉스', '미래에셋대우']\n",
    "interest 리스트를 사용하여 아래와 같이 화면에 출력하라.#\n",
    "\n",
    "출력 예시:\n",
    "삼성전자 LG전자 Naver SK하이닉스 미래에셋대우"
   ]
  },
  {
   "cell_type": "code",
   "execution_count": 3,
   "id": "4a058083",
   "metadata": {},
   "outputs": [
    {
     "name": "stdout",
     "output_type": "stream",
     "text": [
      "삼성전자 LG전자 Naver SK하이닉스 미래에셋대우\n"
     ]
    }
   ],
   "source": [
    "interest = ['삼성전자', 'LG전자', 'Naver', 'SK하이닉스', '미래에셋대우']\n",
    "print(\" \".join(interest))"
   ]
  },
  {
   "cell_type": "markdown",
   "id": "4cf7d43d",
   "metadata": {},
   "source": [
    "067 join 메서드\n",
    "interest 리스트에는 아래의 데이터가 바인딩되어 있다.\n",
    "\n",
    "interest = ['삼성전자', 'LG전자', 'Naver', 'SK하이닉스', '미래에셋대우']\n",
    "interest 리스트를 사용하여 아래와 같이 화면에 출력하라.\n",
    "\n",
    "출력 예시:\n",
    "삼성전자/LG전자/Naver/SK하이닉스/미래에셋대우"
   ]
  },
  {
   "cell_type": "code",
   "execution_count": 7,
   "id": "4ed30357",
   "metadata": {},
   "outputs": [
    {
     "name": "stdout",
     "output_type": "stream",
     "text": [
      "삼성전자/LG전자/Naver/SK하이닉스/미래에셋대우\n"
     ]
    }
   ],
   "source": [
    "interest = ['삼성전자', 'LG전자', 'Naver', 'SK하이닉스', '미래에셋대우']\n",
    "print(\"/\". join(interest))"
   ]
  },
  {
   "cell_type": "markdown",
   "id": "cbd1de64",
   "metadata": {},
   "source": [
    "068 join 메서드\n",
    "interest 리스트에는 아래의 데이터가 바인딩되어 있다.\n",
    "\n",
    "interest = ['삼성전자', 'LG전자', 'Naver', 'SK하이닉스', '미래에셋대우']\n",
    "join() 메서드를 사용해서 interest 리스트를 아래와 같이 화면에 출력하라.\n",
    "\n",
    "출력 예시:\n",
    "삼성전자\n",
    "LG전자\n",
    "Naver\n",
    "SK하이닉스\n",
    "미래에셋대우"
   ]
  },
  {
   "cell_type": "code",
   "execution_count": 9,
   "id": "862a3385",
   "metadata": {},
   "outputs": [
    {
     "name": "stdout",
     "output_type": "stream",
     "text": [
      "삼성전자\n",
      "LG전자\n",
      "Naver\n",
      "SK하이닉스\n",
      "미래에셋대우\n"
     ]
    }
   ],
   "source": [
    "interest = ['삼성전자', 'LG전자', 'Naver', 'SK하이닉스', '미래에셋대우']\n",
    "print(\"\\n\".join(interest))"
   ]
  },
  {
   "cell_type": "markdown",
   "id": "cac1ba9e",
   "metadata": {},
   "source": [
    "069 문자열 split 메서드\n",
    "회사 이름이 슬래시 ('/')로 구분되어 하나의 문자열로 저장되어 있다.\n",
    "\n",
    "string = \"삼성전자/LG전자/Naver\"\n",
    "이를 interest 이름의 리스트로 분리 저장하라.\n",
    "\n",
    "실행 예시\n",
    ">> print(interest)\n",
    "['삼성전자', 'LG전자', 'Naver']"
   ]
  },
  {
   "cell_type": "code",
   "execution_count": 12,
   "id": "9eb5b142",
   "metadata": {},
   "outputs": [
    {
     "name": "stdout",
     "output_type": "stream",
     "text": [
      "['삼성전자', 'LG전자', 'Naver']\n"
     ]
    }
   ],
   "source": [
    "string = \"삼성전자/LG전자/Naver\"\n",
    "print(string.split(\"/\"))"
   ]
  },
  {
   "cell_type": "markdown",
   "id": "bf1f6062",
   "metadata": {},
   "source": [
    "070 리스트 정렬\n",
    "리스트에 있는 값을 오름차순으로 정렬하세요.#\n",
    "\n",
    "data = [2, 4, 3, 1, 5, 10, 9]"
   ]
  },
  {
   "cell_type": "code",
   "execution_count": 16,
   "id": "7d6dfc39",
   "metadata": {},
   "outputs": [
    {
     "data": {
      "text/plain": [
       "[1, 2, 3, 4, 5, 9, 10]"
      ]
     },
     "execution_count": 16,
     "metadata": {},
     "output_type": "execute_result"
    }
   ],
   "source": [
    "data = [2, 4, 3, 1, 5, 10, 9]\n",
    "data.sort()\n",
    "data"
   ]
  },
  {
   "cell_type": "markdown",
   "id": "34490cd5",
   "metadata": {},
   "source": [
    "## 05. 파이썬 튜플"
   ]
  },
  {
   "cell_type": "markdown",
   "id": "f6109901",
   "metadata": {},
   "source": [
    "071\n",
    "my_variable 이름의 비어있는 튜플을 만들라."
   ]
  },
  {
   "cell_type": "code",
   "execution_count": 22,
   "id": "5633fb9d",
   "metadata": {},
   "outputs": [],
   "source": [
    "my_variable = ()"
   ]
  },
  {
   "cell_type": "code",
   "execution_count": 23,
   "id": "965c4bdc",
   "metadata": {},
   "outputs": [
    {
     "name": "stdout",
     "output_type": "stream",
     "text": [
      "<class 'tuple'>\n"
     ]
    }
   ],
   "source": [
    "print(type(my_variable))"
   ]
  },
  {
   "cell_type": "markdown",
   "id": "359f521a",
   "metadata": {},
   "source": [
    "2016년 11월 영화 예매 순위 기준 top3는 다음과 같다. 영화 제목을 movie_rank 이름의 튜플에 저장하라. (순위 정보는 저장하지 않는다.)\n",
    "\n",
    "순위\t영화\n",
    "1\t닥터 스트레인지\n",
    "2\t스플릿\n",
    "3\t럭키"
   ]
  },
  {
   "cell_type": "code",
   "execution_count": 26,
   "id": "83712161",
   "metadata": {},
   "outputs": [
    {
     "name": "stdout",
     "output_type": "stream",
     "text": [
      "('닥터스트레인지', '스플릿', '럭키')\n"
     ]
    }
   ],
   "source": [
    "movie_rank = ('닥터스트레인지', '스플릿', '럭키')\n",
    "print(movie_rank)"
   ]
  },
  {
   "cell_type": "markdown",
   "id": "bb49a84e",
   "metadata": {},
   "source": [
    "073\n",
    "숫자 1 이 저장된 튜플을 생성하라.#"
   ]
  },
  {
   "cell_type": "code",
   "execution_count": 28,
   "id": "b25c08c1",
   "metadata": {},
   "outputs": [
    {
     "data": {
      "text/plain": [
       "tuple"
      ]
     },
     "execution_count": 28,
     "metadata": {},
     "output_type": "execute_result"
    }
   ],
   "source": [
    "t = (1, )\n",
    "type(t)"
   ]
  },
  {
   "cell_type": "markdown",
   "id": "d84617eb",
   "metadata": {},
   "source": [
    "074\n",
    "다음 코드를 실행해보고 오류가 발생하는 원인을 설명하라.\n",
    "\n",
    ">> t = (1, 2, 3)\n",
    ">> t[0] = 'a'\n",
    "Traceback (most recent call last):\n",
    "  File \"<pyshell#46>\", line 1, in <module>\n",
    "    t[0] = 'a'\n",
    "TypeError: 'tuple' object does not support item assignment"
   ]
  },
  {
   "cell_type": "code",
   "execution_count": null,
   "id": "38e42a00",
   "metadata": {},
   "outputs": [],
   "source": [
    "tuple은 원소(element)의 값을 변경할 수 없습니다."
   ]
  },
  {
   "cell_type": "markdown",
   "id": "4f437465",
   "metadata": {},
   "source": [
    "075\n",
    "아래와 같이 t에는 1, 2, 3, 4 데이터가 바인딩되어 있다. t가 바인딩하는 데이터 타입은 무엇인가?\n",
    "\n",
    "t = 1, 2, 3, 4"
   ]
  },
  {
   "cell_type": "code",
   "execution_count": 29,
   "id": "10fd0e6a",
   "metadata": {},
   "outputs": [],
   "source": [
    "t = 1, 2, 3, 4"
   ]
  },
  {
   "cell_type": "code",
   "execution_count": 30,
   "id": "9fe0c06a",
   "metadata": {},
   "outputs": [
    {
     "data": {
      "text/plain": [
       "tuple"
      ]
     },
     "execution_count": 30,
     "metadata": {},
     "output_type": "execute_result"
    }
   ],
   "source": [
    "type(t)"
   ]
  },
  {
   "cell_type": "markdown",
   "id": "9e167a77",
   "metadata": {},
   "source": [
    "076\n",
    "변수 t에는 아래와 같은 값이 저장되어 있다. 변수 t가 ('A', 'b', 'c') 튜플을 가리키도록 수정 하라.\n",
    "\n",
    "t = ('a', 'b', 'c')"
   ]
  },
  {
   "cell_type": "code",
   "execution_count": 31,
   "id": "07c12bfb",
   "metadata": {},
   "outputs": [],
   "source": [
    "t = ('a', 'b', 'c')\n",
    "t = ('A', 'b', 'c')"
   ]
  },
  {
   "cell_type": "code",
   "execution_count": 32,
   "id": "81fe8964",
   "metadata": {},
   "outputs": [
    {
     "name": "stdout",
     "output_type": "stream",
     "text": [
      "('A', 'b', 'c')\n"
     ]
    }
   ],
   "source": [
    "print(t)"
   ]
  },
  {
   "cell_type": "markdown",
   "id": "c116b91b",
   "metadata": {},
   "source": [
    "077\n",
    "다음 튜플을 리스트로 변환하라.#\n",
    "\n",
    "interest = ('삼성전자', 'LG전자', 'SK Hynix')"
   ]
  },
  {
   "cell_type": "code",
   "execution_count": 36,
   "id": "cfcfb31c",
   "metadata": {},
   "outputs": [
    {
     "name": "stdout",
     "output_type": "stream",
     "text": [
      "<class 'list'>\n"
     ]
    }
   ],
   "source": [
    "interest = ('삼성전자', 'LG전자', 'SK Hynix')\n",
    "data = list(interest)\n",
    "print(type(data))"
   ]
  },
  {
   "cell_type": "markdown",
   "id": "2842aa63",
   "metadata": {},
   "source": [
    "078\n",
    "다음 리스트를 튜플로 변경하라.\n",
    "\n",
    "interest = ['삼성전자', 'LG전자', 'SK Hynix']"
   ]
  },
  {
   "cell_type": "code",
   "execution_count": 37,
   "id": "31032cab",
   "metadata": {},
   "outputs": [
    {
     "name": "stdout",
     "output_type": "stream",
     "text": [
      "<class 'tuple'>\n"
     ]
    }
   ],
   "source": [
    "interest = ['삼성전자', 'LG전자', 'SK Hynix']\n",
    "data = tuple(interest)\n",
    "print(type(data))"
   ]
  },
  {
   "cell_type": "markdown",
   "id": "c94a9ba9",
   "metadata": {},
   "source": [
    "079 튜플 언팩킹\n",
    "다음 코드의 실행 결과를 예상하라.\n",
    "\n",
    "temp = ('apple', 'banana', 'cake')\n",
    "a, b, c = temp\n",
    "print(a, b, c)"
   ]
  },
  {
   "cell_type": "code",
   "execution_count": 38,
   "id": "240132e2",
   "metadata": {},
   "outputs": [
    {
     "name": "stdout",
     "output_type": "stream",
     "text": [
      "apple banana cake\n"
     ]
    }
   ],
   "source": [
    "temp = ('apple', 'banana', 'cake')\n",
    "a, b, c = temp\n",
    "print(a, b, c)"
   ]
  },
  {
   "cell_type": "markdown",
   "id": "27011d4d",
   "metadata": {},
   "source": [
    "080 range 함수\n",
    "1 부터 99까지의 정수 중 짝수만 저장된 튜플을 생성하라.#\n",
    "\n",
    "(2, 4, 6, 8 ... 98)"
   ]
  },
  {
   "cell_type": "code",
   "execution_count": 39,
   "id": "d02e0fad",
   "metadata": {},
   "outputs": [
    {
     "name": "stdout",
     "output_type": "stream",
     "text": [
      "(2, 4, 6, 8, 10, 12, 14, 16, 18, 20, 22, 24, 26, 28, 30, 32, 34, 36, 38, 40, 42, 44, 46, 48, 50, 52, 54, 56, 58, 60, 62, 64, 66, 68, 70, 72, 74, 76, 78, 80, 82, 84, 86, 88, 90, 92, 94, 96, 98)\n"
     ]
    }
   ],
   "source": [
    "data = tuple(range(2, 100, 2))\n",
    "print(data)"
   ]
  }
 ],
 "metadata": {
  "kernelspec": {
   "display_name": "Python 3 (ipykernel)",
   "language": "python",
   "name": "python3"
  },
  "language_info": {
   "codemirror_mode": {
    "name": "ipython",
    "version": 3
   },
   "file_extension": ".py",
   "mimetype": "text/x-python",
   "name": "python",
   "nbconvert_exporter": "python",
   "pygments_lexer": "ipython3",
   "version": "3.11.5"
  }
 },
 "nbformat": 4,
 "nbformat_minor": 5
}
