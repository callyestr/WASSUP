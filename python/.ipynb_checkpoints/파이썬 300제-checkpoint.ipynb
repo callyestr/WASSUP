{
 "cells": [
  {
   "cell_type": "markdown",
   "id": "566f3090",
   "metadata": {},
   "source": [
    "## 01. 파이썬 시작하기"
   ]
  },
  {
   "cell_type": "markdown",
   "id": "76b6b7b7",
   "metadata": {},
   "source": [
    "001 print 기초\n",
    "화면에 Hello World 문자열을 출력하세요."
   ]
  },
  {
   "cell_type": "code",
   "execution_count": 2,
   "id": "1a3d96eb",
   "metadata": {},
   "outputs": [
    {
     "name": "stdout",
     "output_type": "stream",
     "text": [
      "Hello World\n"
     ]
    }
   ],
   "source": [
    "print(\"Hello World\")"
   ]
  },
  {
   "cell_type": "markdown",
   "id": "66dbd348",
   "metadata": {},
   "source": [
    "002 print 기초\n",
    "화면에 Mary's cosmetics을 출력하세요. (중간에 '가 있음에 주의하세요)"
   ]
  },
  {
   "cell_type": "code",
   "execution_count": 3,
   "id": "c9b138cb",
   "metadata": {},
   "outputs": [
    {
     "name": "stdout",
     "output_type": "stream",
     "text": [
      "Mary's cosmetics\n"
     ]
    }
   ],
   "source": [
    "print(\"Mary's cosmetics\")"
   ]
  },
  {
   "cell_type": "markdown",
   "id": "bcbf63de",
   "metadata": {},
   "source": [
    "003 print 기초\n",
    "화면에 아래 문장을 출력하세요. (중간에 \"가 있음에 주의하세요.)\n",
    "\n",
    "신씨가 소리질렀다. \"도둑이야\"."
   ]
  },
  {
   "cell_type": "code",
   "execution_count": 68,
   "id": "4c834913",
   "metadata": {},
   "outputs": [
    {
     "name": "stdout",
     "output_type": "stream",
     "text": [
      "신씨가 소리질렀다. \"도둑이야\"\n"
     ]
    }
   ],
   "source": [
    "print('신씨가 소리질렀다. \"도둑이야\"')"
   ]
  },
  {
   "cell_type": "markdown",
   "id": "86bfa80c",
   "metadata": {},
   "source": [
    "004 print 기초\n",
    "화면에 C:\\Windows를 출력하세요."
   ]
  },
  {
   "cell_type": "code",
   "execution_count": 9,
   "id": "bee69576",
   "metadata": {},
   "outputs": [
    {
     "name": "stdout",
     "output_type": "stream",
     "text": [
      "C:\\Windows\n"
     ]
    }
   ],
   "source": [
    "print(\"C:\\Windows\")"
   ]
  },
  {
   "cell_type": "markdown",
   "id": "72dfbede",
   "metadata": {},
   "source": [
    "005 print 탭과 줄바꿈\n",
    "다음 코드를 실행해보고 \\t와 \\n의 역할을 설명해보세요.\n",
    "\n",
    "print(\"안녕하세요.\\n만나서\\t\\t반갑습니다.\")"
   ]
  },
  {
   "cell_type": "code",
   "execution_count": 11,
   "id": "b715bb8e",
   "metadata": {
    "scrolled": true
   },
   "outputs": [
    {
     "name": "stdout",
     "output_type": "stream",
     "text": [
      "안녕하세요.\n",
      "만나서\t\t반갑습니다.\n"
     ]
    }
   ],
   "source": [
    "print(\"안녕하세요.\\n만나서\\t\\t반갑습니다.\") # \\n은 줄바꿈 \\t는 탭"
   ]
  },
  {
   "cell_type": "markdown",
   "id": "3a0f335a",
   "metadata": {},
   "source": [
    "006 print 여러 데이터 출력\n",
    "print 함수에 두 개의 단어를 입력한 예제입니다. 아래 코드의 출력 결과를 예상해봅시다."
   ]
  },
  {
   "cell_type": "code",
   "execution_count": 69,
   "id": "8b18f313",
   "metadata": {},
   "outputs": [
    {
     "name": "stdout",
     "output_type": "stream",
     "text": [
      "오늘은 일요일\n"
     ]
    }
   ],
   "source": [
    "print(\"오늘은\", \"일요일\")"
   ]
  },
  {
   "cell_type": "markdown",
   "id": "15fe40ea",
   "metadata": {},
   "source": [
    "007 print 기초\n",
    "print() 함수를 사용하여 다음과 같이 출력하세요.\n",
    "\n",
    "naver;kakao;sk;samsung"
   ]
  },
  {
   "cell_type": "code",
   "execution_count": 75,
   "id": "b004296a",
   "metadata": {},
   "outputs": [
    {
     "name": "stdout",
     "output_type": "stream",
     "text": [
      "naver;kakao;sk;samsung\n"
     ]
    }
   ],
   "source": [
    "print(\"naver\", \"kakao\", \"sk\", \"samsung\", sep = \";\")"
   ]
  },
  {
   "cell_type": "markdown",
   "id": "746d860c",
   "metadata": {},
   "source": [
    "008 print 기초\n",
    "print() 함수를 사용하여 다음과 같이 출력하세요.\n",
    "\n",
    "naver/kakao/sk/samsung"
   ]
  },
  {
   "cell_type": "code",
   "execution_count": 74,
   "id": "4d5fb253",
   "metadata": {},
   "outputs": [
    {
     "name": "stdout",
     "output_type": "stream",
     "text": [
      "naver/kakao/sk/samsung\n"
     ]
    }
   ],
   "source": [
    "print(\"naver\", \"kakao\", \"sk\", \"samsung\", sep = \"/\")"
   ]
  },
  {
   "cell_type": "markdown",
   "id": "3db54979",
   "metadata": {},
   "source": [
    "009 print 줄바꿈\n",
    "다음 코드를 수정하여 줄바꿈이 없이 출력하세요. (힌트: end='') print 함수는 두 번 사용합니다. 세미콜론 (;)은 한줄에 여러 개의 명령을 작성하기 위해 사용합니다.#\n",
    "\n",
    "print(\"first\");print(\"second\")"
   ]
  },
  {
   "cell_type": "code",
   "execution_count": 79,
   "id": "b265d9c5",
   "metadata": {},
   "outputs": [
    {
     "name": "stdout",
     "output_type": "stream",
     "text": [
      "firstsecond\n"
     ]
    }
   ],
   "source": [
    "print(\"first\", end =\"\"); print(\"second\")"
   ]
  },
  {
   "cell_type": "markdown",
   "id": "21a488b0",
   "metadata": {},
   "source": [
    "010 연산 결과 출력\n",
    "5/3의 결과를 화면에 출력하세요."
   ]
  },
  {
   "cell_type": "code",
   "execution_count": 80,
   "id": "e87ace28",
   "metadata": {},
   "outputs": [
    {
     "name": "stdout",
     "output_type": "stream",
     "text": [
      "1.6666666666666667\n"
     ]
    }
   ],
   "source": [
    "print(5/3)"
   ]
  },
  {
   "cell_type": "markdown",
   "id": "8ef803ec",
   "metadata": {},
   "source": [
    "## 02. 파이썬 문법 리뷰"
   ]
  },
  {
   "cell_type": "markdown",
   "id": "a5e98177",
   "metadata": {},
   "source": [
    "011 변수 사용하기\n",
    "삼성전자라는 변수로 50,000원을 바인딩해보세요. 삼성전자 주식 10주를 보유하고 있을 때 총 평가금액을 출력하세요."
   ]
  },
  {
   "cell_type": "code",
   "execution_count": 15,
   "id": "d9e27f82",
   "metadata": {},
   "outputs": [
    {
     "name": "stdout",
     "output_type": "stream",
     "text": [
      "500000\n"
     ]
    }
   ],
   "source": [
    "삼성전자 = 50000\n",
    "총평가금액 = 삼성전자 * 10\n",
    "print(총평가금액)"
   ]
  },
  {
   "cell_type": "markdown",
   "id": "6794c41d",
   "metadata": {},
   "source": [
    "012 변수 사용하기\n",
    "다음 표는 삼성전자의 일부 투자정보입니다. 변수를 사용해서 시가총액, 현재가, PER 등을 바인딩해보세요.\n",
    "\n",
    "항목\t값\n",
    "시가총액\t298조\n",
    "현재가\t50,000원\n",
    "PER\t15.79"
   ]
  },
  {
   "cell_type": "code",
   "execution_count": 21,
   "id": "64cb6906",
   "metadata": {},
   "outputs": [
    {
     "name": "stdout",
     "output_type": "stream",
     "text": [
      "29800000000000 <class 'int'>\n",
      "50000 <class 'int'>\n",
      "15.79 <class 'float'>\n"
     ]
    }
   ],
   "source": [
    "시가총액 = 29800000000000\n",
    "현재가 = 50000\n",
    "PER = 15.79\n",
    "print(시가총액, type(시가총액))\n",
    "print(현재가, type(현재가))\n",
    "print(PER, type(PER))"
   ]
  },
  {
   "cell_type": "markdown",
   "id": "d9e79ad9",
   "metadata": {},
   "source": [
    "013 문자열 출력\n",
    "변수 s와 t에는 각각 문자열이 바인딩 되어있습니다.\n",
    "\n",
    ">> s = \"hello\"\n",
    ">> t = \"python\"\n",
    "두 변수를 이용하여 아래와 같이 출력해보세요.\n",
    "\n",
    "실행 예:\n",
    "hello! python"
   ]
  },
  {
   "cell_type": "code",
   "execution_count": 66,
   "id": "76695345",
   "metadata": {},
   "outputs": [
    {
     "name": "stdout",
     "output_type": "stream",
     "text": [
      "hello! python\n"
     ]
    }
   ],
   "source": [
    "s = \"hello\"\n",
    "t = \"python\"\n",
    "print(s+\"!\", t)"
   ]
  },
  {
   "cell_type": "markdown",
   "id": "5f174af3",
   "metadata": {},
   "source": [
    "014 파이썬을 이용한 값 계산\n",
    "아래 코드의 실행 결과를 예상해보세요.\n",
    "\n",
    ">> 2 + 2 * 3 "
   ]
  },
  {
   "cell_type": "code",
   "execution_count": 29,
   "id": "9571802e",
   "metadata": {},
   "outputs": [
    {
     "data": {
      "text/plain": [
       "8"
      ]
     },
     "execution_count": 29,
     "metadata": {},
     "output_type": "execute_result"
    }
   ],
   "source": [
    "2 + 2 * 3"
   ]
  },
  {
   "cell_type": "markdown",
   "id": "ceaa0239",
   "metadata": {},
   "source": [
    "015 type 함수\n",
    "type() 함수는 데이터 타입을 판별합니다. 변수 a에는 128 숫자가 바인딩돼 있어 type 함수가 int (정수)형임을 알려줍니다.\n",
    "\n",
    ">> a = 128\n",
    ">> print (type(a))\n",
    "<class 'int'>\n",
    "아래 변수에 바인딩된 값의 타입을 판별해보세요.\n",
    "\n",
    ">> a = \"132\""
   ]
  },
  {
   "cell_type": "code",
   "execution_count": 31,
   "id": "9df126a1",
   "metadata": {},
   "outputs": [
    {
     "name": "stdout",
     "output_type": "stream",
     "text": [
      "<class 'str'>\n"
     ]
    }
   ],
   "source": [
    "a = \"132\"\n",
    "print(type(a))"
   ]
  },
  {
   "cell_type": "markdown",
   "id": "6569e0fd",
   "metadata": {},
   "source": [
    "016 문자열을 정수로 변환\n",
    "문자열 '720'를 정수형으로 변환해보세요.#\n",
    "\n",
    ">> num_str = \"720\""
   ]
  },
  {
   "cell_type": "code",
   "execution_count": 36,
   "id": "0e540eac",
   "metadata": {},
   "outputs": [
    {
     "name": "stdout",
     "output_type": "stream",
     "text": [
      "720\n"
     ]
    }
   ],
   "source": [
    "num_str = \"720\" \n",
    "num_int = int(num_str)\n",
    "print(int(num_str))"
   ]
  },
  {
   "cell_type": "markdown",
   "id": "f8ea05f6",
   "metadata": {},
   "source": [
    "017 정수를 문자열 100으로 변환\n",
    "정수 100을 문자열 '100'으로 변환해보세요.#\n",
    "\n",
    "num = 100"
   ]
  },
  {
   "cell_type": "code",
   "execution_count": 48,
   "id": "a0304eb0",
   "metadata": {},
   "outputs": [
    {
     "name": "stdout",
     "output_type": "stream",
     "text": [
      "100 <class 'str'>\n"
     ]
    }
   ],
   "source": [
    "num = 100\n",
    "string = str(num)\n",
    "print(string, type(string))"
   ]
  },
  {
   "cell_type": "markdown",
   "id": "0240f047",
   "metadata": {},
   "source": [
    "018 문자열을 실수로 변환\n",
    "문자열 \"15.79\"를 실수(float) 타입으로 변환해보세요. #"
   ]
  },
  {
   "cell_type": "code",
   "execution_count": 58,
   "id": "a2cc5f78",
   "metadata": {},
   "outputs": [
    {
     "name": "stdout",
     "output_type": "stream",
     "text": [
      "15.79 <class 'float'>\n"
     ]
    }
   ],
   "source": [
    "num_string = \"15.79\"\n",
    "num_float = float(num_string)\n",
    "print(num_float, type(num_float))"
   ]
  },
  {
   "cell_type": "markdown",
   "id": "c5a15705",
   "metadata": {},
   "source": [
    "019 문자열을 정수로 변환\n",
    "year라는 변수가 문자열 타입의 연도를 바인딩하고 있습니다. 이를 정수로 변환한 후 최근 3년의 연도를 화면에 출력해보세요.\n",
    "\n",
    "year = \"2020\""
   ]
  },
  {
   "cell_type": "code",
   "execution_count": 62,
   "id": "725923e9",
   "metadata": {},
   "outputs": [
    {
     "name": "stdout",
     "output_type": "stream",
     "text": [
      "2017 2018 2019\n"
     ]
    }
   ],
   "source": [
    "year = \"2020\"\n",
    "year_int = int(year)\n",
    "print(int(year) - 3, int(year) - 2, int(year) - 1)"
   ]
  },
  {
   "cell_type": "markdown",
   "id": "cde3ee08",
   "metadata": {},
   "source": [
    "020 파이썬 계산\n",
    "에이컨이 월 48,584원에 무이자 36개월의 조건으로 홈쇼핑에서 판매되고 있습니다. 총 금액은 계산한 후 이를 화면에 출력해보세요. (변수사용하기)"
   ]
  },
  {
   "cell_type": "code",
   "execution_count": 64,
   "id": "2b1d1179",
   "metadata": {},
   "outputs": [
    {
     "name": "stdout",
     "output_type": "stream",
     "text": [
      "1749024\n"
     ]
    }
   ],
   "source": [
    "월 = 48584\n",
    "총금액 = 월 * 36\n",
    "print(총금액)"
   ]
  },
  {
   "cell_type": "code",
   "execution_count": null,
   "id": "bd5a90ad",
   "metadata": {},
   "outputs": [],
   "source": []
  },
  {
   "cell_type": "code",
   "execution_count": null,
   "id": "c8078957",
   "metadata": {},
   "outputs": [],
   "source": []
  },
  {
   "cell_type": "code",
   "execution_count": null,
   "id": "1dec5e1b",
   "metadata": {},
   "outputs": [],
   "source": []
  }
 ],
 "metadata": {
  "kernelspec": {
   "display_name": "Python 3 (ipykernel)",
   "language": "python",
   "name": "python3"
  },
  "language_info": {
   "codemirror_mode": {
    "name": "ipython",
    "version": 3
   },
   "file_extension": ".py",
   "mimetype": "text/x-python",
   "name": "python",
   "nbconvert_exporter": "python",
   "pygments_lexer": "ipython3",
   "version": "3.11.5"
  }
 },
 "nbformat": 4,
 "nbformat_minor": 5
}
