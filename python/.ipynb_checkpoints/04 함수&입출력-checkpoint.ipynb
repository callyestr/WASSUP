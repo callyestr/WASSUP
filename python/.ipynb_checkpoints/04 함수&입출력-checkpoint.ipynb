{
 "cells": [
  {
   "cell_type": "markdown",
   "id": "5b26b762",
   "metadata": {},
   "source": [
    "# 1. 함수"
   ]
  },
  {
   "cell_type": "code",
   "execution_count": 1,
   "id": "7a93cd09",
   "metadata": {},
   "outputs": [],
   "source": [
    "def add(a, b):\n",
    "    return a + b"
   ]
  },
  {
   "cell_type": "code",
   "execution_count": 2,
   "id": "0c40fb69",
   "metadata": {},
   "outputs": [
    {
     "name": "stdout",
     "output_type": "stream",
     "text": [
      "7\n"
     ]
    }
   ],
   "source": [
    "a = 3\n",
    "b = 4\n",
    "c = add(a, b)\n",
    "print(c)"
   ]
  },
  {
   "cell_type": "markdown",
   "id": "13828054",
   "metadata": {},
   "source": [
    "## 1.3 입력값과 결과값에 따른 함수의 형태"
   ]
  },
  {
   "cell_type": "markdown",
   "id": "4cf6e029",
   "metadata": {},
   "source": [
    "### 1.3.1 일반적인 함수"
   ]
  },
  {
   "cell_type": "code",
   "execution_count": 3,
   "id": "0cb71ffb",
   "metadata": {},
   "outputs": [],
   "source": [
    "def add(a, b):\n",
    "    result = a + b\n",
    "    return result"
   ]
  },
  {
   "cell_type": "code",
   "execution_count": 4,
   "id": "4221795d",
   "metadata": {},
   "outputs": [
    {
     "name": "stdout",
     "output_type": "stream",
     "text": [
      "7\n"
     ]
    }
   ],
   "source": [
    "a = add(3, 4)\n",
    "print(a)"
   ]
  },
  {
   "cell_type": "code",
   "execution_count": 5,
   "id": "df39c1f2",
   "metadata": {},
   "outputs": [
    {
     "data": {
      "text/plain": [
       "7"
      ]
     },
     "execution_count": 5,
     "metadata": {},
     "output_type": "execute_result"
    }
   ],
   "source": [
    "add(3,4)"
   ]
  },
  {
   "cell_type": "markdown",
   "id": "db8dd0ec",
   "metadata": {},
   "source": [
    "### 1.3.2 입력값이 없는 함수"
   ]
  },
  {
   "cell_type": "code",
   "execution_count": 7,
   "id": "2251e0a6",
   "metadata": {},
   "outputs": [],
   "source": [
    "def say():\n",
    "    return 'HI'"
   ]
  },
  {
   "cell_type": "code",
   "execution_count": 8,
   "id": "017a097e",
   "metadata": {},
   "outputs": [
    {
     "data": {
      "text/plain": [
       "'HI'"
      ]
     },
     "execution_count": 8,
     "metadata": {},
     "output_type": "execute_result"
    }
   ],
   "source": [
    "say()"
   ]
  },
  {
   "cell_type": "code",
   "execution_count": 9,
   "id": "ba78ea81",
   "metadata": {},
   "outputs": [
    {
     "name": "stdout",
     "output_type": "stream",
     "text": [
      "HI\n"
     ]
    }
   ],
   "source": [
    "a = say()\n",
    "print(a)"
   ]
  },
  {
   "cell_type": "markdown",
   "id": "e4587a15",
   "metadata": {},
   "source": [
    "### 1.3.3 결괏값이 없는 함수"
   ]
  },
  {
   "cell_type": "code",
   "execution_count": 10,
   "id": "68cafd19",
   "metadata": {},
   "outputs": [],
   "source": [
    "def add(a, b):\n",
    "    print(\"%d, %d의 합은 %d입니다\" % (a, b, a+b))"
   ]
  },
  {
   "cell_type": "code",
   "execution_count": 11,
   "id": "dd3c1cb7",
   "metadata": {},
   "outputs": [
    {
     "name": "stdout",
     "output_type": "stream",
     "text": [
      "3, 4의 합은 7입니다\n"
     ]
    }
   ],
   "source": [
    "add(3, 4)"
   ]
  },
  {
   "cell_type": "code",
   "execution_count": 12,
   "id": "0cbe18d7",
   "metadata": {},
   "outputs": [
    {
     "name": "stdout",
     "output_type": "stream",
     "text": [
      "3, 4의 합은 7입니다\n",
      "None\n"
     ]
    }
   ],
   "source": [
    "a = add(3, 4)\n",
    "print(a)"
   ]
  },
  {
   "cell_type": "markdown",
   "id": "deee96ed",
   "metadata": {},
   "source": [
    "### 1.3.4 입력값도, 리턴값도 없는 함수"
   ]
  },
  {
   "cell_type": "code",
   "execution_count": 13,
   "id": "b30a3dd5",
   "metadata": {},
   "outputs": [],
   "source": [
    "def say():\n",
    "    print('HI')"
   ]
  },
  {
   "cell_type": "code",
   "execution_count": 14,
   "id": "d0b83496",
   "metadata": {},
   "outputs": [
    {
     "name": "stdout",
     "output_type": "stream",
     "text": [
      "HI\n"
     ]
    }
   ],
   "source": [
    "say()"
   ]
  },
  {
   "cell_type": "markdown",
   "id": "5bfc99cd",
   "metadata": {},
   "source": [
    "## 1.4 매개변수를 지정하여 호출하기"
   ]
  },
  {
   "cell_type": "code",
   "execution_count": 15,
   "id": "75f7a6a9",
   "metadata": {},
   "outputs": [],
   "source": [
    "def sub(a, b):\n",
    "    return a - b"
   ]
  },
  {
   "cell_type": "code",
   "execution_count": 16,
   "id": "a0c91e42",
   "metadata": {},
   "outputs": [
    {
     "name": "stdout",
     "output_type": "stream",
     "text": [
      "4\n"
     ]
    }
   ],
   "source": [
    "result = sub(a=7, b=3)\n",
    "print(result)"
   ]
  },
  {
   "cell_type": "code",
   "execution_count": 17,
   "id": "3a7fec23",
   "metadata": {},
   "outputs": [
    {
     "name": "stdout",
     "output_type": "stream",
     "text": [
      "-2\n"
     ]
    }
   ],
   "source": [
    "result = sub(b=5, a=3)\n",
    "print(result)"
   ]
  },
  {
   "cell_type": "markdown",
   "id": "001335d0",
   "metadata": {},
   "source": [
    "## 1.5 입력값이 몇 개가 될지 모를 때는 어떻게 해야 할까?"
   ]
  },
  {
   "cell_type": "markdown",
   "id": "ae7769c8",
   "metadata": {},
   "source": [
    "### 1.5.1 여러 개의 입력값을 받는 함수 만들기 *args"
   ]
  },
  {
   "cell_type": "code",
   "execution_count": 26,
   "id": "ef4a380d",
   "metadata": {},
   "outputs": [],
   "source": [
    "def add_many(*args):\n",
    "    result = 0\n",
    "    print('함수 안에서 실행', args)\n",
    "    for i in args:\n",
    "        result = result + i\n",
    "    return result"
   ]
  },
  {
   "cell_type": "code",
   "execution_count": null,
   "id": "19ffb622",
   "metadata": {},
   "outputs": [],
   "source": []
  },
  {
   "cell_type": "code",
   "execution_count": 23,
   "id": "e93a53ab",
   "metadata": {},
   "outputs": [
    {
     "name": "stdout",
     "output_type": "stream",
     "text": [
      "함수 밖에서 실행 6\n"
     ]
    }
   ],
   "source": [
    "result = add_many(1, 2, 3)\n",
    "print('함수 밖에서 실행', result)"
   ]
  },
  {
   "cell_type": "code",
   "execution_count": 21,
   "id": "2bdd8f1e",
   "metadata": {},
   "outputs": [
    {
     "name": "stdout",
     "output_type": "stream",
     "text": [
      "55\n"
     ]
    }
   ],
   "source": [
    "result = add_many(1,2,3,4,5,6,7,8,9,10)\n",
    "print(result)"
   ]
  },
  {
   "cell_type": "code",
   "execution_count": 22,
   "id": "56b64c6a",
   "metadata": {},
   "outputs": [],
   "source": [
    "def add_mul(choice, *args):\n",
    "    if choice == \"add\":\n",
    "        result = 0\n",
    "        for i in args:\n",
    "            result = result + i\n",
    "    elif choice == \"mul\":\n",
    "        result = 1\n",
    "        for i in args:\n",
    "            result = result * i\n",
    "    return result"
   ]
  },
  {
   "cell_type": "code",
   "execution_count": 27,
   "id": "a248e3dd",
   "metadata": {},
   "outputs": [
    {
     "name": "stdout",
     "output_type": "stream",
     "text": [
      "15\n"
     ]
    }
   ],
   "source": [
    "result = add_mul('add', 1,2,3,4,5)\n",
    "print(result)"
   ]
  },
  {
   "cell_type": "code",
   "execution_count": 28,
   "id": "a4baaed5",
   "metadata": {},
   "outputs": [
    {
     "name": "stdout",
     "output_type": "stream",
     "text": [
      "120\n"
     ]
    }
   ],
   "source": [
    "result = add_mul('mul', 1,2,3,4,5)\n",
    "print(result)"
   ]
  },
  {
   "cell_type": "markdown",
   "id": "297b1e5c",
   "metadata": {},
   "source": [
    "### 1.5.2 키워드 매개변수, **kargs"
   ]
  },
  {
   "cell_type": "code",
   "execution_count": 29,
   "id": "f61f0c7d",
   "metadata": {},
   "outputs": [],
   "source": [
    "def print_kargs(**kargs):\n",
    "    print(kargs)"
   ]
  },
  {
   "cell_type": "code",
   "execution_count": 30,
   "id": "0b55013b",
   "metadata": {},
   "outputs": [
    {
     "name": "stdout",
     "output_type": "stream",
     "text": [
      "{}\n"
     ]
    }
   ],
   "source": [
    "print_kargs()"
   ]
  },
  {
   "cell_type": "code",
   "execution_count": 79,
   "id": "883c8a62",
   "metadata": {},
   "outputs": [
    {
     "name": "stdout",
     "output_type": "stream",
     "text": [
      "{'a': 1}\n"
     ]
    }
   ],
   "source": [
    "print_kargs(a=1)"
   ]
  },
  {
   "cell_type": "code",
   "execution_count": 33,
   "id": "96720a6b",
   "metadata": {},
   "outputs": [
    {
     "name": "stdout",
     "output_type": "stream",
     "text": [
      "{'name': 'foo', 'age': 3}\n"
     ]
    }
   ],
   "source": [
    "print_kargs(name='foo', age=3)"
   ]
  },
  {
   "cell_type": "markdown",
   "id": "2774bfb2",
   "metadata": {},
   "source": [
    "## 1.6 함수의 리턴값은 언제나 하나이다"
   ]
  },
  {
   "cell_type": "code",
   "execution_count": 34,
   "id": "2de6c0f9",
   "metadata": {},
   "outputs": [],
   "source": [
    "def add_and_mul(a,b):\n",
    "    return a+b, a*b"
   ]
  },
  {
   "cell_type": "code",
   "execution_count": 35,
   "id": "5caa2f08",
   "metadata": {},
   "outputs": [],
   "source": [
    "result = add_and_mul(3,4)"
   ]
  },
  {
   "cell_type": "code",
   "execution_count": 37,
   "id": "b5f108f3",
   "metadata": {},
   "outputs": [
    {
     "data": {
      "text/plain": [
       "(7, 12)"
      ]
     },
     "execution_count": 37,
     "metadata": {},
     "output_type": "execute_result"
    }
   ],
   "source": [
    "result"
   ]
  },
  {
   "cell_type": "code",
   "execution_count": 38,
   "id": "6e234538",
   "metadata": {},
   "outputs": [
    {
     "name": "stdout",
     "output_type": "stream",
     "text": [
      "7\n",
      "12\n"
     ]
    }
   ],
   "source": [
    "result1, result2 = add_and_mul(3,4)\n",
    "print(result1)\n",
    "print(result2)"
   ]
  },
  {
   "cell_type": "code",
   "execution_count": 39,
   "id": "1c52e6ab",
   "metadata": {},
   "outputs": [
    {
     "name": "stdout",
     "output_type": "stream",
     "text": [
      "7\n",
      "12\n"
     ]
    }
   ],
   "source": [
    "result, _ =add_and_mul(3,4)\n",
    "print(result)\n",
    "print(_)"
   ]
  },
  {
   "cell_type": "code",
   "execution_count": 42,
   "id": "469071ac",
   "metadata": {},
   "outputs": [],
   "source": [
    "def add_and_mul(a,b):\n",
    "    return a+b\n",
    "    return a*b"
   ]
  },
  {
   "cell_type": "code",
   "execution_count": 43,
   "id": "73cbfbfc",
   "metadata": {},
   "outputs": [
    {
     "name": "stdout",
     "output_type": "stream",
     "text": [
      "5\n"
     ]
    }
   ],
   "source": [
    "result = add_and_mul(2,3)\n",
    "print(result)"
   ]
  },
  {
   "cell_type": "markdown",
   "id": "4416d727",
   "metadata": {},
   "source": [
    "### 1.6.1 return의 또 다른 쓰임새"
   ]
  },
  {
   "cell_type": "code",
   "execution_count": 44,
   "id": "1a7e043e",
   "metadata": {},
   "outputs": [],
   "source": [
    "def say_nick(nick):\n",
    "    if nick == \"바보\":\n",
    "        return\n",
    "    print(\"나의 별명은 %s 입니다.\" %nick)"
   ]
  },
  {
   "cell_type": "code",
   "execution_count": 45,
   "id": "3150deff",
   "metadata": {},
   "outputs": [
    {
     "name": "stdout",
     "output_type": "stream",
     "text": [
      "나의 별명은 야호 입니다.\n"
     ]
    }
   ],
   "source": [
    "say_nick('야호')"
   ]
  },
  {
   "cell_type": "code",
   "execution_count": 46,
   "id": "3cd4a77a",
   "metadata": {},
   "outputs": [],
   "source": [
    "say_nick('바보')"
   ]
  },
  {
   "cell_type": "markdown",
   "id": "8d5527e9",
   "metadata": {},
   "source": [
    "## 1.7 매개변수에 초깃값 미리 설정하기"
   ]
  },
  {
   "cell_type": "code",
   "execution_count": 47,
   "id": "8b9cad18",
   "metadata": {},
   "outputs": [],
   "source": [
    "def say_myself(name, age, man=True):\n",
    "    print(\"나의 이름은 %s 입니다.\" % name)\n",
    "    print(\"나이는 %d살 입니다.\" % age)\n",
    "    if man:\n",
    "        print(\"남자입니다.\")\n",
    "    else:\n",
    "        print(\"여자입니다.\")"
   ]
  },
  {
   "cell_type": "code",
   "execution_count": 48,
   "id": "e072d14a",
   "metadata": {},
   "outputs": [
    {
     "name": "stdout",
     "output_type": "stream",
     "text": [
      "나의 이름은 박응용 입니다.\n",
      "나이는 27살 입니다.\n",
      "남자입니다.\n"
     ]
    }
   ],
   "source": [
    "say_myself(\"박응용\", 27)"
   ]
  },
  {
   "cell_type": "code",
   "execution_count": 49,
   "id": "3da0c1fc",
   "metadata": {},
   "outputs": [
    {
     "name": "stdout",
     "output_type": "stream",
     "text": [
      "나의 이름은 박응용 입니다.\n",
      "나이는 27살 입니다.\n",
      "남자입니다.\n"
     ]
    }
   ],
   "source": [
    "say_myself(\"박응용\", 27, True)"
   ]
  },
  {
   "cell_type": "code",
   "execution_count": 50,
   "id": "eb1370a7",
   "metadata": {},
   "outputs": [
    {
     "name": "stdout",
     "output_type": "stream",
     "text": [
      "나의 이름은 박응선 입니다.\n",
      "나이는 2살 입니다.\n",
      "남자입니다.\n"
     ]
    }
   ],
   "source": [
    "say_myself('박응선', 2)"
   ]
  },
  {
   "cell_type": "markdown",
   "id": "6feca776",
   "metadata": {},
   "source": [
    "## 1.8 함수 안에서 선언한 변수의 효력 범위(지역 vs 전역)"
   ]
  },
  {
   "cell_type": "code",
   "execution_count": 53,
   "id": "dfdb0897",
   "metadata": {
    "scrolled": true
   },
   "outputs": [
    {
     "name": "stdout",
     "output_type": "stream",
     "text": [
      "None\n",
      "1\n"
     ]
    }
   ],
   "source": [
    "a = 1 # 전역변수\n",
    "\n",
    "def vartest(a):\n",
    "    a = a + 1 # 지역변수\n",
    "    \n",
    "    \n",
    "print(vartest(a)) # 2가 나올까?\n",
    "print(a) # 1이 나온 이유: 함수 매개변수는 함수 안에서만 사용하는 지역변수이기 때문"
   ]
  },
  {
   "cell_type": "code",
   "execution_count": 56,
   "id": "5cef75c8",
   "metadata": {},
   "outputs": [
    {
     "ename": "NameError",
     "evalue": "name 'aa' is not defined",
     "output_type": "error",
     "traceback": [
      "\u001b[0;31m---------------------------------------------------------------------------\u001b[0m",
      "\u001b[0;31mNameError\u001b[0m                                 Traceback (most recent call last)",
      "Cell \u001b[0;32mIn[56], line 4\u001b[0m\n\u001b[1;32m      2\u001b[0m     aa \u001b[38;5;241m=\u001b[39m aa \u001b[38;5;241m+\u001b[39m \u001b[38;5;241m1\u001b[39m\n\u001b[1;32m      3\u001b[0m vartest(\u001b[38;5;241m3\u001b[39m)\n\u001b[0;32m----> 4\u001b[0m \u001b[38;5;28mprint\u001b[39m(aa)\n",
      "\u001b[0;31mNameError\u001b[0m: name 'aa' is not defined"
     ]
    }
   ],
   "source": [
    "def vartest(aa):\n",
    "    aa = aa + 1\n",
    "vartest(3)\n",
    "print(aa)"
   ]
  },
  {
   "cell_type": "markdown",
   "id": "e6c44d78",
   "metadata": {},
   "source": [
    "## 1.9 함수 안에서 함수 밖의 변수를 변경하는 방법"
   ]
  },
  {
   "cell_type": "markdown",
   "id": "865e3e86",
   "metadata": {},
   "source": [
    "### 1.9.1 return 사용하기"
   ]
  },
  {
   "cell_type": "code",
   "execution_count": 60,
   "id": "65f9509c",
   "metadata": {},
   "outputs": [
    {
     "name": "stdout",
     "output_type": "stream",
     "text": [
      "2\n"
     ]
    }
   ],
   "source": [
    "a = 1\n",
    "def vartest(a):\n",
    "    a = a + 1\n",
    "    return a\n",
    "\n",
    "a = vartest(a)\n",
    "print(a)"
   ]
  },
  {
   "cell_type": "markdown",
   "id": "845a26f2",
   "metadata": {},
   "source": [
    "### 1.9.1 global 명령어 사용하기"
   ]
  },
  {
   "cell_type": "code",
   "execution_count": 59,
   "id": "04f830ee",
   "metadata": {},
   "outputs": [
    {
     "name": "stdout",
     "output_type": "stream",
     "text": [
      "2\n"
     ]
    }
   ],
   "source": [
    "a = 1\n",
    "def vartest():\n",
    "    global a # 함수 안에서 함수 밖에 a 변수를 직접 사용하겠다.(전역변수 선언)\n",
    "    a = a + 1\n",
    "\n",
    "vartest() # 입력도 없고 출력도 없음\n",
    "print(a)"
   ]
  },
  {
   "cell_type": "markdown",
   "id": "63dc0c0c",
   "metadata": {},
   "source": [
    "### 1.9.3 lambda 표현식으로 익명 함수 만들기"
   ]
  },
  {
   "cell_type": "code",
   "execution_count": 63,
   "id": "cb91ffeb",
   "metadata": {},
   "outputs": [
    {
     "name": "stdout",
     "output_type": "stream",
     "text": [
      "7\n"
     ]
    }
   ],
   "source": [
    "add = lambda a, b: a+b\n",
    "result = add(3, 4)\n",
    "print(result)"
   ]
  },
  {
   "cell_type": "code",
   "execution_count": 66,
   "id": "ece11c49",
   "metadata": {},
   "outputs": [
    {
     "name": "stdout",
     "output_type": "stream",
     "text": [
      "7\n"
     ]
    }
   ],
   "source": [
    "# def 함수와 동일하다.\n",
    "def add(a,b):\n",
    "    return a+b\n",
    "\n",
    "result = add(3, 4)\n",
    "print(result)"
   ]
  },
  {
   "cell_type": "markdown",
   "id": "8464cd1d",
   "metadata": {},
   "source": [
    "# 2. 사용자 입출력"
   ]
  },
  {
   "cell_type": "markdown",
   "id": "b4569415",
   "metadata": {},
   "source": [
    "## 2.1 사용자 입력 활용하기"
   ]
  },
  {
   "cell_type": "markdown",
   "id": "88fc44fa",
   "metadata": {},
   "source": [
    "### 2.1.1 input 사용하기"
   ]
  },
  {
   "cell_type": "code",
   "execution_count": 69,
   "id": "067c0133",
   "metadata": {},
   "outputs": [
    {
     "name": "stdout",
     "output_type": "stream",
     "text": [
      "Life\n"
     ]
    }
   ],
   "source": [
    "a = input()"
   ]
  },
  {
   "cell_type": "code",
   "execution_count": 71,
   "id": "d8eab953",
   "metadata": {},
   "outputs": [
    {
     "data": {
      "text/plain": [
       "'Life'"
      ]
     },
     "execution_count": 71,
     "metadata": {},
     "output_type": "execute_result"
    }
   ],
   "source": [
    "a"
   ]
  },
  {
   "cell_type": "markdown",
   "id": "5d40e38f",
   "metadata": {},
   "source": [
    "###  2.1.2 프롬프트를 띄워 사용자 입력받기"
   ]
  },
  {
   "cell_type": "code",
   "execution_count": 80,
   "id": "64e4697c",
   "metadata": {
    "scrolled": true
   },
   "outputs": [
    {
     "name": "stdout",
     "output_type": "stream",
     "text": [
      "숫자를 입력하세요: 3\n"
     ]
    }
   ],
   "source": [
    "number = input(\"숫자를 입력하세요: \")"
   ]
  },
  {
   "cell_type": "code",
   "execution_count": 81,
   "id": "5a23267d",
   "metadata": {},
   "outputs": [
    {
     "name": "stdout",
     "output_type": "stream",
     "text": [
      "3\n"
     ]
    }
   ],
   "source": [
    "print(number)"
   ]
  },
  {
   "cell_type": "markdown",
   "id": "70ec724d",
   "metadata": {},
   "source": [
    "## 2.2 print 자세히 알기"
   ]
  },
  {
   "cell_type": "code",
   "execution_count": 82,
   "id": "8976d2b4",
   "metadata": {
    "scrolled": true
   },
   "outputs": [
    {
     "name": "stdout",
     "output_type": "stream",
     "text": [
      "123\n"
     ]
    }
   ],
   "source": [
    "a = 123\n",
    "print(a)"
   ]
  },
  {
   "cell_type": "code",
   "execution_count": 83,
   "id": "6b3f1d92",
   "metadata": {},
   "outputs": [
    {
     "name": "stdout",
     "output_type": "stream",
     "text": [
      "Python\n"
     ]
    }
   ],
   "source": [
    "a = \"Python\"\n",
    "print(a)"
   ]
  },
  {
   "cell_type": "code",
   "execution_count": 84,
   "id": "b0fb1d71",
   "metadata": {},
   "outputs": [
    {
     "name": "stdout",
     "output_type": "stream",
     "text": [
      "[1, 2, 3]\n"
     ]
    }
   ],
   "source": [
    "a = [1,2,3]\n",
    "print(a)"
   ]
  },
  {
   "cell_type": "markdown",
   "id": "626ea3f5",
   "metadata": {},
   "source": [
    "### 2.2.1 큰따옴표로 둘러싸인 문자열은 + 연산과 동일하다"
   ]
  },
  {
   "cell_type": "code",
   "execution_count": 72,
   "id": "3d424be0",
   "metadata": {},
   "outputs": [
    {
     "name": "stdout",
     "output_type": "stream",
     "text": [
      "lifeistoo short\n"
     ]
    }
   ],
   "source": [
    "print(\"life\" \"is\" \"too short\")"
   ]
  },
  {
   "cell_type": "code",
   "execution_count": 73,
   "id": "953a95b2",
   "metadata": {},
   "outputs": [
    {
     "name": "stdout",
     "output_type": "stream",
     "text": [
      "lifeistoo short\n"
     ]
    }
   ],
   "source": [
    "print(\"life\" + \"is\" + \"too short\")"
   ]
  },
  {
   "cell_type": "markdown",
   "id": "e6d26bd7",
   "metadata": {},
   "source": [
    "### 2.2.2 문자열 띄어쓰기"
   ]
  },
  {
   "cell_type": "code",
   "execution_count": 85,
   "id": "01e1595e",
   "metadata": {},
   "outputs": [
    {
     "name": "stdout",
     "output_type": "stream",
     "text": [
      "life is too short\n"
     ]
    }
   ],
   "source": [
    "print(\"life\", \"is\", \"too short\")"
   ]
  },
  {
   "cell_type": "markdown",
   "id": "cd407dc7",
   "metadata": {},
   "source": [
    "### 2.2.3 한줄에 결과값 출력하기"
   ]
  },
  {
   "cell_type": "code",
   "execution_count": 88,
   "id": "2a71a7ed",
   "metadata": {},
   "outputs": [
    {
     "name": "stdout",
     "output_type": "stream",
     "text": [
      "0 1 2 3 4 5 6 7 8 9 "
     ]
    }
   ],
   "source": [
    "for i in range(10):\n",
    "    print(i, end=' ')"
   ]
  },
  {
   "cell_type": "markdown",
   "id": "805a03a5",
   "metadata": {},
   "source": [
    "# 3. 파일 읽고 쓰기"
   ]
  },
  {
   "cell_type": "markdown",
   "id": "480315a5",
   "metadata": {},
   "source": [
    "## 3.1 파일 생성하기"
   ]
  },
  {
   "cell_type": "code",
   "execution_count": 1,
   "id": "1d060580",
   "metadata": {},
   "outputs": [],
   "source": [
    "f = open(\"새파일.txt\", 'w')\n",
    "f.close()"
   ]
  },
  {
   "cell_type": "markdown",
   "id": "5c22496a",
   "metadata": {},
   "source": [
    "3.1.0.1 파일 경로와 슬래시(/)"
   ]
  },
  {
   "cell_type": "markdown",
   "id": "e5672456",
   "metadata": {},
   "source": [
    "파이썬 코드에서 파일 경로를 표시할 때 \"C:/doit/새파일.txt\"처럼 슬래시(/)를 사용할 수 있다. 만약 역슬래시(\\)를 사용한다면 \"C:\\\\doit\\\\새파일.txt\"처럼 역슬래시를 2개 사용하거나 r\"C:\\doit\\새파일.txt\"와 같이 문자열 앞에 r 문자(raw string)를 덧붙여 사용해야 한다. 왜냐하면 \"C:\\note\\test.txt\"처럼 파일 경로에 \\n과 같은 이스케이프 문자가 있을 경우, 줄바꿈 문자로 해석되어 의도했던 파일 경로와 달라지기 때문이다."
   ]
  },
  {
   "cell_type": "markdown",
   "id": "ecb4f7d8",
   "metadata": {},
   "source": [
    "## 3.2 파일을 쓰기 모드로 열어 내용 쓰기"
   ]
  },
  {
   "cell_type": "code",
   "execution_count": 5,
   "id": "7fff4a1a",
   "metadata": {},
   "outputs": [],
   "source": [
    "# write_data.py\n",
    "f = open(\"새파일.txt\", 'w') # 상대경로도 가능함\n",
    "for i in range(1, 11):\n",
    "    data = \"%d번째 줄입니다.\\n\" % i\n",
    "    f.write(data)\n",
    "f.close()"
   ]
  },
  {
   "cell_type": "markdown",
   "id": "6c903a6e",
   "metadata": {},
   "source": [
    "## 3.3 파일을 읽는 여러 가지 방법"
   ]
  },
  {
   "cell_type": "markdown",
   "id": "b240b8b5",
   "metadata": {},
   "source": [
    "### 3.3.1 readline 함수 이용하기"
   ]
  },
  {
   "cell_type": "code",
   "execution_count": null,
   "id": "06a37f6d",
   "metadata": {},
   "outputs": [],
   "source": [
    "f = open(\"\", 'r')\n",
    "line = f.readline()\n",
    "print(line)\n",
    "f.close()"
   ]
  },
  {
   "cell_type": "code",
   "execution_count": null,
   "id": "72c8e916",
   "metadata": {},
   "outputs": [],
   "source": [
    "f = open(\"\", 'r')\n",
    "while True:\n",
    "    line = f.readline()\n",
    "    if not line: break:\n",
    "    print(line)\n",
    "f. close()"
   ]
  },
  {
   "cell_type": "markdown",
   "id": "056a9525",
   "metadata": {},
   "source": [
    "### 3.3.2 readlines 함수 사용하기"
   ]
  },
  {
   "cell_type": "code",
   "execution_count": null,
   "id": "24e52299",
   "metadata": {},
   "outputs": [],
   "source": [
    "f = open(\"\", 'r')\n",
    "lines = f.readlines()\n",
    "for line in l lines:\n",
    "    print(line)\n",
    "f. close()"
   ]
  },
  {
   "cell_type": "markdown",
   "id": "e83fc925",
   "metadata": {},
   "source": [
    "3.3.2.1 줄 바꿈(\\n) 문자 제거하기"
   ]
  },
  {
   "cell_type": "code",
   "execution_count": null,
   "id": "f6b12d36",
   "metadata": {},
   "outputs": [],
   "source": [
    "f = open(\"새파일.txt\", 'r')\n",
    "lines = f.readlines()\n",
    "for line in lines:\n",
    "    line = line.strip()  # 줄 끝의 줄 바꿈 문자를 제거한다.\n",
    "    print(line)\n",
    "f.close()"
   ]
  },
  {
   "cell_type": "markdown",
   "id": "8357fe59",
   "metadata": {},
   "source": [
    "### 3.3.3 read 함수 사용하기"
   ]
  },
  {
   "cell_type": "code",
   "execution_count": null,
   "id": "1477f497",
   "metadata": {},
   "outputs": [],
   "source": [
    "# read.py\n",
    "f = open(\"새파일.txt\", 'r')\n",
    "data = f.read()\n",
    "print(data)\n",
    "f.close()"
   ]
  },
  {
   "cell_type": "markdown",
   "id": "a7112f80",
   "metadata": {},
   "source": [
    "### 3.3.4 파일 객체를 for 문과 함께 사용하기"
   ]
  },
  {
   "cell_type": "code",
   "execution_count": null,
   "id": "1c48f810",
   "metadata": {},
   "outputs": [],
   "source": [
    "f = open(\"새파일.txt\", 'r')\n",
    "for line in f:\n",
    "    print(line)\n",
    "f.close()"
   ]
  },
  {
   "cell_type": "markdown",
   "id": "21a971a0",
   "metadata": {},
   "source": [
    "## 3.4 파일에 새로운 내용 추가하기"
   ]
  },
  {
   "cell_type": "code",
   "execution_count": 6,
   "id": "ac1f4467",
   "metadata": {},
   "outputs": [],
   "source": [
    "f = open(\"새파일.txt\", 'a')\n",
    "for i in range(11, 20):\n",
    "    data = \"%d번째 줄입니다.\\n\" % i\n",
    "    f.write(data)\n",
    "f.close() # 항상 닫아줘야 함, input output이 꼬일 수 있다."
   ]
  },
  {
   "cell_type": "markdown",
   "id": "5d9c6245",
   "metadata": {},
   "source": [
    "## 3.5 with 문과 함께 사용하기"
   ]
  },
  {
   "cell_type": "code",
   "execution_count": 7,
   "id": "cca9b058",
   "metadata": {},
   "outputs": [],
   "source": [
    "with open(\"foo.txt\", \"w\") as f:\n",
    "    f.write(\"Life is too short, you need python\")"
   ]
  },
  {
   "cell_type": "markdown",
   "id": "1cda4973",
   "metadata": {},
   "source": [
    "## 4 프로그램의 입출력"
   ]
  },
  {
   "cell_type": "code",
   "execution_count": null,
   "id": "e8d271ff",
   "metadata": {},
   "outputs": [],
   "source": []
  },
  {
   "cell_type": "code",
   "execution_count": null,
   "id": "bdb2466e",
   "metadata": {},
   "outputs": [],
   "source": []
  },
  {
   "cell_type": "code",
   "execution_count": null,
   "id": "b40ac183",
   "metadata": {},
   "outputs": [],
   "source": []
  },
  {
   "cell_type": "code",
   "execution_count": null,
   "id": "d44b81ee",
   "metadata": {},
   "outputs": [],
   "source": []
  },
  {
   "cell_type": "code",
   "execution_count": null,
   "id": "179e32e4",
   "metadata": {},
   "outputs": [],
   "source": []
  },
  {
   "cell_type": "code",
   "execution_count": null,
   "id": "b9a326b2",
   "metadata": {},
   "outputs": [],
   "source": []
  },
  {
   "cell_type": "code",
   "execution_count": null,
   "id": "c9b17fbf",
   "metadata": {},
   "outputs": [],
   "source": []
  },
  {
   "cell_type": "code",
   "execution_count": null,
   "id": "57b8b007",
   "metadata": {},
   "outputs": [],
   "source": []
  },
  {
   "cell_type": "code",
   "execution_count": null,
   "id": "416b059b",
   "metadata": {},
   "outputs": [],
   "source": []
  },
  {
   "cell_type": "code",
   "execution_count": null,
   "id": "73665197",
   "metadata": {},
   "outputs": [],
   "source": []
  },
  {
   "cell_type": "code",
   "execution_count": null,
   "id": "16007a2b",
   "metadata": {},
   "outputs": [],
   "source": []
  },
  {
   "cell_type": "code",
   "execution_count": null,
   "id": "bb63193d",
   "metadata": {},
   "outputs": [],
   "source": []
  }
 ],
 "metadata": {
  "kernelspec": {
   "display_name": "Python 3 (ipykernel)",
   "language": "python",
   "name": "python3"
  },
  "language_info": {
   "codemirror_mode": {
    "name": "ipython",
    "version": 3
   },
   "file_extension": ".py",
   "mimetype": "text/x-python",
   "name": "python",
   "nbconvert_exporter": "python",
   "pygments_lexer": "ipython3",
   "version": "3.11.5"
  }
 },
 "nbformat": 4,
 "nbformat_minor": 5
}
