{
 "cells": [
  {
   "cell_type": "markdown",
   "id": "0c77fadf",
   "metadata": {},
   "source": [
    "## 07 파이썬 분기문"
   ]
  },
  {
   "cell_type": "markdown",
   "id": "04a5d95d",
   "metadata": {},
   "source": [
    "101\n",
    "파이썬에서 True 혹은 False를 갖는 데이터 타입은 무엇인가?"
   ]
  },
  {
   "cell_type": "markdown",
   "id": "996f5df2",
   "metadata": {},
   "source": [
    "Boolean"
   ]
  },
  {
   "cell_type": "markdown",
   "id": "a38422ed",
   "metadata": {},
   "source": [
    "102\n",
    "아래 코드의 출력 결과를 예상하라\n",
    "\n",
    "print(3 == 5)"
   ]
  },
  {
   "cell_type": "code",
   "execution_count": 2,
   "id": "72b98c1b",
   "metadata": {},
   "outputs": [
    {
     "name": "stdout",
     "output_type": "stream",
     "text": [
      "False\n"
     ]
    }
   ],
   "source": [
    "print(3 == 5)"
   ]
  },
  {
   "cell_type": "markdown",
   "id": "f1b98a56",
   "metadata": {},
   "source": [
    "103\n",
    "아래 코드의 출력 결과를 예상하라\n",
    "\n",
    "print(3 < 5)"
   ]
  },
  {
   "cell_type": "code",
   "execution_count": 3,
   "id": "49fb2325",
   "metadata": {},
   "outputs": [
    {
     "name": "stdout",
     "output_type": "stream",
     "text": [
      "True\n"
     ]
    }
   ],
   "source": [
    "print(3 < 5)"
   ]
  },
  {
   "cell_type": "markdown",
   "id": "1bf9879f",
   "metadata": {},
   "source": [
    "104\n",
    "아래 코드의 결과를 예상하라.\n",
    "\n",
    "x = 4\n",
    "print(1 < x < 5)"
   ]
  },
  {
   "cell_type": "code",
   "execution_count": 5,
   "id": "ac3695f0",
   "metadata": {},
   "outputs": [
    {
     "name": "stdout",
     "output_type": "stream",
     "text": [
      "True\n"
     ]
    }
   ],
   "source": [
    "x = 4\n",
    "print(1 < x < 5)"
   ]
  },
  {
   "cell_type": "code",
   "execution_count": null,
   "id": "e706e936",
   "metadata": {},
   "outputs": [],
   "source": [
    "105\n",
    "아래 코드의 결과를 예상하라.\n",
    "\n",
    "print ((3 == 3) and (4 != 3))"
   ]
  },
  {
   "cell_type": "code",
   "execution_count": 6,
   "id": "30460d36",
   "metadata": {},
   "outputs": [
    {
     "name": "stdout",
     "output_type": "stream",
     "text": [
      "True\n"
     ]
    }
   ],
   "source": [
    "print ((3 == 3) and (4 != 3))"
   ]
  },
  {
   "cell_type": "code",
   "execution_count": null,
   "id": "65809bf4",
   "metadata": {},
   "outputs": [],
   "source": [
    "106\n",
    "아래 코드에서 에러가 발생하는 원인에 대해 설명하라.\n",
    "\n",
    "print(3 => 4)"
   ]
  },
  {
   "cell_type": "code",
   "execution_count": 7,
   "id": "785545bd",
   "metadata": {},
   "outputs": [
    {
     "name": "stdout",
     "output_type": "stream",
     "text": [
      "False\n"
     ]
    }
   ],
   "source": [
    "print(3 >= 4)"
   ]
  },
  {
   "cell_type": "code",
   "execution_count": null,
   "id": "f5e8676e",
   "metadata": {},
   "outputs": [],
   "source": [
    "107\n",
    "아래 코드의 출력 결과를 예상하라\n",
    "\n",
    "if 4 < 3:\n",
    "    print(\"Hello World\")"
   ]
  },
  {
   "cell_type": "code",
   "execution_count": 9,
   "id": "72fee955",
   "metadata": {},
   "outputs": [],
   "source": [
    "if 4 < 3:\n",
    "    print(\"Hello World\")"
   ]
  },
  {
   "cell_type": "code",
   "execution_count": null,
   "id": "b16b4682",
   "metadata": {},
   "outputs": [],
   "source": [
    "108\n",
    "아래 코드의 출력 결과를 예상하라\n",
    "\n",
    "if 4 < 3:\n",
    "    print(\"Hello World.\")\n",
    "else:\n",
    "    print(\"Hi, there.\")"
   ]
  },
  {
   "cell_type": "code",
   "execution_count": 10,
   "id": "01b00a27",
   "metadata": {},
   "outputs": [
    {
     "name": "stdout",
     "output_type": "stream",
     "text": [
      "Hi, there.\n"
     ]
    }
   ],
   "source": [
    "if 4 < 3:\n",
    "    print(\"Hello World.\")\n",
    "else:\n",
    "    print(\"Hi, there.\")"
   ]
  },
  {
   "cell_type": "code",
   "execution_count": null,
   "id": "3ad6c6df",
   "metadata": {},
   "outputs": [],
   "source": [
    "109\n",
    "아래 코드의 출력 결과를 예상하라#\n",
    "\n",
    "if True :\n",
    "    print (\"1\")\n",
    "    print (\"2\")\n",
    "else :\n",
    "    print(\"3\")\n",
    "print(\"4\")"
   ]
  },
  {
   "cell_type": "code",
   "execution_count": 11,
   "id": "33f102fd",
   "metadata": {},
   "outputs": [
    {
     "name": "stdout",
     "output_type": "stream",
     "text": [
      "1\n",
      "2\n",
      "4\n"
     ]
    }
   ],
   "source": [
    "if True :\n",
    "    print (\"1\")\n",
    "    print (\"2\")\n",
    "else :\n",
    "    print(\"3\")\n",
    "print(\"4\")"
   ]
  },
  {
   "cell_type": "code",
   "execution_count": null,
   "id": "a3367466",
   "metadata": {},
   "outputs": [],
   "source": [
    "110\n",
    "아래 코드의 출력 결과를 예상하라\n",
    "\n",
    "if True :\n",
    "    if False:\n",
    "        print(\"1\")\n",
    "        print(\"2\")\n",
    "    else:\n",
    "        print(\"3\")\n",
    "else :\n",
    "    print(\"4\")\n",
    "print(\"5\")"
   ]
  },
  {
   "cell_type": "code",
   "execution_count": 12,
   "id": "e6474e08",
   "metadata": {},
   "outputs": [
    {
     "name": "stdout",
     "output_type": "stream",
     "text": [
      "3\n",
      "5\n"
     ]
    }
   ],
   "source": [
    "if True :\n",
    "    if False:\n",
    "        print(\"1\")\n",
    "        print(\"2\")\n",
    "    else:\n",
    "        print(\"3\")\n",
    "else :\n",
    "    print(\"4\")\n",
    "print(\"5\")"
   ]
  },
  {
   "cell_type": "code",
   "execution_count": null,
   "id": "f3dd7af1",
   "metadata": {},
   "outputs": [],
   "source": [
    "111\n",
    "사용자로부터 입력받은 문자열을 두 번 출력하라. 아래는 사용자가 \"안녕하세요\"를 입력한 경우의 출력 결과이다.#\n",
    "\n",
    ">> 안녕하세요\n",
    "안녕하세요안녕하세요"
   ]
  },
  {
   "cell_type": "code",
   "execution_count": 13,
   "id": "1d692d83",
   "metadata": {},
   "outputs": [
    {
     "name": "stdout",
     "output_type": "stream",
     "text": [
      "입력:안녕하세요\n",
      "안녕하세요안녕하세요\n"
     ]
    }
   ],
   "source": [
    "user = input(\"입력:\")\n",
    "print(user * 2)"
   ]
  },
  {
   "cell_type": "code",
   "execution_count": null,
   "id": "8f5299d6",
   "metadata": {},
   "outputs": [],
   "source": [
    "112\n",
    "사용자로부터 하나의 숫자를 입력받고, 입력 받은 숫자에 10을 더해 출력하라.#\n",
    "\n",
    ">> 숫자를 입력하세요: 30\n",
    "40"
   ]
  },
  {
   "cell_type": "code",
   "execution_count": 15,
   "id": "12f80fd7",
   "metadata": {},
   "outputs": [
    {
     "name": "stdout",
     "output_type": "stream",
     "text": [
      "숫자를 입력하세요:30\n",
      "40\n"
     ]
    }
   ],
   "source": [
    "user = input(\"숫자를 입력하세요:\")\n",
    "print(int(user) + 10)"
   ]
  },
  {
   "cell_type": "code",
   "execution_count": null,
   "id": "74a3b44a",
   "metadata": {},
   "outputs": [],
   "source": [
    "113\n",
    "사용자로부터 하나의 숫자를 입력 받고 짝수/홀수를 판별하라.\n",
    "\n",
    ">> 30\n",
    "짝수"
   ]
  },
  {
   "cell_type": "code",
   "execution_count": 23,
   "id": "d986ee0f",
   "metadata": {},
   "outputs": [
    {
     "name": "stdout",
     "output_type": "stream",
     "text": [
      ": 30\n",
      "짝수\n"
     ]
    }
   ],
   "source": [
    "user = input(\": \")\n",
    "if int(user) % 2 == 0:\n",
    "    print (\"짝수\")\n",
    "else:\n",
    "    print( \"홀수\")"
   ]
  },
  {
   "cell_type": "markdown",
   "id": "ffb05b72",
   "metadata": {},
   "source": [
    "114\n",
    "사용자로부터 값을 입력받은 후 해당 값에 20을 더한 값을 출력하라. 단 사용자가 입력한 값과 20을 더한 계산 값이 255를 초과하는 경우 255를 출력해야 한다."
   ]
  },
  {
   "cell_type": "code",
   "execution_count": 30,
   "id": "fe44ef1c",
   "metadata": {},
   "outputs": [
    {
     "name": "stdout",
     "output_type": "stream",
     "text": [
      " 100\n",
      "120\n"
     ]
    }
   ],
   "source": [
    "user = input(\" \")\n",
    "if int(user) + 20 > 255:\n",
    "    print(255)\n",
    "else:\n",
    "    print(int(user) + 20)"
   ]
  },
  {
   "cell_type": "markdown",
   "id": "4c41ba2a",
   "metadata": {},
   "source": [
    "115\n",
    "사용자로부터 하나의 값을 입력받은 후 해당 값에 20을 뺀 값을 출력하라. 단 출력 값의 범위는 0~255이다. 예를 들어 결괏값이 0보다 작은 값이되는 경우 0을 출력하고 255보다 큰 값이 되는 경우 255를 출력해야 한다."
   ]
  },
  {
   "cell_type": "code",
   "execution_count": 35,
   "id": "9de006fb",
   "metadata": {},
   "outputs": [
    {
     "name": "stdout",
     "output_type": "stream",
     "text": [
      " 15\n",
      "0\n"
     ]
    }
   ],
   "source": [
    "user = input(\" \")\n",
    "if int(user) - 20 < 0:\n",
    "    print(0)\n",
    "else:\n",
    "    print(int(user) - 20)"
   ]
  },
  {
   "cell_type": "code",
   "execution_count": null,
   "id": "17f681e1",
   "metadata": {},
   "outputs": [],
   "source": [
    "116\n",
    "사용자로부터 입력 받은 시간이 정각인지 판별하라.\n",
    "\n",
    ">> 현재시간:02:00\n",
    "정각 입니다.\n",
    ">> 현재시간:03:10\n",
    "정각이 아닙니다"
   ]
  },
  {
   "cell_type": "code",
   "execution_count": 4,
   "id": "98a1e6fd",
   "metadata": {},
   "outputs": [
    {
     "name": "stdout",
     "output_type": "stream",
     "text": [
      "현재시간: 12:00\n",
      "정각 입니다.\n"
     ]
    }
   ],
   "source": [
    "time = input(\"현재시간: \")\n",
    "if time[-2:] == \"00\":\n",
    "    print(\"정각 입니다.\")\n",
    "else:\n",
    "    print(\"정각이 아닙니다.\")"
   ]
  },
  {
   "cell_type": "code",
   "execution_count": null,
   "id": "a1d39c9f",
   "metadata": {},
   "outputs": [],
   "source": [
    "117\n",
    "사용자로 입력받은 단어가 아래 fruit 리스트에 포함되어 있는지를 확인하라. 포함되었다면 \"정답입니다\"를 아닐 경우 \"오답입니다\" 출력하라.\n",
    "\n",
    "fruit = [\"사과\", \"포도\", \"홍시\"]\n",
    ">> 좋아하는 과일은? 사과\n",
    "정답입니다."
   ]
  },
  {
   "cell_type": "code",
   "execution_count": 3,
   "id": "713343a3",
   "metadata": {},
   "outputs": [
    {
     "name": "stdout",
     "output_type": "stream",
     "text": [
      "좋아하는 과일은?사과\n",
      "정답입니다.\n"
     ]
    }
   ],
   "source": [
    "user = input(\"좋아하는 과일은?\")\n",
    "fruit = [\"사과\", \"포도\", \"홍시\"]\n",
    "if user in fruit:\n",
    "    print(\"정답입니다.\")\n",
    "else:\n",
    "    print(\"오답입니다.\")"
   ]
  },
  {
   "cell_type": "code",
   "execution_count": null,
   "id": "2194165f",
   "metadata": {},
   "outputs": [],
   "source": [
    "118\n",
    "투자 경고 종목 리스트가 있을 때 사용자로부터 종목명을 입력 받은 후 해당 종목이 투자 경고 종목이라면 '투자 경고 종목입니다'를 아니면 \"투자 경고 종목이 아닙니다.\"를 출력하는 프로그램을 작성하라.\n",
    "\n",
    "warn_investment_list = [\"Microsoft\", \"Google\", \"Naver\", \"Kakao\", \"SAMSUNG\", \"LG\"]"
   ]
  },
  {
   "cell_type": "code",
   "execution_count": 6,
   "id": "59e8f424",
   "metadata": {},
   "outputs": [
    {
     "name": "stdout",
     "output_type": "stream",
     "text": [
      "Microsoft\n",
      "투자 경고 종목입니다.\n"
     ]
    }
   ],
   "source": [
    "warn_investment_list = [\"Microsoft\", \"Google\", \"Naver\", \"Kakao\", \"SAMSUNG\", \"LG\"]\n",
    "user = input(\"\")\n",
    "\n",
    "if user in warn_investment_list:\n",
    "    print(\"투자 경고 종목입니다.\")\n",
    "else:\n",
    "    print(\"투자 경고 종목이 아닙니다.\")"
   ]
  },
  {
   "cell_type": "code",
   "execution_count": null,
   "id": "ee531997",
   "metadata": {},
   "outputs": [],
   "source": [
    "119\n",
    "아래와 같이 fruit 딕셔너리가 정의되어 있다. 사용자가 입력한 값이 딕셔너리 키 (key) 값에 포함되었다면 \"정답입니다\"를 아닐 경우 \"오답입니다\" 출력하라.\n",
    "\n",
    "fruit = {\"봄\" : \"딸기\", \"여름\" : \"토마토\", \"가을\" : \"사과\"}"
   ]
  },
  {
   "cell_type": "code",
   "execution_count": 11,
   "id": "31efc53d",
   "metadata": {},
   "outputs": [
    {
     "name": "stdout",
     "output_type": "stream",
     "text": [
      "바다\n",
      "오답입니다.\n"
     ]
    }
   ],
   "source": [
    "fruit = {\"봄\" : \"딸기\", \"여름\" : \"토마토\", \"가을\" : \"사과\"}\n",
    "user = input(\"\")\n",
    "if user in fruit.keys():\n",
    "    print(\"정답입니다.\")\n",
    "else:\n",
    "    print(\"오답입니다.\")"
   ]
  },
  {
   "cell_type": "code",
   "execution_count": null,
   "id": "abdc18be",
   "metadata": {},
   "outputs": [],
   "source": [
    "120\n",
    "아래와 같이 fruit 딕셔너리가 정의되어 있다. 사용자가 입력한 값이 딕셔너리 값 (value)에 포함되었다면 \"정답입니다\"를 아닐 경우 \"오답입니다\" 출력하라.\n",
    "\n",
    "fruit = {\"봄\" : \"딸기\", \"여름\" : \"토마토\", \"가을\" : \"사과\"}"
   ]
  },
  {
   "cell_type": "code",
   "execution_count": 12,
   "id": "8d26527d",
   "metadata": {},
   "outputs": [
    {
     "name": "stdout",
     "output_type": "stream",
     "text": [
      "딸기\n",
      "정답입니다.\n"
     ]
    }
   ],
   "source": [
    "fruit = {\"봄\" : \"딸기\", \"여름\" : \"토마토\", \"가을\" : \"사과\"}\n",
    "user = input(\"\")\n",
    "if user in fruit.values():\n",
    "    print(\"정답입니다.\")\n",
    "else:\n",
    "    print(\"오답입니다.\")"
   ]
  },
  {
   "cell_type": "code",
   "execution_count": null,
   "id": "2a65a9e2",
   "metadata": {},
   "outputs": [],
   "source": [
    "121\n",
    "사용자로부터 문자 한 개를 입력 받고, 소문자일 경우 대문자로, 대문자 일 경우, 소문자로 변경해서 출력하라.\n",
    "\n",
    ">> a\n",
    "A"
   ]
  },
  {
   "cell_type": "code",
   "execution_count": 23,
   "id": "19c5962f",
   "metadata": {},
   "outputs": [
    {
     "name": "stdout",
     "output_type": "stream",
     "text": [
      "A\n",
      "a\n"
     ]
    }
   ],
   "source": [
    "user = input(\"\")\n",
    "if user.islower():\n",
    "    print(user.upper())\n",
    "else:\n",
    "    print(user.lower())"
   ]
  },
  {
   "cell_type": "code",
   "execution_count": null,
   "id": "dc9ace8b",
   "metadata": {},
   "outputs": [],
   "source": [
    "122\n",
    "점수 구간에 해당하는 학점이 아래와 같이 정의되어 있다. 사용자로부터 score를 입력받아 학점을 출력하라.\n",
    "\n",
    "점수\t학점\n",
    "81~100\tA\n",
    "61~80\tB\n",
    "41~60\tC\n",
    "21~40\tD\n",
    "0~20\tE"
   ]
  },
  {
   "cell_type": "code",
   "execution_count": 26,
   "id": "18d523d7",
   "metadata": {},
   "outputs": [
    {
     "name": "stdout",
     "output_type": "stream",
     "text": [
      "21\n",
      "D\n"
     ]
    }
   ],
   "source": [
    "score = input(\"\")\n",
    "if (81 <= int(score) <= 100):\n",
    "    print(\"A\")\n",
    "elif (61 <= int(score) <= 80):\n",
    "    print(\"B\")\n",
    "elif (41 <= int(score) <= 60):\n",
    "    print(\"C\")\n",
    "elif (21 <= int(score) <= 40):\n",
    "    print(\"D\")\n",
    "else:\n",
    "    print(\"E\")"
   ]
  },
  {
   "cell_type": "code",
   "execution_count": null,
   "id": "73ad53ff",
   "metadata": {},
   "outputs": [],
   "source": [
    "123\n",
    "사용자로부터 달러, 엔, 유로, 또는 위안 금액을 입력받은 후 이를 원으로 변환하는 프로그램을 작성하라.#\n",
    "각 통화별 환율은 다음과 같다. 사용자는 100 달러, 1000 엔, 13 유로, 100 위안과 같이 금액과 통화명 사이에 공백을 넣어 입력한다고 가정한다.\n",
    "\n",
    "통화명\t환율\n",
    "달러\t1167\n",
    "엔\t1.096\n",
    "유로\t1268\n",
    "위안\t171\n",
    ">> 입력: 100 달러\n",
    "116700.00 원"
   ]
  },
  {
   "cell_type": "code",
   "execution_count": 1,
   "id": "a9ce17fa",
   "metadata": {},
   "outputs": [
    {
     "name": "stdout",
     "output_type": "stream",
     "text": [
      "입력: 100\n"
     ]
    },
    {
     "ename": "ValueError",
     "evalue": "not enough values to unpack (expected 2, got 1)",
     "output_type": "error",
     "traceback": [
      "\u001b[0;31m---------------------------------------------------------------------------\u001b[0m",
      "\u001b[0;31mValueError\u001b[0m                                Traceback (most recent call last)",
      "Cell \u001b[0;32mIn[1], line 6\u001b[0m\n\u001b[1;32m      1\u001b[0m 환율 \u001b[38;5;241m=\u001b[39m {\u001b[38;5;124m\"\u001b[39m\u001b[38;5;124m달러\u001b[39m\u001b[38;5;124m\"\u001b[39m: \u001b[38;5;241m1167\u001b[39m, \n\u001b[1;32m      2\u001b[0m         \u001b[38;5;124m\"\u001b[39m\u001b[38;5;124m엔\u001b[39m\u001b[38;5;124m\"\u001b[39m: \u001b[38;5;241m1.096\u001b[39m, \n\u001b[1;32m      3\u001b[0m         \u001b[38;5;124m\"\u001b[39m\u001b[38;5;124m유로\u001b[39m\u001b[38;5;124m\"\u001b[39m: \u001b[38;5;241m1268\u001b[39m, \n\u001b[1;32m      4\u001b[0m         \u001b[38;5;124m\"\u001b[39m\u001b[38;5;124m위안\u001b[39m\u001b[38;5;124m\"\u001b[39m: \u001b[38;5;241m171\u001b[39m}\n\u001b[1;32m      5\u001b[0m user \u001b[38;5;241m=\u001b[39m \u001b[38;5;28minput\u001b[39m(\u001b[38;5;124m\"\u001b[39m\u001b[38;5;124m입력: \u001b[39m\u001b[38;5;124m\"\u001b[39m)\n\u001b[0;32m----> 6\u001b[0m num, currency \u001b[38;5;241m=\u001b[39m user\u001b[38;5;241m.\u001b[39msplit()\n\u001b[1;32m      7\u001b[0m \u001b[38;5;28mprint\u001b[39m(\u001b[38;5;28mfloat\u001b[39m(num) \u001b[38;5;241m*\u001b[39m 환율[currency], \u001b[38;5;124m\"\u001b[39m\u001b[38;5;124m원\u001b[39m\u001b[38;5;124m\"\u001b[39m)\n",
      "\u001b[0;31mValueError\u001b[0m: not enough values to unpack (expected 2, got 1)"
     ]
    }
   ],
   "source": [
    "환율 = {\"달러\": 1167, \n",
    "        \"엔\": 1.096, \n",
    "        \"유로\": 1268, \n",
    "        \"위안\": 171}\n",
    "user = input(\"입력: \")\n",
    "num, currency = user.split()\n",
    "print(float(num) * 환율[currency], \"원\")"
   ]
  },
  {
   "cell_type": "code",
   "execution_count": null,
   "id": "5dbdf6ff",
   "metadata": {},
   "outputs": [],
   "source": [
    "124\n",
    "사용자로부터 세 개의 숫자를 입력 받은 후 가장 큰 숫자를 출력하라.#\n",
    "\n",
    ">> input number1: 10\n",
    ">> input number2: 9\n",
    ">> input number3: 20\n",
    "20"
   ]
  },
  {
   "cell_type": "code",
   "execution_count": 1,
   "id": "e9888e98",
   "metadata": {},
   "outputs": [
    {
     "name": "stdout",
     "output_type": "stream",
     "text": [
      "input number1: 10\n",
      "input number2: 20\n",
      "input number3: 30\n",
      "30\n"
     ]
    }
   ],
   "source": [
    "num1 = input(\"input number1: \")\n",
    "num2 = input(\"input number2: \")\n",
    "num3 = input(\"input number3: \")\n",
    "num1 = int(num1)\n",
    "num2 = int(num2)\n",
    "num3 = int(num3)\n",
    "\n",
    "if num1 >= num2 and num1 >= num3:\n",
    "    print(num1)\n",
    "elif num2 >= num1 and num2 >= num3:\n",
    "    print(num2)\n",
    "else:\n",
    "    print(num3)"
   ]
  },
  {
   "cell_type": "code",
   "execution_count": 4,
   "id": "c5e23384",
   "metadata": {},
   "outputs": [
    {
     "name": "stdout",
     "output_type": "stream",
     "text": [
      "input number1: 10\n",
      "input number2: 20\n",
      "input number3: 30\n",
      "30\n"
     ]
    }
   ],
   "source": [
    "num1 = int(input(\"input number1: \"))\n",
    "num2 = int(input(\"input number2: \"))\n",
    "num3 = int(input(\"input number3: \"))\n",
    "\n",
    "if num1 >= num2 and num1 >= num3:\n",
    "    print(num1)\n",
    "elif num2 >= num1 and num2 >= num3:\n",
    "    print(num2)\n",
    "else:\n",
    "    print(num3)"
   ]
  },
  {
   "cell_type": "code",
   "execution_count": null,
   "id": "da8c91bc",
   "metadata": {},
   "outputs": [],
   "source": [
    "125\n",
    "휴대폰 번호 앞자리에 따라 통신사는 아래와 같이 구분된다. 사용자로부터 휴대전화 번호를 입력 받고, 통신사를 출력하는 프로그램을 작성하라.\n",
    "\n",
    "번호\t통신사\n",
    "011\tSKT\n",
    "016\tKT\n",
    "019\tLGU\n",
    "010\t알수없음\n",
    ">> 휴대전화 번호 입력: 011-345-1922\n",
    "당신은 SKT 사용자입니다."
   ]
  },
  {
   "cell_type": "code",
   "execution_count": 6,
   "id": "4082b6bc",
   "metadata": {},
   "outputs": [
    {
     "name": "stdout",
     "output_type": "stream",
     "text": [
      "0113454444\n",
      "당신은 SKT 사용자입니다.\n"
     ]
    }
   ],
   "source": [
    "num = input(\"\")\n",
    "if num[1:3] == \"11\":\n",
    "    com = \"SKT\"\n",
    "elif num[1:3] == \"16\":\n",
    "    com = \"KT\"\n",
    "elif num[1:3] == \"19\":\n",
    "    com = \"LGU\"\n",
    "else:\n",
    "    com = \"알수 없음\"\n",
    "print(f\"당신은 {com} 사용자입니다.\")"
   ]
  },
  {
   "cell_type": "code",
   "execution_count": null,
   "id": "4157241f",
   "metadata": {},
   "outputs": [],
   "source": [
    "number = input(\"휴대전화 번호 입력: \")\n",
    "num = number.split(\"-\")[0]\n",
    "if num == \"011\":\n",
    "    com = \"SKT\"\n",
    "elif num == \"016\":\n",
    "    com = \"KT\"\n",
    "elif num == \"019\":\n",
    "    com = \"LGU\"\n",
    "else:\n",
    "    com = \"알수없음\"\n",
    "print(f\"당신은 {com} 사용자입니다.\")"
   ]
  },
  {
   "cell_type": "code",
   "execution_count": null,
   "id": "445db811",
   "metadata": {},
   "outputs": [],
   "source": [
    "126\n",
    "우편번호는 5자리로 구성되는데, 앞의 세자리는 구를 나타낸다. 예를들어, 강북구의 경우 010, 011, 012 세 자리로 시작한다.\n",
    "\n",
    "-\t0\t1\t2\t3\t4\t5\t6\t7\t8\t9\n",
    "01\t강북구\t강북구\t강북구\t도봉구\t도봉구\t도봉구\t노원구\t노원구\t노원구\t노원구\n",
    "사용자로 부터 5자리 우편번호를 입력받고 구를 판별하라\n",
    "\n",
    ">> 우편번호: 01400\n",
    "도봉구"
   ]
  },
  {
   "cell_type": "code",
   "execution_count": 8,
   "id": "754b27ab",
   "metadata": {},
   "outputs": [
    {
     "name": "stdout",
     "output_type": "stream",
     "text": [
      "우편번호: 010\n",
      "강북구\n"
     ]
    }
   ],
   "source": [
    "num = input(\"우편번호: \")\n",
    "\n",
    "post = num[:3]\n",
    "if post in [\"010\", \"011\", \"012\"]:\n",
    "    print(\"강북구\")\n",
    "elif post in [\"014\", \"015\", \"016\"]:   \n",
    "    print(\"도봉구\")\n",
    "else:\n",
    "    print(\"노원구\")"
   ]
  },
  {
   "cell_type": "code",
   "execution_count": null,
   "id": "6cd4574a",
   "metadata": {},
   "outputs": [],
   "source": [
    "127\n",
    "주민등록번호 뒷 자리 7자리 중 첫째 자리는 성별을 나타내는데, 1, 3은 남자 2, 4는 여자를 의미한다.\n",
    "사용자로부터 13자리의 주민등록번호를 입력 받은 후 성별 (남자, 여자)를 출력하는 프로그램을 작성하라.\n",
    "\n",
    ">> 주민등록번호: 821010-1635210\n",
    "남자"
   ]
  },
  {
   "cell_type": "code",
   "execution_count": 9,
   "id": "52e9e909",
   "metadata": {},
   "outputs": [
    {
     "name": "stdout",
     "output_type": "stream",
     "text": [
      "주민등록번호: 971009-2333443\n",
      "여자\n"
     ]
    }
   ],
   "source": [
    "주민번호 = input(\"주민등록번호: \")\n",
    "주민번호 = 주민번호.split(\"-\")[1]\n",
    "if 주민번호[0] == \"1\" or 주민번호[0] == \"3\":\n",
    "    print(\"남자\")\n",
    "else:\n",
    "    print(\"여자\")"
   ]
  },
  {
   "cell_type": "code",
   "execution_count": null,
   "id": "3f3981a7",
   "metadata": {},
   "outputs": [],
   "source": [
    "128\n",
    "주민등록번호의 뒷 자리 7자리 중 두번째와 세번째는 지역코드를 의미한다. 주민 등록 번호를 입력 받은 후 출생지가 서울인지 아닌지 판단하는 코드를 작성하라\n",
    "\n",
    "지역코드\t출생지\n",
    "00 ~ 08\t서울\n",
    "09 ~ 12\t부산"
   ]
  },
  {
   "cell_type": "code",
   "execution_count": null,
   "id": "3849c205",
   "metadata": {},
   "outputs": [],
   "source": [
    "주민번호 = input(\"주민등록번호: \")\n",
    "뒷자리 = 주민번호.split(\"-\")[1]\n",
    "if 뒷자리[1:3] in ['00', '01', '02', '03', '04', '05', '06', '07', '08']:\n",
    "     print(\"서울 입니다.\")\n",
    "else:\n",
    "    print(\"서울이 아닙니다.\")"
   ]
  },
  {
   "cell_type": "code",
   "execution_count": null,
   "id": "1d2e1126",
   "metadata": {},
   "outputs": [],
   "source": [
    "129\n",
    "주민등록번호는 13자리로 구성되는데 마지막 자리수는 주민등록번호의 유효성을 체크하는데 사용된다.#\n",
    "먼저 앞에서부터 12자리의 숫자에 2, 3, 4, 5, 6, 7, 8, 9, 2, 3, 4, 5를 차례로 곱한 뒤 그 값을 전부 더한다. \n",
    "연산 결과 값을 11로 나누면 나머지가 나오는데 11에서 나머지를 뺀 값이 주민등록번호의 마지막 번호가 된다.\n",
    "\n",
    "  8 2 1 0 1 0 - 1 6 3 5 2 1 0\n",
    "x 2 3 4 5 6 7   8 9 2 3 4 5 \n",
    "-----------------------------\n",
    "1차 계산: (8*2 + 2*3 + 1*4 + 0*5 + 1*6 + 0*7 + 1*8 + 6*9 + 3*2 + 5*3 + 2*4 + 1*5) = (128 % 11) = 7\n",
    "2차 계산: 11 -7 = 4\n",
    "위와 같이 821010-1635210에 대해서 계산을 해보면 마지막 자리는 4가 되어야 함을 알 수 있다. \n",
    "즉, 821010-1635210은 유효하지 않은 주민등록번호임을 알 수 있다.\n",
    "\n",
    "다음과 같이 사용자로부터 주민등록번호를 입력받은 후 주민등록번호가 유효한지를 출력하는 프로그램을 작성하라.\n",
    "\n",
    ">> 주민등록번호: 821010-1635210\n",
    "유효하지 않은 주민등록번호입니다. "
   ]
  },
  {
   "cell_type": "code",
   "execution_count": null,
   "id": "e0cc6681",
   "metadata": {},
   "outputs": [],
   "source": [
    "data = input(\"주민등록번호: \")\n",
    "data = data.replace(\"-\", \"\")\n",
    "계산1 = int(num[0]) * 2 + int(num[1]) * 3 + int(num[2]) * 4 + int(num[3]) * 5 + int(num[4]) * 6 + \\\n",
    "        int(num[5]) * 7 + int(num[7]) * 8 + int(num[8]) * 9 + int(num[9]) * 2 + int(num[10])* 3 + \\\n",
    "        int(num[11])* 4 + int(num[12]) * 5\n",
    "\n",
    "계산1 = 계산1 % 11\n",
    "계산2 = 11 - 계산1\n",
    "계산2 = str(계산2)\n",
    "\n",
    "if data[-1] == 계산2[-1]:\n",
    "    print(\"유효한 주민등록번호입니다.\")\n",
    "else:\n",
    "    print(\"유효하지 않은 주민등록번호입니다.\")"
   ]
  },
  {
   "cell_type": "code",
   "execution_count": null,
   "id": "7c867c4d",
   "metadata": {},
   "outputs": [],
   "source": [
    "130\n",
    "아래 코드는 비트코인의 가격 정보를 딕셔너리로 가져오는 코드이다.#\n",
    "\n",
    "import requests\n",
    "btc = requests.get(\"https://api.bithumb.com/public/ticker/\").json()['data']\n",
    "btc 딕셔너리 안에는 시가, 종가, 최고가, 최저가 등이 저장되어 있다. \n",
    "최고가와 최저가의 차이를 변동폭으로 정의할 때 (시가 + 변동폭)이 최고가 보다 높을 경우 \"상승장\", 그렇지 않은 경우 \"하락장\" 문자열을 출력하라.\n",
    "\n",
    "Key Name\tDescription\n",
    "opening_price\t최근 24시간 내 시작 거래금액\n",
    "closing_price\t최근 24시간 내 마지막 거래금액\n",
    "min_price\t최근 24시간 내 최저 거래금액\n",
    "max_price\t최근 24시간 내 최고 거래금액"
   ]
  },
  {
   "cell_type": "code",
   "execution_count": 3,
   "id": "32c4720b",
   "metadata": {},
   "outputs": [
    {
     "name": "stdout",
     "output_type": "stream",
     "text": [
      "상승장\n"
     ]
    }
   ],
   "source": [
    "import requests\n",
    "btc = requests.get(\"https://api.bithumb.com/public/ticker/\").json()['data']\n",
    "\n",
    "변동폭 = float(btc['max_price']) - float(btc['min_price'])\n",
    "시가 = float(btc['opening_price'])\n",
    "최고가 = float(btc['max_price'])\n",
    "\n",
    "if(시가 + 변동폭) > 최고가:\n",
    "    print(\"상승장\")\n",
    "else:\n",
    "    print(\"하락장\")"
   ]
  },
  {
   "cell_type": "markdown",
   "id": "0dea63a9",
   "metadata": {},
   "source": [
    "## 08 파이썬 반복문"
   ]
  },
  {
   "cell_type": "code",
   "execution_count": null,
   "id": "2ecef9b9",
   "metadata": {},
   "outputs": [],
   "source": [
    "131\n",
    "for문의 실행결과를 예측하라.\n",
    "\n",
    "과일 = [\"사과\", \"귤\", \"수박\"]\n",
    "for 변수 in 과일:\n",
    "    print(변수)"
   ]
  },
  {
   "cell_type": "code",
   "execution_count": 2,
   "id": "fa389c9d",
   "metadata": {},
   "outputs": [
    {
     "name": "stdout",
     "output_type": "stream",
     "text": [
      "사과\n",
      "귤\n",
      "수박\n"
     ]
    }
   ],
   "source": [
    "과일 = [\"사과\", \"귤\", \"수박\"]\n",
    "for 변수 in 과일:\n",
    "    print(변수)"
   ]
  },
  {
   "cell_type": "code",
   "execution_count": null,
   "id": "e25fab62",
   "metadata": {},
   "outputs": [],
   "source": [
    "132\n",
    "for문의 실행결과를 예측하라.\n",
    "\n",
    "과일 = [\"사과\", \"귤\", \"수박\"]\n",
    "for 변수 in 과일:\n",
    "  print(\"#####\")"
   ]
  },
  {
   "cell_type": "code",
   "execution_count": 3,
   "id": "05f283dd",
   "metadata": {},
   "outputs": [
    {
     "name": "stdout",
     "output_type": "stream",
     "text": [
      "#####\n",
      "#####\n",
      "#####\n"
     ]
    }
   ],
   "source": [
    "과일 = [\"사과\", \"귤\", \"수박\"]\n",
    "for 변수 in 과일:\n",
    "  print(\"#####\")"
   ]
  },
  {
   "cell_type": "code",
   "execution_count": null,
   "id": "07037585",
   "metadata": {},
   "outputs": [],
   "source": [
    "133\n",
    "다음 for 문과 동일한 기능을 수행하는 코드를 작성하세요.\n",
    "\n",
    "for 변수 in [\"A\", \"B\", \"C\"]:\n",
    "  print(변수)"
   ]
  },
  {
   "cell_type": "code",
   "execution_count": 4,
   "id": "bf2332aa",
   "metadata": {},
   "outputs": [
    {
     "name": "stdout",
     "output_type": "stream",
     "text": [
      "A\n",
      "B\n",
      "C\n"
     ]
    }
   ],
   "source": [
    "for 변수 in [\"A\", \"B\", \"C\"]:\n",
    "  print(변수)"
   ]
  },
  {
   "cell_type": "code",
   "execution_count": 5,
   "id": "2ead8100",
   "metadata": {},
   "outputs": [
    {
     "name": "stdout",
     "output_type": "stream",
     "text": [
      "A\n",
      "B\n",
      "C\n"
     ]
    }
   ],
   "source": [
    "print(\"A\")\n",
    "print(\"B\")\n",
    "print(\"C\")"
   ]
  },
  {
   "cell_type": "code",
   "execution_count": null,
   "id": "743f59b4",
   "metadata": {},
   "outputs": [],
   "source": [
    "134\n",
    "for문을 풀어서 동일한 동작을하는 코드를 작성하라.\n",
    "\n",
    "for 변수 in [\"A\", \"B\", \"C\"]:\n",
    "  print(\"출력:\", 변수)"
   ]
  },
  {
   "cell_type": "code",
   "execution_count": 6,
   "id": "29d49149",
   "metadata": {},
   "outputs": [
    {
     "name": "stdout",
     "output_type": "stream",
     "text": [
      "출력: A\n",
      "출력: B\n",
      "출력: C\n"
     ]
    }
   ],
   "source": [
    "for 변수 in [\"A\", \"B\", \"C\"]:\n",
    "  print(\"출력:\", 변수)"
   ]
  },
  {
   "cell_type": "code",
   "execution_count": 7,
   "id": "53efc202",
   "metadata": {},
   "outputs": [
    {
     "name": "stdout",
     "output_type": "stream",
     "text": [
      "출력: A\n",
      "출력: B\n",
      "출력: C\n"
     ]
    }
   ],
   "source": [
    "print(\"출력:\", \"A\")\n",
    "print(\"출력:\", \"B\")\n",
    "print(\"출력:\", \"C\")"
   ]
  },
  {
   "cell_type": "code",
   "execution_count": null,
   "id": "6cbbf969",
   "metadata": {},
   "outputs": [],
   "source": [
    "135\n",
    "for문을 풀어서 동일한 동작을 하는 코드를 작성하라.\n",
    "\n",
    "for 변수 in [\"A\", \"B\", \"C\"]:\n",
    "  b = 변수.lower()\n",
    "  print(\"변환:\", b)"
   ]
  },
  {
   "cell_type": "code",
   "execution_count": 8,
   "id": "d2aefd83",
   "metadata": {},
   "outputs": [
    {
     "name": "stdout",
     "output_type": "stream",
     "text": [
      "변환: a\n",
      "변환: b\n",
      "변환: c\n"
     ]
    }
   ],
   "source": [
    "for 변수 in [\"A\", \"B\", \"C\"]:\n",
    "    b = 변수.lower()\n",
    "    print(\"변환:\", b)"
   ]
  },
  {
   "cell_type": "code",
   "execution_count": 11,
   "id": "e9dc6a89",
   "metadata": {},
   "outputs": [
    {
     "name": "stdout",
     "output_type": "stream",
     "text": [
      "변환:  a\n",
      "변환:  b\n",
      "변환:  c\n"
     ]
    }
   ],
   "source": [
    "변수 = \"A\"\n",
    "b = 변수.lower()\n",
    "print(\"변환: \", b)\n",
    "\n",
    "변수 = \"B\"\n",
    "b = 변수.lower()\n",
    "print(\"변환: \", b)\n",
    "\n",
    "변수 = \"C\"\n",
    "b = 변수.lower()\n",
    "print(\"변환: \", b)"
   ]
  },
  {
   "cell_type": "code",
   "execution_count": null,
   "id": "b017737e",
   "metadata": {},
   "outputs": [],
   "source": [
    "136\n",
    "다음 코드를 for문으로 작성하라.\n",
    "\n",
    "변수 = 10\n",
    "print(변수)\n",
    "변수 = 20\n",
    "print(변수)\n",
    "변수 = 30\n",
    "print(변수)"
   ]
  },
  {
   "cell_type": "code",
   "execution_count": 17,
   "id": "699ef797",
   "metadata": {},
   "outputs": [
    {
     "name": "stdout",
     "output_type": "stream",
     "text": [
      "10\n",
      "20\n",
      "30\n"
     ]
    }
   ],
   "source": [
    "for i in [10, 20, 30]:\n",
    "    print(i)"
   ]
  },
  {
   "cell_type": "code",
   "execution_count": null,
   "id": "bd8adb19",
   "metadata": {},
   "outputs": [],
   "source": [
    "137\n",
    "다음 코드를 for문으로 작성하라.\n",
    "\n",
    "print(10)\n",
    "print(20)\n",
    "print(30)"
   ]
  },
  {
   "cell_type": "code",
   "execution_count": 18,
   "id": "ae50db3c",
   "metadata": {},
   "outputs": [
    {
     "name": "stdout",
     "output_type": "stream",
     "text": [
      "10\n",
      "20\n",
      "30\n"
     ]
    }
   ],
   "source": [
    "for i in [10, 20, 30]:\n",
    "    print(i)"
   ]
  },
  {
   "cell_type": "code",
   "execution_count": null,
   "id": "b1c88dd1",
   "metadata": {},
   "outputs": [],
   "source": [
    "138\n",
    "다음 코드를 for문으로 작성하라.\n",
    "\n",
    "print(10)\n",
    "print(\"-------\")\n",
    "print(20)\n",
    "print(\"-------\")\n",
    "print(30)\n",
    "print(\"-------\")"
   ]
  },
  {
   "cell_type": "code",
   "execution_count": 21,
   "id": "380cb855",
   "metadata": {},
   "outputs": [
    {
     "name": "stdout",
     "output_type": "stream",
     "text": [
      "10\n",
      "------\n",
      "20\n",
      "------\n",
      "30\n",
      "------\n"
     ]
    }
   ],
   "source": [
    "for i in [10, 20, 30]:\n",
    "    print(i)\n",
    "    print(\"------\")"
   ]
  },
  {
   "cell_type": "code",
   "execution_count": null,
   "id": "93cd5ad4",
   "metadata": {},
   "outputs": [],
   "source": [
    "139\n",
    "다음 코드를 for문으로 작성하라.\n",
    "\n",
    "print(\"++++\")\n",
    "print(10)\n",
    "print(20)\n",
    "print(30)"
   ]
  },
  {
   "cell_type": "code",
   "execution_count": 22,
   "id": "b85fb3c7",
   "metadata": {},
   "outputs": [
    {
     "name": "stdout",
     "output_type": "stream",
     "text": [
      "++++\n",
      "10\n",
      "20\n",
      "30\n"
     ]
    }
   ],
   "source": [
    "print(\"++++\")\n",
    "for i in [10, 20, 30]:\n",
    "    print(i)"
   ]
  },
  {
   "cell_type": "code",
   "execution_count": null,
   "id": "fe2e1b60",
   "metadata": {},
   "outputs": [],
   "source": [
    "140\n",
    "다음 코드를 for문으로 작성하라.\n",
    "\n",
    "print(\"-------\")\n",
    "print(\"-------\")\n",
    "print(\"-------\")\n",
    "print(\"-------\")"
   ]
  },
  {
   "cell_type": "code",
   "execution_count": 24,
   "id": "2218000c",
   "metadata": {},
   "outputs": [
    {
     "name": "stdout",
     "output_type": "stream",
     "text": [
      "-------\n",
      "-------\n",
      "-------\n",
      "-------\n"
     ]
    }
   ],
   "source": [
    "for i in [\"-------\"]:\n",
    "    print(i)\n",
    "    print(i)\n",
    "    print(i)\n",
    "    print(i)"
   ]
  },
  {
   "cell_type": "code",
   "execution_count": 25,
   "id": "b1175af0",
   "metadata": {},
   "outputs": [
    {
     "name": "stdout",
     "output_type": "stream",
     "text": [
      "-------\n",
      "-------\n",
      "-------\n",
      "-------\n"
     ]
    }
   ],
   "source": [
    "for 변수 in [1, 2, 3, 4]:\n",
    "  print(\"-------\")"
   ]
  },
  {
   "cell_type": "code",
   "execution_count": null,
   "id": "c51ab13e",
   "metadata": {},
   "outputs": [],
   "source": [
    "141\n",
    "다음과 같이 판매가가 저장된 리스트가 있을 때 부가세가 포함된 가격을 for 문을 사용해서 화면에 출력하라. 단 부가세는 10원으로 가정한다.\n",
    "\n",
    "리스트 = [100, 200, 300]\n",
    "110\n",
    "210\n",
    "310"
   ]
  },
  {
   "cell_type": "code",
   "execution_count": 26,
   "id": "a088d49d",
   "metadata": {},
   "outputs": [
    {
     "name": "stdout",
     "output_type": "stream",
     "text": [
      "110\n",
      "210\n",
      "310\n"
     ]
    }
   ],
   "source": [
    "for i in [100, 200, 300]:\n",
    "    print(i + 10)"
   ]
  },
  {
   "cell_type": "code",
   "execution_count": null,
   "id": "92a72c06",
   "metadata": {},
   "outputs": [],
   "source": [
    "142\n",
    "for 문을 사용해서 리스트에 저장된 값을 다음과 같이 출력하라.\n",
    "\n",
    "리스트 = [\"김밥\", \"라면\", \"튀김\"]\n",
    "오늘의 메뉴: 김밥\n",
    "오늘의 메뉴: 라면\n",
    "오늘의 메뉴: 튀김"
   ]
  },
  {
   "cell_type": "code",
   "execution_count": 28,
   "id": "c29a10f0",
   "metadata": {},
   "outputs": [
    {
     "name": "stdout",
     "output_type": "stream",
     "text": [
      "오늘의 메뉴: 김밥\n",
      "오늘의 메뉴: 라면\n",
      "오늘의 메뉴: 튀김\n"
     ]
    }
   ],
   "source": [
    "for i in [\"김밥\", \"라면\", \"튀김\"]:\n",
    "    print(\"오늘의 메뉴:\", i)"
   ]
  },
  {
   "cell_type": "code",
   "execution_count": null,
   "id": "e688d19f",
   "metadata": {},
   "outputs": [],
   "source": [
    "143\n",
    "리스트에 주식 종목이름이 저장돼 있다.\n",
    "\n",
    "리스트 = [\"SK하이닉스\", \"삼성전자\", \"LG전자\"]\n",
    "저장된 문자열의 길이를 다음과 같이 출력하라.\n",
    "\n",
    "6\n",
    "4\n",
    "4"
   ]
  },
  {
   "cell_type": "code",
   "execution_count": 35,
   "id": "c04dc602",
   "metadata": {},
   "outputs": [
    {
     "name": "stdout",
     "output_type": "stream",
     "text": [
      "6\n",
      "4\n",
      "4\n"
     ]
    }
   ],
   "source": [
    "for i in [\"SK하이닉스\", \"삼성전자\", \"LG전자\"]:\n",
    "    print(len(i))"
   ]
  },
  {
   "cell_type": "code",
   "execution_count": null,
   "id": "cd6e5bc7",
   "metadata": {},
   "outputs": [],
   "source": [
    "144\n",
    "리스트에는 동물이름이 문자열로 저장돼 있다.\n",
    "\n",
    "리스트 = ['dog', 'cat', 'parrot']\n",
    "동물 이름과 글자수를 다음과 같이 출력하라.\n",
    "\n",
    "dog 3\n",
    "cat 3\n",
    "parrot 6"
   ]
  },
  {
   "cell_type": "code",
   "execution_count": 39,
   "id": "89c8f3d6",
   "metadata": {},
   "outputs": [
    {
     "name": "stdout",
     "output_type": "stream",
     "text": [
      "dog 3\n",
      "cat 3\n",
      "parrot 6\n"
     ]
    }
   ],
   "source": [
    "for i in ['dog', 'cat', 'parrot']:\n",
    "    print(i, len(i))"
   ]
  },
  {
   "cell_type": "code",
   "execution_count": null,
   "id": "bae4e7ad",
   "metadata": {},
   "outputs": [],
   "source": [
    "145\n",
    "리스트에 동물 이름 저장돼 있다.\n",
    "\n",
    "리스트 = ['dog', 'cat', 'parrot']\n",
    "for문을 사용해서 동물 이름의 첫 글자만 출력하라.\n",
    "\n",
    "d\n",
    "c\n",
    "p"
   ]
  },
  {
   "cell_type": "code",
   "execution_count": 40,
   "id": "e57b6299",
   "metadata": {},
   "outputs": [
    {
     "name": "stdout",
     "output_type": "stream",
     "text": [
      "d\n",
      "c\n",
      "p\n"
     ]
    }
   ],
   "source": [
    "for i in ['dog', 'cat', 'parrot']:\n",
    "    print(i[0])"
   ]
  },
  {
   "cell_type": "code",
   "execution_count": null,
   "id": "34fede66",
   "metadata": {},
   "outputs": [],
   "source": [
    "146\n",
    "리스트에는 세 개의 숫자가 바인딩돼 있다.\n",
    "\n",
    "리스트 = [1, 2, 3]\n",
    "for문을 사용해서 다음과 같이 출력하라.\n",
    "\n",
    "3 x 1\n",
    "3 x 2\n",
    "3 x 3"
   ]
  },
  {
   "cell_type": "code",
   "execution_count": 42,
   "id": "514fc5c4",
   "metadata": {},
   "outputs": [
    {
     "name": "stdout",
     "output_type": "stream",
     "text": [
      "3 x 1\n",
      "3 x 2\n",
      "3 x 3\n"
     ]
    }
   ],
   "source": [
    "for i in [1, 2, 3]:\n",
    "    print(\"3 x\", i)"
   ]
  },
  {
   "cell_type": "code",
   "execution_count": null,
   "id": "a212df62",
   "metadata": {},
   "outputs": [],
   "source": [
    "147\n",
    "리스트에는 세 개의 숫자가 바인딩돼 있다.\n",
    "\n",
    "리스트 = [1, 2, 3]\n",
    "for문을 사용해서 다음과 같이 출력하라.\n",
    "\n",
    "3 x 1 = 3\n",
    "3 x 2 = 6\n",
    "3 x 3 = 9"
   ]
  },
  {
   "cell_type": "code",
   "execution_count": 47,
   "id": "88298118",
   "metadata": {},
   "outputs": [
    {
     "name": "stdout",
     "output_type": "stream",
     "text": [
      "3 x 1 = 3\n",
      "3 x 2 = 6\n",
      "3 x 3 = 9\n"
     ]
    }
   ],
   "source": [
    "for i in [1, 2, 3]:\n",
    "    print(\"3 x\", i, \"=\", 3*i)"
   ]
  },
  {
   "cell_type": "code",
   "execution_count": null,
   "id": "c3e71a84",
   "metadata": {},
   "outputs": [],
   "source": [
    "148\n",
    "리스트에는 네 개의 문자열이 바인딩돼 있다.#\n",
    "\n",
    "리스트 = [\"가\", \"나\", \"다\", \"라\"]\n",
    "for문을 사용해서 다음과 같이 출력하라.\n",
    "\n",
    "나\n",
    "다\n",
    "라"
   ]
  },
  {
   "cell_type": "code",
   "execution_count": 55,
   "id": "ac9dfbdb",
   "metadata": {},
   "outputs": [
    {
     "name": "stdout",
     "output_type": "stream",
     "text": [
      "나\n",
      "다\n",
      "라\n"
     ]
    }
   ],
   "source": [
    "list = [\"가\", \"나\", \"다\", \"라\"]\n",
    "for i in list[1:]:\n",
    "    print(i)"
   ]
  },
  {
   "cell_type": "code",
   "execution_count": null,
   "id": "ca941ab3",
   "metadata": {},
   "outputs": [],
   "source": [
    "149\n",
    "리스트에는 네 개의 문자열이 바인딩돼 있다.\n",
    "\n",
    "리스트 = [\"가\", \"나\", \"다\", \"라\"]\n",
    "for문을 사용해서 다음과 같이 출력하라.\n",
    "\n",
    "가\n",
    "다"
   ]
  },
  {
   "cell_type": "code",
   "execution_count": 59,
   "id": "783ce987",
   "metadata": {},
   "outputs": [
    {
     "name": "stdout",
     "output_type": "stream",
     "text": [
      "가\n",
      "다\n"
     ]
    }
   ],
   "source": [
    "리스트 = [\"가\", \"나\", \"다\", \"라\"]\n",
    "for i in 리스트[0],리스트[2]:\n",
    "    print(i)"
   ]
  },
  {
   "cell_type": "code",
   "execution_count": 60,
   "id": "674732cf",
   "metadata": {},
   "outputs": [
    {
     "name": "stdout",
     "output_type": "stream",
     "text": [
      "가\n",
      "다\n"
     ]
    }
   ],
   "source": [
    "리스트 = [\"가\", \"나\", \"다\", \"라\"]\n",
    "for 변수 in 리스트[: :2]:\n",
    "  print(변수)"
   ]
  },
  {
   "cell_type": "code",
   "execution_count": null,
   "id": "f67da89f",
   "metadata": {},
   "outputs": [],
   "source": [
    "150\n",
    "리스트에는 네 개의 문자열이 바인딩돼 있다.#\n",
    "\n",
    "리스트 = [\"가\", \"나\", \"다\", \"라\"]\n",
    "for문을 사용해서 다음과 같이 출력하라.\n",
    "\n",
    "라\n",
    "다\n",
    "나\n",
    "가"
   ]
  },
  {
   "cell_type": "code",
   "execution_count": 71,
   "id": "e051e75d",
   "metadata": {},
   "outputs": [
    {
     "name": "stdout",
     "output_type": "stream",
     "text": [
      "라\n",
      "다\n",
      "나\n",
      "가\n"
     ]
    }
   ],
   "source": [
    "리스트 = [\"가\", \"나\", \"다\", \"라\"]\n",
    "for i in 리스트[: :-1]:\n",
    "    print(i)"
   ]
  },
  {
   "cell_type": "code",
   "execution_count": null,
   "id": "5551db7d",
   "metadata": {},
   "outputs": [],
   "source": [
    "151\n",
    "리스트에는 네 개의 정수가 저장돼 있다.#\n",
    "\n",
    "리스트 = [3, -20, -3, 44]\n",
    "for문을 사용해서 리스트의 음수를 출력하라.\n",
    "\n",
    "-20\n",
    "-3"
   ]
  },
  {
   "cell_type": "code",
   "execution_count": 75,
   "id": "9d69b350",
   "metadata": {},
   "outputs": [
    {
     "name": "stdout",
     "output_type": "stream",
     "text": [
      "-20\n",
      "-3\n"
     ]
    }
   ],
   "source": [
    "리스트 = [3, -20, -3, 44]\n",
    "for i in 리스트:\n",
    "    if i < 0:\n",
    "        print(i)"
   ]
  },
  {
   "cell_type": "code",
   "execution_count": null,
   "id": "eb6d23fd",
   "metadata": {},
   "outputs": [],
   "source": [
    "152\n",
    "for문을 사용해서 3의 배수만을 출력하라.\n",
    "\n",
    "리스트 = [3, 100, 23, 44]\n",
    "3"
   ]
  },
  {
   "cell_type": "code",
   "execution_count": 76,
   "id": "202ffc66",
   "metadata": {},
   "outputs": [
    {
     "name": "stdout",
     "output_type": "stream",
     "text": [
      "3\n"
     ]
    }
   ],
   "source": [
    "리스트 = [3, 100, 23, 44]\n",
    "for i in 리스트:\n",
    "    if i % 3 == 0:\n",
    "        print(i)"
   ]
  },
  {
   "cell_type": "code",
   "execution_count": null,
   "id": "9cadba06",
   "metadata": {},
   "outputs": [],
   "source": [
    "153\n",
    "리스트에서 20 보다 작은 3의 배수를 출력하라\n",
    "\n",
    "리스트 = [13, 21, 12, 14, 30, 18]\n",
    "12\n",
    "18"
   ]
  },
  {
   "cell_type": "code",
   "execution_count": 78,
   "id": "cff7fd56",
   "metadata": {},
   "outputs": [
    {
     "name": "stdout",
     "output_type": "stream",
     "text": [
      "12\n",
      "18\n"
     ]
    }
   ],
   "source": [
    "리스트 = [13, 21, 12, 14, 30, 18]\n",
    "for i in 리스트:\n",
    "    if i < 20 and i % 3 == 0:\n",
    "        print(i)"
   ]
  },
  {
   "cell_type": "code",
   "execution_count": null,
   "id": "853f741a",
   "metadata": {},
   "outputs": [],
   "source": [
    "154\n",
    "리스트에서 세 글자 이상의 문자를 화면에 출력하라\n",
    "\n",
    "리스트 = [\"I\", \"study\", \"python\", \"language\", \"!\"]\n",
    "study\n",
    "python\n",
    "language"
   ]
  },
  {
   "cell_type": "code",
   "execution_count": 80,
   "id": "485b00aa",
   "metadata": {},
   "outputs": [
    {
     "name": "stdout",
     "output_type": "stream",
     "text": [
      "study\n",
      "python\n",
      "language\n"
     ]
    }
   ],
   "source": [
    "리스트 = [\"I\", \"study\", \"python\", \"language\", \"!\"]\n",
    "for i in 리스트:\n",
    "    if len(i) >= 3:\n",
    "        print(i)"
   ]
  },
  {
   "cell_type": "code",
   "execution_count": null,
   "id": "bddbf919",
   "metadata": {},
   "outputs": [],
   "source": [
    "155\n",
    "리스트에서 대문자만 화면에 출력하라.\n",
    "\n",
    "리스트 = [\"A\", \"b\", \"c\", \"D\"]\n",
    "A\n",
    "D"
   ]
  },
  {
   "cell_type": "code",
   "execution_count": 82,
   "id": "175d4385",
   "metadata": {},
   "outputs": [
    {
     "name": "stdout",
     "output_type": "stream",
     "text": [
      "A\n",
      "D\n"
     ]
    }
   ],
   "source": [
    "리스트 = [\"A\", \"b\", \"c\", \"D\"]\n",
    "for i in 리스트:\n",
    "    if i.isupper():\n",
    "        print(i)"
   ]
  },
  {
   "cell_type": "code",
   "execution_count": null,
   "id": "d20099b9",
   "metadata": {},
   "outputs": [],
   "source": [
    "156\n",
    "리스트에서 소문자만 화면에 출력하라.\n",
    "\n",
    "리스트 = [\"A\", \"b\", \"c\", \"D\"]\n",
    "b\n",
    "c"
   ]
  },
  {
   "cell_type": "code",
   "execution_count": 83,
   "id": "d7b6483b",
   "metadata": {},
   "outputs": [
    {
     "name": "stdout",
     "output_type": "stream",
     "text": [
      "b\n",
      "c\n"
     ]
    }
   ],
   "source": [
    "리스트 = [\"A\", \"b\", \"c\", \"D\"]\n",
    "for i in 리스트:\n",
    "    if i.islower():\n",
    "        print(i)"
   ]
  },
  {
   "cell_type": "code",
   "execution_count": null,
   "id": "5fd0222d",
   "metadata": {},
   "outputs": [],
   "source": [
    "157\n",
    "이름의 첫 글자를 대문자로 변경해서 출력하라.\n",
    "\n",
    "리스트 = ['dog', 'cat', 'parrot']\n",
    "Dog\n",
    "Cat\n",
    "Parrot"
   ]
  },
  {
   "cell_type": "code",
   "execution_count": 89,
   "id": "cf94c780",
   "metadata": {},
   "outputs": [
    {
     "name": "stdout",
     "output_type": "stream",
     "text": [
      "Dog\n",
      "Cat\n",
      "Parrot\n"
     ]
    }
   ],
   "source": [
    "리스트 = ['dog', 'cat', 'parrot']\n",
    "for i in 리스트:\n",
    "    print(i[0].upper() + i[1:])"
   ]
  },
  {
   "cell_type": "code",
   "execution_count": null,
   "id": "8ba08e50",
   "metadata": {},
   "outputs": [],
   "source": [
    "158\n",
    "파일 이름이 저장된 리스트에서 확장자를 제거하고 파일 이름만 화면에 출력하라. (힌트: split() 메서드)\n",
    "\n",
    "리스트 = ['hello.py', 'ex01.py', 'intro.hwp']\n",
    "hello\n",
    "ex01\n",
    "intro"
   ]
  },
  {
   "cell_type": "code",
   "execution_count": 94,
   "id": "87579555",
   "metadata": {},
   "outputs": [
    {
     "name": "stdout",
     "output_type": "stream",
     "text": [
      "hello\n",
      "ex01\n",
      "intro\n"
     ]
    }
   ],
   "source": [
    "리스트 = ['hello.py', 'ex01.py', 'intro.hwp']\n",
    "for i in 리스트:\n",
    "    print(i.split(\".\")[0])"
   ]
  },
  {
   "cell_type": "code",
   "execution_count": null,
   "id": "504debd2",
   "metadata": {},
   "outputs": [],
   "source": [
    "159\n",
    "파일 이름이 저장된 리스트에서 확장자가 .h인 파일 이름을 출력하라.#\n",
    "\n",
    "리스트 = ['intra.h', 'intra.c', 'define.h', 'run.py']"
   ]
  },
  {
   "cell_type": "code",
   "execution_count": 111,
   "id": "a53a6595",
   "metadata": {},
   "outputs": [
    {
     "name": "stdout",
     "output_type": "stream",
     "text": [
      "intra.h\n",
      "define.h\n"
     ]
    }
   ],
   "source": [
    "리스트 = ['intra.h', 'intra.c', 'define.h', 'run.py']\n",
    "for i in 리스트:\n",
    "    split = i.split(\".\")\n",
    "    if split[1] == \"h\":\n",
    "        print(i)"
   ]
  },
  {
   "cell_type": "code",
   "execution_count": null,
   "id": "b8b0b219",
   "metadata": {},
   "outputs": [],
   "source": [
    "160\n",
    "파일 이름이 저장된 리스트에서 확장자가 .h나 .c인 파일을 화면에 출력하라.\n",
    "\n",
    "리스트 = ['intra.h', 'intra.c', 'define.h', 'run.py']\n",
    "intra.h\n",
    "intra.c\n",
    "define.h"
   ]
  },
  {
   "cell_type": "code",
   "execution_count": 116,
   "id": "378a12c6",
   "metadata": {},
   "outputs": [
    {
     "name": "stdout",
     "output_type": "stream",
     "text": [
      "intra.h\n",
      "intra.c\n",
      "define.h\n"
     ]
    }
   ],
   "source": [
    "리스트 = ['intra.h', 'intra.c', 'define.h', 'run.py']\n",
    "\n",
    "for i in 리스트:\n",
    "    split = i.split('.')\n",
    "    if split[1] == \"h\" or split[1] == \"c\":\n",
    "        print(i)"
   ]
  },
  {
   "cell_type": "code",
   "execution_count": null,
   "id": "7ed541af",
   "metadata": {},
   "outputs": [],
   "source": [
    "161\n",
    "for문과 range 구문을 사용해서 0~99까지 한 라인에 하나씩 순차적으로 출력하는 프로그램을 작성하라."
   ]
  },
  {
   "cell_type": "code",
   "execution_count": 117,
   "id": "875faf26",
   "metadata": {},
   "outputs": [
    {
     "name": "stdout",
     "output_type": "stream",
     "text": [
      "0\n",
      "1\n",
      "2\n",
      "3\n",
      "4\n",
      "5\n",
      "6\n",
      "7\n",
      "8\n",
      "9\n",
      "10\n",
      "11\n",
      "12\n",
      "13\n",
      "14\n",
      "15\n",
      "16\n",
      "17\n",
      "18\n",
      "19\n",
      "20\n",
      "21\n",
      "22\n",
      "23\n",
      "24\n",
      "25\n",
      "26\n",
      "27\n",
      "28\n",
      "29\n",
      "30\n",
      "31\n",
      "32\n",
      "33\n",
      "34\n",
      "35\n",
      "36\n",
      "37\n",
      "38\n",
      "39\n",
      "40\n",
      "41\n",
      "42\n",
      "43\n",
      "44\n",
      "45\n",
      "46\n",
      "47\n",
      "48\n",
      "49\n",
      "50\n",
      "51\n",
      "52\n",
      "53\n",
      "54\n",
      "55\n",
      "56\n",
      "57\n",
      "58\n",
      "59\n",
      "60\n",
      "61\n",
      "62\n",
      "63\n",
      "64\n",
      "65\n",
      "66\n",
      "67\n",
      "68\n",
      "69\n",
      "70\n",
      "71\n",
      "72\n",
      "73\n",
      "74\n",
      "75\n",
      "76\n",
      "77\n",
      "78\n",
      "79\n",
      "80\n",
      "81\n",
      "82\n",
      "83\n",
      "84\n",
      "85\n",
      "86\n",
      "87\n",
      "88\n",
      "89\n",
      "90\n",
      "91\n",
      "92\n",
      "93\n",
      "94\n",
      "95\n",
      "96\n",
      "97\n",
      "98\n",
      "99\n"
     ]
    }
   ],
   "source": [
    "for i in range(0, 100):\n",
    "    print(i)"
   ]
  },
  {
   "cell_type": "code",
   "execution_count": null,
   "id": "e2e9572e",
   "metadata": {},
   "outputs": [],
   "source": [
    "162\n",
    "월드컵은 4년에 한 번 개최된다. range()를 사용하여 2002~2050년까지 중 월드컵이 개최되는 연도를 출력하라."
   ]
  },
  {
   "cell_type": "code",
   "execution_count": 119,
   "id": "5d56a2f1",
   "metadata": {},
   "outputs": [
    {
     "name": "stdout",
     "output_type": "stream",
     "text": [
      "2002\n",
      "2006\n",
      "2010\n",
      "2014\n",
      "2018\n",
      "2022\n",
      "2026\n",
      "2030\n",
      "2034\n",
      "2038\n",
      "2042\n",
      "2046\n",
      "2050\n"
     ]
    }
   ],
   "source": [
    "for i in range(2002, 2051, 4):\n",
    "    print(i)"
   ]
  },
  {
   "cell_type": "code",
   "execution_count": null,
   "id": "3604b7d3",
   "metadata": {},
   "outputs": [],
   "source": [
    "163\n",
    "1부터 30까지의 숫자 중 3의 배수를 출력하라.\n",
    "\n",
    "3 \n",
    "6 \n",
    "9 \n",
    "12 \n",
    "15 \n",
    "18 \n",
    "21 \n",
    "24 \n",
    "27 \n",
    "30"
   ]
  },
  {
   "cell_type": "code",
   "execution_count": 125,
   "id": "509ae0eb",
   "metadata": {},
   "outputs": [
    {
     "name": "stdout",
     "output_type": "stream",
     "text": [
      "3\n",
      "6\n",
      "9\n",
      "12\n",
      "15\n",
      "18\n",
      "21\n",
      "24\n",
      "27\n",
      "30\n"
     ]
    }
   ],
   "source": [
    "for i in range(3, 31, 3):\n",
    "    print(i)"
   ]
  },
  {
   "cell_type": "code",
   "execution_count": null,
   "id": "c5451fd4",
   "metadata": {},
   "outputs": [],
   "source": [
    "164\n",
    "99부터 0까지 1씩 감소하는 숫자들을, 한 라인에 하나씩 출력하라.#"
   ]
  },
  {
   "cell_type": "code",
   "execution_count": 130,
   "id": "51a9446c",
   "metadata": {},
   "outputs": [
    {
     "name": "stdout",
     "output_type": "stream",
     "text": [
      "99\n",
      "98\n",
      "97\n",
      "96\n",
      "95\n",
      "94\n",
      "93\n",
      "92\n",
      "91\n",
      "90\n",
      "89\n",
      "88\n",
      "87\n",
      "86\n",
      "85\n",
      "84\n",
      "83\n",
      "82\n",
      "81\n",
      "80\n",
      "79\n",
      "78\n",
      "77\n",
      "76\n",
      "75\n",
      "74\n",
      "73\n",
      "72\n",
      "71\n",
      "70\n",
      "69\n",
      "68\n",
      "67\n",
      "66\n",
      "65\n",
      "64\n",
      "63\n",
      "62\n",
      "61\n",
      "60\n",
      "59\n",
      "58\n",
      "57\n",
      "56\n",
      "55\n",
      "54\n",
      "53\n",
      "52\n",
      "51\n",
      "50\n",
      "49\n",
      "48\n",
      "47\n",
      "46\n",
      "45\n",
      "44\n",
      "43\n",
      "42\n",
      "41\n",
      "40\n",
      "39\n",
      "38\n",
      "37\n",
      "36\n",
      "35\n",
      "34\n",
      "33\n",
      "32\n",
      "31\n",
      "30\n",
      "29\n",
      "28\n",
      "27\n",
      "26\n",
      "25\n",
      "24\n",
      "23\n",
      "22\n",
      "21\n",
      "20\n",
      "19\n",
      "18\n",
      "17\n",
      "16\n",
      "15\n",
      "14\n",
      "13\n",
      "12\n",
      "11\n",
      "10\n",
      "9\n",
      "8\n",
      "7\n",
      "6\n",
      "5\n",
      "4\n",
      "3\n",
      "2\n",
      "1\n",
      "0\n"
     ]
    }
   ],
   "source": [
    "for i in range(100):\n",
    "    print(99 - i)"
   ]
  },
  {
   "cell_type": "code",
   "execution_count": null,
   "id": "678115f9",
   "metadata": {},
   "outputs": [],
   "source": [
    "165\n",
    "for문을 사용해서 아래와 같이 출력하라.\n",
    "\n",
    "0.0\n",
    "0.1\n",
    "0.2\n",
    "0.3\n",
    "0.4\n",
    "0.5\n",
    "...\n",
    "0.9"
   ]
  },
  {
   "cell_type": "code",
   "execution_count": 140,
   "id": "7474adb8",
   "metadata": {},
   "outputs": [
    {
     "name": "stdout",
     "output_type": "stream",
     "text": [
      "0.0\n",
      "0.1\n",
      "0.2\n",
      "0.30000000000000004\n",
      "0.4\n",
      "0.5\n",
      "0.6000000000000001\n",
      "0.7000000000000001\n",
      "0.8\n",
      "0.9\n"
     ]
    }
   ],
   "source": [
    "for i in range(0, 10):\n",
    "    print(0.1 * float(i))"
   ]
  },
  {
   "cell_type": "code",
   "execution_count": null,
   "id": "829e430f",
   "metadata": {},
   "outputs": [],
   "source": [
    "166\n",
    "구구단 3단을 출력하라.#\n",
    "\n",
    "3x1 = 3\n",
    "3x2 = 6\n",
    "3x3 = 9\n",
    "3x4 = 12\n",
    "3x5 = 15\n",
    "3x6 = 18\n",
    "3x7 = 21\n",
    "3x8 = 24\n",
    "3x9 = 27"
   ]
  },
  {
   "cell_type": "code",
   "execution_count": 145,
   "id": "abed1c53",
   "metadata": {},
   "outputs": [
    {
     "name": "stdout",
     "output_type": "stream",
     "text": [
      "3 x 1 = 3\n",
      "3 x 2 = 6\n",
      "3 x 3 = 9\n",
      "3 x 4 = 12\n",
      "3 x 5 = 15\n",
      "3 x 6 = 18\n",
      "3 x 7 = 21\n",
      "3 x 8 = 24\n",
      "3 x 9 = 27\n"
     ]
    }
   ],
   "source": [
    "for i in range(1, 10):\n",
    "    print(3, \"x\", i, \"=\", 3*i)"
   ]
  },
  {
   "cell_type": "code",
   "execution_count": null,
   "id": "219c3588",
   "metadata": {},
   "outputs": [],
   "source": [
    "167\n",
    "구구단 3단을 출력하라. 단 홀수 번째만 출력한다.\n",
    "\n",
    "3x1 = 3\n",
    "3x3 = 9\n",
    "3x5 = 15\n",
    "3x7 = 21\n",
    "3x9 = 27"
   ]
  },
  {
   "cell_type": "code",
   "execution_count": 146,
   "id": "999260be",
   "metadata": {},
   "outputs": [
    {
     "name": "stdout",
     "output_type": "stream",
     "text": [
      "3 x 1 = 3\n",
      "3 x 3 = 9\n",
      "3 x 5 = 15\n",
      "3 x 7 = 21\n",
      "3 x 9 = 27\n"
     ]
    }
   ],
   "source": [
    "for i in range(1, 10, 2):\n",
    "    print(3, \"x\", i, \"=\", 3*i)"
   ]
  },
  {
   "cell_type": "code",
   "execution_count": null,
   "id": "66a158f7",
   "metadata": {},
   "outputs": [],
   "source": [
    "168\n",
    "1~10까지의 숫자에 대해 모두 더한 값을 출력하는 프로그램을 for 문을 사용하여 작성하라.#\n",
    "\n",
    "합 : 55"
   ]
  },
  {
   "cell_type": "code",
   "execution_count": 148,
   "id": "d28a4608",
   "metadata": {},
   "outputs": [
    {
     "name": "stdout",
     "output_type": "stream",
     "text": [
      "합:  55\n"
     ]
    }
   ],
   "source": [
    "sum = 0\n",
    "for i in range(1, 11):\n",
    "    sum += i\n",
    "print(\"합: \", sum)"
   ]
  },
  {
   "cell_type": "code",
   "execution_count": null,
   "id": "dc91c4bf",
   "metadata": {},
   "outputs": [],
   "source": [
    "169\n",
    "1~10까지의 숫자 중 모든 홀수의 합을 출력하는 프로그램을 for 문을 사용하여 작성하라.\n",
    "\n",
    "합: 25"
   ]
  },
  {
   "cell_type": "code",
   "execution_count": 156,
   "id": "09b840d8",
   "metadata": {},
   "outputs": [
    {
     "name": "stdout",
     "output_type": "stream",
     "text": [
      "합:  25\n"
     ]
    }
   ],
   "source": [
    "sum = 0\n",
    "for i in range(1,10,2):\n",
    "    sum += i\n",
    "print(\"합: \", sum)"
   ]
  },
  {
   "cell_type": "code",
   "execution_count": null,
   "id": "f4b2d470",
   "metadata": {},
   "outputs": [],
   "source": [
    "170\n",
    "1~10까지의 숫자를 모두 곱한 값을 출력하는 프로그램을 for 문을 사용하여 작성하라."
   ]
  },
  {
   "cell_type": "code",
   "execution_count": 158,
   "id": "042c1203",
   "metadata": {},
   "outputs": [
    {
     "name": "stdout",
     "output_type": "stream",
     "text": [
      "곱:  3628800\n"
     ]
    }
   ],
   "source": [
    "mul = 1\n",
    "for i in range(1,11):\n",
    "    mul *= i\n",
    "print(\"곱: \", mul)"
   ]
  },
  {
   "cell_type": "code",
   "execution_count": null,
   "id": "afbb0104",
   "metadata": {},
   "outputs": [],
   "source": [
    "171\n",
    "아래와 같이 리스트의 데이터를 출력하라. 단, for문과 range문을 사용하라.\n",
    "\n",
    "price_list = [32100, 32150, 32000, 32500]\n",
    "32100\n",
    "32150\n",
    "32000\n",
    "32500"
   ]
  },
  {
   "cell_type": "code",
   "execution_count": 160,
   "id": "4d6da3ef",
   "metadata": {},
   "outputs": [
    {
     "name": "stdout",
     "output_type": "stream",
     "text": [
      "32100\n",
      "32150\n",
      "32000\n",
      "32500\n"
     ]
    }
   ],
   "source": [
    "price_list = [32100, 32150, 32000, 32500]\n",
    "for i in range(4):\n",
    "    print(price_list[i])"
   ]
  },
  {
   "cell_type": "code",
   "execution_count": null,
   "id": "f1739e05",
   "metadata": {},
   "outputs": [],
   "source": [
    "172\n",
    "아래와 같이 리스트의 데이터를 출력하라. 단, for문과 range문을 사용하라.#\n",
    "\n",
    "price_list = [32100, 32150, 32000, 32500]\n",
    "0 32100\n",
    "1 32150\n",
    "2 32000\n",
    "3 32500"
   ]
  },
  {
   "cell_type": "code",
   "execution_count": 161,
   "id": "e25039aa",
   "metadata": {},
   "outputs": [
    {
     "name": "stdout",
     "output_type": "stream",
     "text": [
      "0 32100\n",
      "1 32150\n",
      "2 32000\n",
      "3 32500\n"
     ]
    }
   ],
   "source": [
    "price_list = [32100, 32150, 32000, 32500]\n",
    "for i, data in enumerate(price_list):\n",
    "    print(i, data)"
   ]
  },
  {
   "cell_type": "code",
   "execution_count": null,
   "id": "a7fd7216",
   "metadata": {},
   "outputs": [],
   "source": [
    "173\n",
    "아래와 같이 리스트의 데이터를 출력하라. 단, for문과 range문을 사용하라.#\n",
    "\n",
    "price_list = [32100, 32150, 32000, 32500]\n",
    "3 32100\n",
    "2 32150\n",
    "1 32000\n",
    "0 32500"
   ]
  },
  {
   "cell_type": "code",
   "execution_count": 171,
   "id": "bc08bbe4",
   "metadata": {},
   "outputs": [
    {
     "name": "stdout",
     "output_type": "stream",
     "text": [
      "3 32100\n",
      "2 32150\n",
      "1 32000\n",
      "0 32500\n"
     ]
    }
   ],
   "source": [
    "price_list = [32100, 32150, 32000, 32500]\n",
    "for i in range(len(price_list)):\n",
    "    print((len(price_list) - 1) - i, price_list[i])"
   ]
  },
  {
   "cell_type": "code",
   "execution_count": null,
   "id": "f7eef045",
   "metadata": {},
   "outputs": [],
   "source": [
    "174\n",
    "아래와 같이 리스트의 데이터를 출력하라. 단, for문과 range문을 사용하라.#\n",
    "\n",
    "price_list = [32100, 32150, 32000, 32500]\n",
    "100 32150\n",
    "110 32000\n",
    "120 32500"
   ]
  },
  {
   "cell_type": "code",
   "execution_count": 191,
   "id": "b5dd2572",
   "metadata": {},
   "outputs": [
    {
     "name": "stdout",
     "output_type": "stream",
     "text": [
      "100 32150\n",
      "110 32000\n",
      "120 32500\n"
     ]
    }
   ],
   "source": [
    "price_list = [32100, 32150, 32000, 32500]\n",
    "for i in range(1, 4):\n",
    "    print(90 + 10 * i, price_list[i])"
   ]
  },
  {
   "cell_type": "code",
   "execution_count": null,
   "id": "3995e8ec",
   "metadata": {},
   "outputs": [],
   "source": [
    "175\n",
    "my_list를 아래와 같이 출력하라.\n",
    "\n",
    "my_list = [\"가\", \"나\", \"다\", \"라\"]\n",
    "가 나\n",
    "나 다\n",
    "다 라"
   ]
  },
  {
   "cell_type": "code",
   "execution_count": null,
   "id": "a0564303",
   "metadata": {},
   "outputs": [],
   "source": [
    "my_list = [\"가\", \"나\", \"다\", \"라\"]\n",
    "for i in my_list"
   ]
  },
  {
   "cell_type": "code",
   "execution_count": null,
   "id": "6e8955c5",
   "metadata": {},
   "outputs": [],
   "source": []
  },
  {
   "cell_type": "code",
   "execution_count": null,
   "id": "79ba9561",
   "metadata": {},
   "outputs": [],
   "source": []
  },
  {
   "cell_type": "code",
   "execution_count": null,
   "id": "c40d5b63",
   "metadata": {},
   "outputs": [],
   "source": []
  },
  {
   "cell_type": "code",
   "execution_count": null,
   "id": "39f403a6",
   "metadata": {},
   "outputs": [],
   "source": []
  }
 ],
 "metadata": {
  "kernelspec": {
   "display_name": "Python 3 (ipykernel)",
   "language": "python",
   "name": "python3"
  },
  "language_info": {
   "codemirror_mode": {
    "name": "ipython",
    "version": 3
   },
   "file_extension": ".py",
   "mimetype": "text/x-python",
   "name": "python",
   "nbconvert_exporter": "python",
   "pygments_lexer": "ipython3",
   "version": "3.11.5"
  }
 },
 "nbformat": 4,
 "nbformat_minor": 5
}
