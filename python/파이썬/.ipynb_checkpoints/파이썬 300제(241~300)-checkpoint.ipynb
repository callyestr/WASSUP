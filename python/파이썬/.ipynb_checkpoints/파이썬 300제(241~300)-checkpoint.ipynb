{
 "cells": [
  {
   "cell_type": "code",
   "execution_count": null,
   "id": "6988dfe7",
   "metadata": {},
   "outputs": [],
   "source": [
    "241 현재시간\n",
    "datetime 모듈을 사용해서 현재 시간을 화면에 출력해보세요."
   ]
  },
  {
   "cell_type": "code",
   "execution_count": 3,
   "id": "409f5aef",
   "metadata": {},
   "outputs": [
    {
     "name": "stdout",
     "output_type": "stream",
     "text": [
      "2023-12-08 14:36:06.956796\n"
     ]
    }
   ],
   "source": [
    "import datetime\n",
    "\n",
    "now = datetime.datetime.now()\n",
    "print(now)"
   ]
  },
  {
   "cell_type": "code",
   "execution_count": null,
   "id": "14c00d24",
   "metadata": {},
   "outputs": [],
   "source": [
    "242 현재시간의 타입\n",
    "datetime 모듈의 now 함수의 리턴 값의 타입을 화면에 출력해보세요."
   ]
  },
  {
   "cell_type": "code",
   "execution_count": 4,
   "id": "855b4a6f",
   "metadata": {},
   "outputs": [
    {
     "name": "stdout",
     "output_type": "stream",
     "text": [
      "2023-12-08 14:36:43.544907 <class 'datetime.datetime'>\n"
     ]
    }
   ],
   "source": [
    "import datetime\n",
    "\n",
    "now = datetime.datetime.now()\n",
    "print(now, type(now))"
   ]
  },
  {
   "cell_type": "code",
   "execution_count": null,
   "id": "f888fe57",
   "metadata": {},
   "outputs": [],
   "source": [
    "243 timedelta\n",
    "datetime 모듈의 timedelta를 사용해서 오늘로부터 5일, 4일, 3일, 2일, 1일 전의 날짜를 화면에 출력해보세요."
   ]
  },
  {
   "cell_type": "code",
   "execution_count": 6,
   "id": "c8205aa9",
   "metadata": {},
   "outputs": [
    {
     "name": "stdout",
     "output_type": "stream",
     "text": [
      "5 days, 0:00:00\n",
      "4 days, 0:00:00\n",
      "3 days, 0:00:00\n",
      "2 days, 0:00:00\n",
      "1 day, 0:00:00\n"
     ]
    }
   ],
   "source": [
    "import datetime\n",
    "\n",
    "now = datetime.datetime.now()\n",
    "\n",
    "for day in range(5, 0, -1):\n",
    "    delta = datetime.timedelta(days=day)\n",
    "    date = now - delta\n",
    "    print(delta)"
   ]
  },
  {
   "cell_type": "code",
   "execution_count": null,
   "id": "fbd4cbd0",
   "metadata": {},
   "outputs": [],
   "source": [
    "244 strftime\n",
    "현재시간을 얻어온 후 다음과 같은 포맷으로 시간을 출력해보세요. strftime 메서드를 사용하세요.\n",
    "\n",
    "18:35:01 "
   ]
  },
  {
   "cell_type": "code",
   "execution_count": 9,
   "id": "316333da",
   "metadata": {},
   "outputs": [
    {
     "name": "stdout",
     "output_type": "stream",
     "text": [
      "14:40:31\n"
     ]
    }
   ],
   "source": [
    "import datetime\n",
    "\n",
    "now = datetime.datetime.now()\n",
    "print(now.strftime(\"%H:%M:%S\"))"
   ]
  },
  {
   "cell_type": "code",
   "execution_count": null,
   "id": "47360641",
   "metadata": {},
   "outputs": [],
   "source": [
    "245 strptime\n",
    "datetime.datetime.strptime 메서드를 사용하면 문자열 형식의 시간을 datetime.datetime 타입의 시간 값으로 만들어줍니다.\n",
    "\"2020-05-04\"의 문자열을 시간 타입으로 변환해보세요."
   ]
  },
  {
   "cell_type": "code",
   "execution_count": null,
   "id": "7d8eba81",
   "metadata": {},
   "outputs": [],
   "source": [
    "import datetime\n",
    "\n",
    "now = datetime.datetime.now()\n",
    "print(now.data.strftime(\"%H:%M:%S\"))"
   ]
  },
  {
   "cell_type": "code",
   "execution_count": null,
   "id": "6f1481b1",
   "metadata": {},
   "outputs": [],
   "source": [
    "246 sleep 함수\n",
    "time 모듈, datetime 모듈을 사용해서 1초에 한 번 현재 시간을 출력하는 코드를 작성하세요."
   ]
  },
  {
   "cell_type": "code",
   "execution_count": null,
   "id": "45fb3ebf",
   "metadata": {},
   "outputs": [],
   "source": [
    "import time\n",
    "import datetime\n",
    "\n",
    "while True:\n",
    "    now = datetime.datetime.now()\n",
    "    print(now)\n",
    "    _\n",
    "    time.sleep(1)"
   ]
  },
  {
   "cell_type": "code",
   "execution_count": null,
   "id": "79aae7a8",
   "metadata": {},
   "outputs": [],
   "source": [
    "247 모듈 임포트\n",
    "모듈을 임포트하는 4가지 방식에 대해 설명해보세요."
   ]
  },
  {
   "cell_type": "code",
   "execution_count": null,
   "id": "ea616516",
   "metadata": {},
   "outputs": [],
   "source": [
    "248 os 모듈\n",
    "os 모듈의 getcwd 함수를 호출하여 현재 디렉터리의 경로를 화면에 출력해보세요."
   ]
  },
  {
   "cell_type": "code",
   "execution_count": 11,
   "id": "3a3af166",
   "metadata": {},
   "outputs": [
    {
     "name": "stdout",
     "output_type": "stream",
     "text": [
      "/Users/macbookpro/workspace/python <class 'str'>\n"
     ]
    }
   ],
   "source": [
    "import os\n",
    "ret = os.getcwd()\n",
    "print(ret, type(ret))"
   ]
  },
  {
   "cell_type": "code",
   "execution_count": null,
   "id": "b19ee0ef",
   "metadata": {},
   "outputs": [],
   "source": [
    "249 rename 함수\n",
    "바탕화면에 텍스트 파일을 하나 생성한 후 os 모듈의 rename 함수를 호출하여 해당 파일의 이름을 변경해보세요."
   ]
  },
  {
   "cell_type": "code",
   "execution_count": null,
   "id": "b354ea3b",
   "metadata": {},
   "outputs": [],
   "source": [
    "import os\n",
    "os.rename(\"\",\"\")"
   ]
  },
  {
   "cell_type": "code",
   "execution_count": null,
   "id": "a4891390",
   "metadata": {},
   "outputs": [],
   "source": [
    "250 numpy\n",
    "numpy 모듈의 arange 함수를 사용해서 0.0 부터 5.0까지 0.1씩 증가하는 값을 화면에 출력해보세요."
   ]
  },
  {
   "cell_type": "code",
   "execution_count": 12,
   "id": "21beb844",
   "metadata": {},
   "outputs": [
    {
     "name": "stdout",
     "output_type": "stream",
     "text": [
      "0.0\n",
      "0.1\n",
      "0.2\n",
      "0.30000000000000004\n",
      "0.4\n",
      "0.5\n",
      "0.6000000000000001\n",
      "0.7000000000000001\n",
      "0.8\n",
      "0.9\n",
      "1.0\n",
      "1.1\n",
      "1.2000000000000002\n",
      "1.3\n",
      "1.4000000000000001\n",
      "1.5\n",
      "1.6\n",
      "1.7000000000000002\n",
      "1.8\n",
      "1.9000000000000001\n",
      "2.0\n",
      "2.1\n",
      "2.2\n",
      "2.3000000000000003\n",
      "2.4000000000000004\n",
      "2.5\n",
      "2.6\n",
      "2.7\n",
      "2.8000000000000003\n",
      "2.9000000000000004\n",
      "3.0\n",
      "3.1\n",
      "3.2\n",
      "3.3000000000000003\n",
      "3.4000000000000004\n",
      "3.5\n",
      "3.6\n",
      "3.7\n",
      "3.8000000000000003\n",
      "3.9000000000000004\n",
      "4.0\n",
      "4.1000000000000005\n",
      "4.2\n",
      "4.3\n",
      "4.4\n",
      "4.5\n",
      "4.6000000000000005\n",
      "4.7\n",
      "4.800000000000001\n",
      "4.9\n"
     ]
    }
   ],
   "source": [
    "import numpy\n",
    "for i in numpy.arange(0, 5, 0.1):\n",
    "    print(i)"
   ]
  },
  {
   "cell_type": "code",
   "execution_count": null,
   "id": "d352520e",
   "metadata": {},
   "outputs": [],
   "source": [
    "251 클래스, 객체, 인스턴스\n",
    "클래스와 객체에 대해 설명해봅시다."
   ]
  },
  {
   "cell_type": "code",
   "execution_count": null,
   "id": "004bf24d",
   "metadata": {},
   "outputs": [],
   "source": [
    "클래스는 일종의 설계도로, 하나의 타입을 정의하는 방법입니다. 클래스에는 관련있는 데이터와 함수를 한 데 모아 정의할 수 있습니다. \n",
    "클래스로 만들어진 결과물을 객체라고합니다.\n",
    "\n",
    "클래스: 붕어빵 틀과 같은 것, 객체나 인스턴스의 설계도\n",
    "객체 object\n",
    "인스턴스"
   ]
  },
  {
   "cell_type": "code",
   "execution_count": null,
   "id": "c4cfaf7b",
   "metadata": {},
   "outputs": [],
   "source": [
    "252 클래스 정의\n",
    "비어있는 사람 (Human) 클래스를 \"정의\" 해보세요."
   ]
  },
  {
   "cell_type": "code",
   "execution_count": 2,
   "id": "5c80c962",
   "metadata": {},
   "outputs": [],
   "source": [
    "class Human:\n",
    "    pass"
   ]
  },
  {
   "cell_type": "code",
   "execution_count": null,
   "id": "cb194531",
   "metadata": {},
   "outputs": [],
   "source": [
    "253 인스턴스 생성\n",
    "사람 (Human) 클래스의 인스턴스를 \"생성\" 하고 이를 areum 변수로 바인딩해보세요."
   ]
  },
  {
   "cell_type": "code",
   "execution_count": null,
   "id": "2d0304bb",
   "metadata": {},
   "outputs": [],
   "source": [
    "class Human:\n",
    "    pass\n",
    "\n",
    "areum = Human()"
   ]
  },
  {
   "cell_type": "code",
   "execution_count": null,
   "id": "674e9038",
   "metadata": {},
   "outputs": [],
   "source": [
    "254 클래스 생성자-1\n",
    "사람 (Human) 클래스에 \"응애응애\"를 출력하는 생성자를 추가하세요.\n",
    "\n",
    ">>> areum = Human()\n",
    "응애응애"
   ]
  },
  {
   "cell_type": "code",
   "execution_count": 4,
   "id": "4126c8b4",
   "metadata": {},
   "outputs": [
    {
     "name": "stdout",
     "output_type": "stream",
     "text": [
      "응애응애\n"
     ]
    }
   ],
   "source": [
    "class Human:\n",
    "    def __init__(self):\n",
    "        print(\"응애응애\")\n",
    "\n",
    "areum = Human()"
   ]
  },
  {
   "cell_type": "code",
   "execution_count": null,
   "id": "52fe10ec",
   "metadata": {},
   "outputs": [],
   "source": [
    "255 클래스 생성자-2\n",
    "사람 (Human) 클래스에 (이름, 나이, 성별)을 받는 생성자를 추가하세요.\n",
    "\n",
    ">>> areum = Human(\"아름\", 25, \"여자\")"
   ]
  },
  {
   "cell_type": "code",
   "execution_count": 7,
   "id": "1b685f8d",
   "metadata": {},
   "outputs": [
    {
     "name": "stdout",
     "output_type": "stream",
     "text": [
      "아름\n"
     ]
    }
   ],
   "source": [
    "class Human:\n",
    "    def __init__(self, name, age, sex):\n",
    "        self.name = name\n",
    "        self.age = age\n",
    "        self.sex = sex\n",
    "\n",
    "areum = Human(\"아름\", 25, \"여자\")\n",
    "print(areum.name)"
   ]
  },
  {
   "cell_type": "code",
   "execution_count": 8,
   "id": "bdc44fcb",
   "metadata": {},
   "outputs": [
    {
     "name": "stdout",
     "output_type": "stream",
     "text": [
      "25\n"
     ]
    }
   ],
   "source": [
    "print(areum.age)"
   ]
  },
  {
   "cell_type": "code",
   "execution_count": 9,
   "id": "6b67086c",
   "metadata": {},
   "outputs": [
    {
     "name": "stdout",
     "output_type": "stream",
     "text": [
      "여자\n"
     ]
    }
   ],
   "source": [
    "print(areum.sex)"
   ]
  },
  {
   "cell_type": "code",
   "execution_count": null,
   "id": "c40faa4d",
   "metadata": {},
   "outputs": [],
   "source": [
    "256 인스턴스 속성에 접근\n",
    "255에서 생성한 인스턴스의 이름, 나이, 성별을 출력하세요. \n",
    "인스턴스 변수에 접근하여 값을 출력하면 됩니다.\n",
    "\n",
    "이름: 조아름, 나이: 25, 성별: 여자\n",
    "인스턴스 변수에 접근하여 값을 가져오는 예\n",
    "\n",
    ">>> areum.age\n",
    "25"
   ]
  },
  {
   "cell_type": "code",
   "execution_count": 10,
   "id": "50734805",
   "metadata": {},
   "outputs": [
    {
     "data": {
      "text/plain": [
       "'여자'"
      ]
     },
     "execution_count": 10,
     "metadata": {},
     "output_type": "execute_result"
    }
   ],
   "source": [
    "areum.sex"
   ]
  },
  {
   "cell_type": "code",
   "execution_count": 11,
   "id": "dcd6641b",
   "metadata": {},
   "outputs": [
    {
     "data": {
      "text/plain": [
       "'아름'"
      ]
     },
     "execution_count": 11,
     "metadata": {},
     "output_type": "execute_result"
    }
   ],
   "source": [
    "areum.name"
   ]
  },
  {
   "cell_type": "code",
   "execution_count": null,
   "id": "6e6fd570",
   "metadata": {},
   "outputs": [],
   "source": [
    "257 클래스 메소드 - 1\n",
    "사람 (Human) 클래스에서 이름, 나이, 성별을 출력하는 who() 메소드를 추가하세요.\n",
    "\n",
    ">>> areum.who()\n",
    "이름: 조아름, 나이: 25, 성별: 여자"
   ]
  },
  {
   "cell_type": "code",
   "execution_count": 24,
   "id": "ab1b18e8",
   "metadata": {},
   "outputs": [
    {
     "name": "stdout",
     "output_type": "stream",
     "text": [
      "이름: 아름 나이: 25 성별: 여자\n"
     ]
    }
   ],
   "source": [
    "class Human:\n",
    "    def __init__(self, name, age, sex):\n",
    "        self.name = name\n",
    "        self.age = age\n",
    "        self.sex = sex\n",
    "    \n",
    "    def who(self):\n",
    "        print(\"이름:\", self.name, \"나이:\", self.age, \"성별:\", self.sex)\n",
    "\n",
    "areum = Human(\"아름\", 25, \"여자\")\n",
    "areum.who()"
   ]
  },
  {
   "cell_type": "code",
   "execution_count": 28,
   "id": "e6760261",
   "metadata": {},
   "outputs": [
    {
     "name": "stdout",
     "output_type": "stream",
     "text": [
      "이름: 불명 나이: 미상 성별: 모름\n",
      "이름: 아름 나이: 25 성별: 여자\n"
     ]
    }
   ],
   "source": [
    "class Human:\n",
    "    def __init__(self, name, age, sex):\n",
    "        self.name = name\n",
    "        self.age = age\n",
    "        self.sex = sex\n",
    "\n",
    "    def who(self):\n",
    "        print(\"이름: {} 나이: {} 성별: {}\".format(self.name, self.age, self.sex))\n",
    "\n",
    "    def setInfo(self, name, age, sex):\n",
    "        self.name = name\n",
    "        self.age = age\n",
    "        self.sex = sex\n",
    "\n",
    "\n",
    "areum = Human(\"불명\", \"미상\", \"모름\")\n",
    "areum.who()      # Human.who(areum)\n",
    "\n",
    "areum.setInfo(\"아름\", 25, \"여자\")\n",
    "areum.who()      # Human.who(areum)"
   ]
  },
  {
   "cell_type": "code",
   "execution_count": null,
   "id": "ab3842e5",
   "metadata": {},
   "outputs": [],
   "source": [
    "259 클래스 소멸자\n",
    "사람 (human) 클래스에 \"나의 죽음을 알리지 말라\"를 출력하는 소멸자를 추가하세요.\n",
    "\n",
    ">>> areum = Human(\"아름\", 25, \"여자\")\n",
    ">>> del areum\n",
    "나의 죽음을 알리지 말라"
   ]
  },
  {
   "cell_type": "code",
   "execution_count": 31,
   "id": "b1cd2503",
   "metadata": {},
   "outputs": [
    {
     "name": "stdout",
     "output_type": "stream",
     "text": [
      "나의 죽음을 알리지마라\n"
     ]
    }
   ],
   "source": [
    "class Human:\n",
    "    def __init__(self, name, age, sex):\n",
    "        self.name = name\n",
    "        self.age = age\n",
    "        self.sex = sex\n",
    "        \n",
    "    def __del__(self):\n",
    "        print(\"나의 죽음을 알리지마라\")\n",
    "\n",
    "    def who(self):\n",
    "        print(\"이름: {} 나이: {} 성별: {}\".format(self.name, self.age, self.sex))\n",
    "\n",
    "    def setInfo(self, name, age, sex):\n",
    "        self.name = name\n",
    "        self.age = age\n",
    "        self.sex = sex\n",
    "\n",
    "\n",
    "areum = Human(\"아름\", 25, \"여자\")\n",
    "del(areum)"
   ]
  },
  {
   "cell_type": "code",
   "execution_count": null,
   "id": "e40509bc",
   "metadata": {},
   "outputs": [],
   "source": [
    "260 에러의 원인\n",
    "아래와 같은 에러가 발생한 원인에 대해 설명하세요.\n",
    "\n",
    "class OMG : \n",
    "    def print() :\n",
    "        print(\"Oh my god\")\n",
    "\n",
    ">>> >>> myStock = OMG()\n",
    ">>> myStock.print()\n",
    "TypeError Traceback (most recent call last)\n",
    "<ipython-input-233-c85c04535b22> in <module>()\n",
    "----> myStock.print()\n",
    "\n",
    "TypeError: print() takes 0 positional arguments but 1 was given"
   ]
  },
  {
   "cell_type": "code",
   "execution_count": 38,
   "id": "1284a83e",
   "metadata": {},
   "outputs": [
    {
     "ename": "TypeError",
     "evalue": "OMG.print() takes 0 positional arguments but 1 was given",
     "output_type": "error",
     "traceback": [
      "\u001b[0;31m---------------------------------------------------------------------------\u001b[0m",
      "\u001b[0;31mTypeError\u001b[0m                                 Traceback (most recent call last)",
      "Cell \u001b[0;32mIn[38], line 6\u001b[0m\n\u001b[1;32m      3\u001b[0m         \u001b[38;5;28mprint\u001b[39m(\u001b[38;5;124m\"\u001b[39m\u001b[38;5;124mOh my god\u001b[39m\u001b[38;5;124m\"\u001b[39m)\n\u001b[1;32m      5\u001b[0m mystock \u001b[38;5;241m=\u001b[39m OMG()\n\u001b[0;32m----> 6\u001b[0m mystock\u001b[38;5;241m.\u001b[39mprint()\n",
      "\u001b[0;31mTypeError\u001b[0m: OMG.print() takes 0 positional arguments but 1 was given"
     ]
    }
   ],
   "source": [
    "class OMG : \n",
    "    def print() :\n",
    "        print(\"Oh my god\")\n",
    "        \n",
    "mystock = OMG()\n",
    "mystock.print()"
   ]
  },
  {
   "cell_type": "code",
   "execution_count": 37,
   "id": "352eb113",
   "metadata": {},
   "outputs": [
    {
     "name": "stdout",
     "output_type": "stream",
     "text": [
      "Oh my god\n"
     ]
    }
   ],
   "source": [
    "class OMG : \n",
    "    def print(self) :\n",
    "        print(\"Oh my god\")\n",
    "        \n",
    "mystock = OMG()\n",
    "mystock.print()"
   ]
  },
  {
   "cell_type": "code",
   "execution_count": null,
   "id": "f0501f5a",
   "metadata": {},
   "outputs": [],
   "source": [
    "261 Stock 클래스 생성\n",
    "주식 종목에 대한 정보를 저장하는 Stock 클래스를 정의해보세요.\n",
    "클래스는 속성과 메서드를 갖고 있지 않습니다."
   ]
  },
  {
   "cell_type": "code",
   "execution_count": 39,
   "id": "62870bb0",
   "metadata": {},
   "outputs": [],
   "source": [
    "class Stock:\n",
    "    pass"
   ]
  },
  {
   "cell_type": "code",
   "execution_count": null,
   "id": "dc7589ac",
   "metadata": {},
   "outputs": [],
   "source": [
    "262 생성자\n",
    "Stock 클래스의 객체가 생성될 때 종목명과 종목코드를 입력 받을 수 있도록생성자를 정의해보세요.\n",
    "\n",
    "삼성 = Stock(\"삼성전자\", \"005930\")"
   ]
  },
  {
   "cell_type": "code",
   "execution_count": 45,
   "id": "5baf56ea",
   "metadata": {},
   "outputs": [
    {
     "name": "stdout",
     "output_type": "stream",
     "text": [
      "삼성전자\n",
      "005930\n"
     ]
    }
   ],
   "source": [
    "class Stock:\n",
    "    def __init__(self, name, code):\n",
    "        self.name = name\n",
    "        self.code = code\n",
    "        \n",
    "삼성 = Stock(\"삼성전자\", \"005930\")\n",
    "print(삼성.name)\n",
    "print(삼성.code)"
   ]
  },
  {
   "cell_type": "code",
   "execution_count": null,
   "id": "13665240",
   "metadata": {},
   "outputs": [],
   "source": [
    "263 메서드\n",
    "객체에 종목명을 입력할 수 있는 set_name 메서드를 추가해보세요.\n",
    "\n",
    "a = Stock(None, None)\n",
    "a.set_name(\"삼성전자\")"
   ]
  },
  {
   "cell_type": "code",
   "execution_count": 53,
   "id": "a5021deb",
   "metadata": {},
   "outputs": [
    {
     "name": "stdout",
     "output_type": "stream",
     "text": [
      "삼성전자\n"
     ]
    }
   ],
   "source": [
    "class Stock:\n",
    "    def __init__(self, name, code):\n",
    "        self.name = name\n",
    "        self.code = code\n",
    "    \n",
    "    def set_name(self, name):\n",
    "        self.name = name\n",
    "        \n",
    "a = Stock(None, None)\n",
    "a.set_name(\"삼성전자\")\n",
    "print(a.name)"
   ]
  },
  {
   "cell_type": "code",
   "execution_count": null,
   "id": "a2333539",
   "metadata": {},
   "outputs": [],
   "source": [
    "264 메서드\n",
    "객체에 종목코드를 입력할 수 있는 set_code 메서드를 추가해보세요.\n",
    "\n",
    "a = Stock(None, None)\n",
    "a.set_code(\"005930\")"
   ]
  },
  {
   "cell_type": "code",
   "execution_count": 54,
   "id": "badda88e",
   "metadata": {},
   "outputs": [
    {
     "name": "stdout",
     "output_type": "stream",
     "text": [
      "삼성전자\n",
      "005930\n"
     ]
    }
   ],
   "source": [
    "class Stock:\n",
    "    def __init__(self, name, code):\n",
    "        self.name = name\n",
    "        self.code = code\n",
    "    \n",
    "    def set_name(self, name):\n",
    "        self.name = name\n",
    "    \n",
    "    def set_code(self, code):\n",
    "        self.code = code\n",
    "        \n",
    "a = Stock(None, None)\n",
    "a.set_name(\"삼성전자\")\n",
    "print(a.name)\n",
    "\n",
    "a = Stock(None, None)\n",
    "a.set_code(\"005930\")\n",
    "print(a.code)"
   ]
  },
  {
   "cell_type": "code",
   "execution_count": null,
   "id": "af342838",
   "metadata": {},
   "outputs": [],
   "source": [
    "265 메서드\n",
    "종목명과 종목코드를 리턴하는 get_name, get_code 메서드를 추가하세요. \n",
    "해당 메서드를 사용하여 종목명과 종목코드를 얻고 이를 출력해보세요.\n",
    "\n",
    "삼성 = Stock(\"삼성전자\", \"005930\")"
   ]
  },
  {
   "cell_type": "code",
   "execution_count": 4,
   "id": "b7806daf",
   "metadata": {},
   "outputs": [
    {
     "name": "stdout",
     "output_type": "stream",
     "text": [
      "삼성전자\n",
      "005930\n",
      "삼성전자\n",
      "005930\n"
     ]
    }
   ],
   "source": [
    "class Stock:\n",
    "    def __init__(self, name, code):\n",
    "        self.name = name\n",
    "        self.code = code\n",
    "    \n",
    "    def set_name(self, name):\n",
    "        self.name = name\n",
    "    \n",
    "    def set_code(self, code):\n",
    "        self.code = code\n",
    "    \n",
    "    def get_name(self):\n",
    "        return self.name\n",
    "    \n",
    "    def get_code(self):\n",
    "        return self.code\n",
    "\n",
    "삼성 = Stock(\"삼성전자\", \"005930\")\n",
    "print(삼성.name)\n",
    "print(삼성.code)\n",
    "print(삼성.get_name())\n",
    "print(삼성.get_code())"
   ]
  },
  {
   "cell_type": "code",
   "execution_count": null,
   "id": "73b28e9e",
   "metadata": {},
   "outputs": [],
   "source": [
    "266 객체의 속성값 업데이트\n",
    "생성자에서 종목명, 종목코드, PER, PBR, 배당수익률을 입력 받을 수 있도록 생성자를 수정하세요. \n",
    "PER, PBR, 배당수익률은 float 타입입니다."
   ]
  },
  {
   "cell_type": "code",
   "execution_count": 5,
   "id": "004d7006",
   "metadata": {},
   "outputs": [],
   "source": [
    "class Stock:\n",
    "    def __init__(self, name, code, per, pbr, 배당수익률):\n",
    "        self.name = name\n",
    "        self.code = code\n",
    "        self.per = per\n",
    "        self.pbr = pbr\n",
    "        self.배당수익률 = 배당수익률\n",
    "    \n",
    "    def set_name(self, name):\n",
    "        self.name = name\n",
    "    \n",
    "    def set_code(self, code):\n",
    "        self.code = code\n",
    "    \n",
    "    def get_name(self):\n",
    "        return self.name\n",
    "    \n",
    "    def get_code(self):\n",
    "        return self.code"
   ]
  },
  {
   "cell_type": "code",
   "execution_count": null,
   "id": "6ca6464f",
   "metadata": {},
   "outputs": [],
   "source": [
    "267 객체 생성\n",
    "266번에서 정의한 생성자를 통해 다음 정보를 갖는 객체를 생성해보세요.\n",
    "\n",
    "항목\t정보\n",
    "종목명\t삼성전자\n",
    "종목코드\t005930\n",
    "PER\t15.79\n",
    "PBR\t1.33\n",
    "배당수익률\t2.83"
   ]
  },
  {
   "cell_type": "code",
   "execution_count": 7,
   "id": "13daccb0",
   "metadata": {},
   "outputs": [
    {
     "name": "stdout",
     "output_type": "stream",
     "text": [
      "2.83\n"
     ]
    }
   ],
   "source": [
    "삼성 = Stock(\"삼성전자\", \"005930\", 15.79, 1.33, 2.83)\n",
    "print(삼성.배당수익률)"
   ]
  },
  {
   "cell_type": "code",
   "execution_count": null,
   "id": "c01eb46a",
   "metadata": {},
   "outputs": [],
   "source": [
    "268 객체의 속성 수정\n",
    "PER, PBR, 배당수익률은 변경될 수 있는 값입니다. \n",
    "이 값을 변경할 때 사용하는 set_per, set_pbr, set_dividend 메서드를 추가하세요."
   ]
  },
  {
   "cell_type": "code",
   "execution_count": 8,
   "id": "45aaa949",
   "metadata": {},
   "outputs": [],
   "source": [
    "class Stock:\n",
    "    def __init__(self, name, code, per, pbr, dividend):\n",
    "        self.name = name\n",
    "        self.code = code\n",
    "        self.per = per\n",
    "        self.pbr = pbr\n",
    "        self.dividened = dividend\n",
    "    \n",
    "    def set_name(self, name):\n",
    "        self.name = name\n",
    "    \n",
    "    def set_code(self, code):\n",
    "        self.code = code\n",
    "    \n",
    "    def get_name(self):\n",
    "        return self.name\n",
    "    \n",
    "    def get_code(self):\n",
    "        return self.code\n",
    "    \n",
    "    def set_per(self, per):\n",
    "        self.per = per\n",
    "        \n",
    "    def set_pbr(self, pbr):\n",
    "        self.pbr = pbr\n",
    "        \n",
    "    def set_dividend(self, dividend):\n",
    "        self.dividend = dividend"
   ]
  },
  {
   "cell_type": "code",
   "execution_count": null,
   "id": "5ea0651c",
   "metadata": {},
   "outputs": [],
   "source": [
    "269 객체의 속성 수정\n",
    "267번에서 생성한 객체에 set_per 메서드를 호출하여 per 값을 12.75로 수정해보세요."
   ]
  },
  {
   "cell_type": "code",
   "execution_count": 9,
   "id": "e2dcd9af",
   "metadata": {},
   "outputs": [
    {
     "name": "stdout",
     "output_type": "stream",
     "text": [
      "12.75\n"
     ]
    }
   ],
   "source": [
    "삼성 = Stock(\"삼성전자\", \"005930\", 15.79, 1.33, 2.83)\n",
    "삼성.set_per(12.75)\n",
    "print(삼성.per)"
   ]
  },
  {
   "cell_type": "code",
   "execution_count": null,
   "id": "d800329b",
   "metadata": {},
   "outputs": [],
   "source": [
    "270 여러 종목의 객체 생성\n",
    "아래의 표를 참조하여 3종목에 대해 객체를 생성하고 이를 파이썬 리스트에 저장하세요. \n",
    "파이썬 리스트에 저장된 각 종목에 대해 for 루프를 통해 종목코드와 PER을 출력해보세요.\n",
    "\n",
    "종목명\t종목코드\tPER\tPBR\t배당수익률\n",
    "삼성전자\t005930\t15.79\t1.33\t2.83\n",
    "현대차\t005380\t8.70\t0.35\t4.27\n",
    "LG전자\t066570\t317.34\t0.69\t1.37"
   ]
  },
  {
   "cell_type": "code",
   "execution_count": 10,
   "id": "78d78821",
   "metadata": {},
   "outputs": [
    {
     "name": "stdout",
     "output_type": "stream",
     "text": [
      "005930 15.79\n",
      "005380 8.7\n",
      "066570 317.34\n"
     ]
    }
   ],
   "source": [
    "종목 = []\n",
    "\n",
    "삼성 = Stock(\"삼성전자\",\"005930\", 15.79, 1.33, 2.83)\n",
    "현대차 = Stock(\"현대차\", \"005380\", 8.70, 0.35, 4.27)\n",
    "LG전자 = Stock(\"LG전자\", \"066570\", 317.34, 0.69, 1.37)\n",
    "\n",
    "\n",
    "종목.append(삼성)\n",
    "종목.append(현대차)\n",
    "종목.append(LG전자)\n",
    "\n",
    "for i in 종목:\n",
    "    print(i.code, i.per)"
   ]
  },
  {
   "cell_type": "code",
   "execution_count": null,
   "id": "c37a57bc",
   "metadata": {},
   "outputs": [],
   "source": []
  },
  {
   "cell_type": "code",
   "execution_count": null,
   "id": "7f1dde4a",
   "metadata": {},
   "outputs": [],
   "source": []
  },
  {
   "cell_type": "code",
   "execution_count": null,
   "id": "f2d3177b",
   "metadata": {},
   "outputs": [],
   "source": []
  }
 ],
 "metadata": {
  "kernelspec": {
   "display_name": "Python 3 (ipykernel)",
   "language": "python",
   "name": "python3"
  },
  "language_info": {
   "codemirror_mode": {
    "name": "ipython",
    "version": 3
   },
   "file_extension": ".py",
   "mimetype": "text/x-python",
   "name": "python",
   "nbconvert_exporter": "python",
   "pygments_lexer": "ipython3",
   "version": "3.11.5"
  }
 },
 "nbformat": 4,
 "nbformat_minor": 5
}
