{
 "cells": [
  {
   "cell_type": "markdown",
   "id": "7fb2ef88",
   "metadata": {},
   "source": [
    "# 1 내장함수"
   ]
  },
  {
   "cell_type": "markdown",
   "id": "3a87c0e9",
   "metadata": {},
   "source": [
    "## 1.1 abs"
   ]
  },
  {
   "cell_type": "code",
   "execution_count": 1,
   "id": "dfdf2d61",
   "metadata": {},
   "outputs": [
    {
     "data": {
      "text/plain": [
       "3"
      ]
     },
     "execution_count": 1,
     "metadata": {},
     "output_type": "execute_result"
    }
   ],
   "source": [
    "abs(3)"
   ]
  },
  {
   "cell_type": "code",
   "execution_count": 2,
   "id": "1f5c4763",
   "metadata": {},
   "outputs": [
    {
     "data": {
      "text/plain": [
       "1.2"
      ]
     },
     "execution_count": 2,
     "metadata": {},
     "output_type": "execute_result"
    }
   ],
   "source": [
    "abs(-1.2)"
   ]
  },
  {
   "cell_type": "markdown",
   "id": "a97bb266",
   "metadata": {},
   "source": [
    "## 1.2 all"
   ]
  },
  {
   "cell_type": "code",
   "execution_count": 3,
   "id": "86f99e90",
   "metadata": {},
   "outputs": [
    {
     "data": {
      "text/plain": [
       "True"
      ]
     },
     "execution_count": 3,
     "metadata": {},
     "output_type": "execute_result"
    }
   ],
   "source": [
    "all([1, 2, 3])"
   ]
  },
  {
   "cell_type": "code",
   "execution_count": 4,
   "id": "bae5eeab",
   "metadata": {},
   "outputs": [
    {
     "data": {
      "text/plain": [
       "False"
      ]
     },
     "execution_count": 4,
     "metadata": {},
     "output_type": "execute_result"
    }
   ],
   "source": [
    "all([1, 2, 3, 0])"
   ]
  },
  {
   "cell_type": "code",
   "execution_count": 5,
   "id": "0e2d0e15",
   "metadata": {},
   "outputs": [
    {
     "data": {
      "text/plain": [
       "True"
      ]
     },
     "execution_count": 5,
     "metadata": {},
     "output_type": "execute_result"
    }
   ],
   "source": [
    "all([])"
   ]
  },
  {
   "cell_type": "markdown",
   "id": "b582cd16",
   "metadata": {},
   "source": [
    "## 1.3 any"
   ]
  },
  {
   "cell_type": "code",
   "execution_count": 6,
   "id": "9b200270",
   "metadata": {},
   "outputs": [
    {
     "data": {
      "text/plain": [
       "True"
      ]
     },
     "execution_count": 6,
     "metadata": {},
     "output_type": "execute_result"
    }
   ],
   "source": [
    "any([1, 2, 3, 0])"
   ]
  },
  {
   "cell_type": "code",
   "execution_count": 7,
   "id": "0dbfbd54",
   "metadata": {},
   "outputs": [
    {
     "data": {
      "text/plain": [
       "False"
      ]
     },
     "execution_count": 7,
     "metadata": {},
     "output_type": "execute_result"
    }
   ],
   "source": [
    "any([0, \"\"])"
   ]
  },
  {
   "cell_type": "code",
   "execution_count": 8,
   "id": "f668d09a",
   "metadata": {},
   "outputs": [
    {
     "data": {
      "text/plain": [
       "False"
      ]
     },
     "execution_count": 8,
     "metadata": {},
     "output_type": "execute_result"
    }
   ],
   "source": [
    "any([])"
   ]
  },
  {
   "cell_type": "markdown",
   "id": "70931b40",
   "metadata": {},
   "source": [
    "## 1.4 chr"
   ]
  },
  {
   "cell_type": "code",
   "execution_count": 9,
   "id": "6a083d68",
   "metadata": {},
   "outputs": [
    {
     "data": {
      "text/plain": [
       "'a'"
      ]
     },
     "execution_count": 9,
     "metadata": {},
     "output_type": "execute_result"
    }
   ],
   "source": [
    "chr(97)"
   ]
  },
  {
   "cell_type": "markdown",
   "id": "19fb06be",
   "metadata": {},
   "source": [
    "## 1.5 dir#"
   ]
  },
  {
   "cell_type": "code",
   "execution_count": 10,
   "id": "80e3941d",
   "metadata": {},
   "outputs": [
    {
     "data": {
      "text/plain": [
       "['__add__',\n",
       " '__class__',\n",
       " '__class_getitem__',\n",
       " '__contains__',\n",
       " '__delattr__',\n",
       " '__delitem__',\n",
       " '__dir__',\n",
       " '__doc__',\n",
       " '__eq__',\n",
       " '__format__',\n",
       " '__ge__',\n",
       " '__getattribute__',\n",
       " '__getitem__',\n",
       " '__getstate__',\n",
       " '__gt__',\n",
       " '__hash__',\n",
       " '__iadd__',\n",
       " '__imul__',\n",
       " '__init__',\n",
       " '__init_subclass__',\n",
       " '__iter__',\n",
       " '__le__',\n",
       " '__len__',\n",
       " '__lt__',\n",
       " '__mul__',\n",
       " '__ne__',\n",
       " '__new__',\n",
       " '__reduce__',\n",
       " '__reduce_ex__',\n",
       " '__repr__',\n",
       " '__reversed__',\n",
       " '__rmul__',\n",
       " '__setattr__',\n",
       " '__setitem__',\n",
       " '__sizeof__',\n",
       " '__str__',\n",
       " '__subclasshook__',\n",
       " 'append',\n",
       " 'clear',\n",
       " 'copy',\n",
       " 'count',\n",
       " 'extend',\n",
       " 'index',\n",
       " 'insert',\n",
       " 'pop',\n",
       " 'remove',\n",
       " 'reverse',\n",
       " 'sort']"
      ]
     },
     "execution_count": 10,
     "metadata": {},
     "output_type": "execute_result"
    }
   ],
   "source": [
    "dir([1, 2, 3])"
   ]
  },
  {
   "cell_type": "code",
   "execution_count": 11,
   "id": "932b8ab8",
   "metadata": {},
   "outputs": [
    {
     "data": {
      "text/plain": [
       "['__class__',\n",
       " '__class_getitem__',\n",
       " '__contains__',\n",
       " '__delattr__',\n",
       " '__delitem__',\n",
       " '__dir__',\n",
       " '__doc__',\n",
       " '__eq__',\n",
       " '__format__',\n",
       " '__ge__',\n",
       " '__getattribute__',\n",
       " '__getitem__',\n",
       " '__getstate__',\n",
       " '__gt__',\n",
       " '__hash__',\n",
       " '__init__',\n",
       " '__init_subclass__',\n",
       " '__ior__',\n",
       " '__iter__',\n",
       " '__le__',\n",
       " '__len__',\n",
       " '__lt__',\n",
       " '__ne__',\n",
       " '__new__',\n",
       " '__or__',\n",
       " '__reduce__',\n",
       " '__reduce_ex__',\n",
       " '__repr__',\n",
       " '__reversed__',\n",
       " '__ror__',\n",
       " '__setattr__',\n",
       " '__setitem__',\n",
       " '__sizeof__',\n",
       " '__str__',\n",
       " '__subclasshook__',\n",
       " 'clear',\n",
       " 'copy',\n",
       " 'fromkeys',\n",
       " 'get',\n",
       " 'items',\n",
       " 'keys',\n",
       " 'pop',\n",
       " 'popitem',\n",
       " 'setdefault',\n",
       " 'update',\n",
       " 'values']"
      ]
     },
     "execution_count": 11,
     "metadata": {},
     "output_type": "execute_result"
    }
   ],
   "source": [
    "dir({'1':'a'})"
   ]
  },
  {
   "cell_type": "markdown",
   "id": "078f247f",
   "metadata": {},
   "source": [
    "## 1.6 divmod"
   ]
  },
  {
   "cell_type": "code",
   "execution_count": null,
   "id": "3f474904",
   "metadata": {},
   "outputs": [],
   "source": [
    "divmod(a, b)는 2개의 숫자 a, b를 입력으로 받는다. 그리고 a를 b로 나눈 몫과 나머지를 튜플로 리턴한다."
   ]
  },
  {
   "cell_type": "code",
   "execution_count": 12,
   "id": "db46f885",
   "metadata": {},
   "outputs": [
    {
     "data": {
      "text/plain": [
       "(2, 1)"
      ]
     },
     "execution_count": 12,
     "metadata": {},
     "output_type": "execute_result"
    }
   ],
   "source": [
    "divmod(7, 3)"
   ]
  },
  {
   "cell_type": "markdown",
   "id": "85404a9e",
   "metadata": {},
   "source": [
    "## 1.7 enumerate#"
   ]
  },
  {
   "cell_type": "code",
   "execution_count": null,
   "id": "50967d48",
   "metadata": {},
   "outputs": [],
   "source": [
    "enumerate는 ‘열거하다’라는 뜻이다. \n",
    "이 함수는 순서가 있는 데이터(리스트, 튜플, 문자열)를 입력으로 받아 인덱스 값을 포함하는 enumerate 객체를 리턴한다.\n",
    "\n",
    "보통 enumerate 함수는 for 문과 함께 사용한다."
   ]
  },
  {
   "cell_type": "code",
   "execution_count": 14,
   "id": "fd6c3b21",
   "metadata": {},
   "outputs": [
    {
     "name": "stdout",
     "output_type": "stream",
     "text": [
      "0 body\n",
      "1 foo\n",
      "2 bar\n"
     ]
    }
   ],
   "source": [
    "for i, name in enumerate(['body', 'foo', 'bar']):\n",
    "    print(i, name)"
   ]
  },
  {
   "cell_type": "markdown",
   "id": "5ca505ae",
   "metadata": {},
   "source": [
    "## 1.8 eval"
   ]
  },
  {
   "cell_type": "code",
   "execution_count": null,
   "id": "a8a4b98f",
   "metadata": {},
   "outputs": [],
   "source": [
    "eval(expression)은 문자열로 구성된 표현식을 입력으로 받아 해당 문자열을 실행한 결괏값을 리턴하는 함수이다."
   ]
  },
  {
   "cell_type": "code",
   "execution_count": 15,
   "id": "08445fff",
   "metadata": {},
   "outputs": [
    {
     "data": {
      "text/plain": [
       "3"
      ]
     },
     "execution_count": 15,
     "metadata": {},
     "output_type": "execute_result"
    }
   ],
   "source": [
    "eval('1+2')"
   ]
  },
  {
   "cell_type": "code",
   "execution_count": 16,
   "id": "89e67aae",
   "metadata": {},
   "outputs": [
    {
     "data": {
      "text/plain": [
       "'hia'"
      ]
     },
     "execution_count": 16,
     "metadata": {},
     "output_type": "execute_result"
    }
   ],
   "source": [
    "eval(\"'hi' + 'a'\")"
   ]
  },
  {
   "cell_type": "code",
   "execution_count": null,
   "id": "1fe23aa1",
   "metadata": {},
   "outputs": [],
   "source": [
    "eval('divmod(4, 3)')"
   ]
  },
  {
   "cell_type": "markdown",
   "id": "3ec34174",
   "metadata": {},
   "source": [
    "## 1.9 filter##"
   ]
  },
  {
   "cell_type": "code",
   "execution_count": null,
   "id": "28f5bbc2",
   "metadata": {},
   "outputs": [],
   "source": [
    "filter란 ‘무엇인가를 걸러 낸다’라는 뜻으로, filter 함수도 이와 비슷한 기능을 한다.\n",
    "\n",
    "filter(함수, 반복_가능한_데이터)"
   ]
  },
  {
   "cell_type": "code",
   "execution_count": 20,
   "id": "4dbeef1c",
   "metadata": {},
   "outputs": [
    {
     "name": "stdout",
     "output_type": "stream",
     "text": [
      "[1, 2, 6]\n"
     ]
    }
   ],
   "source": [
    "# positive.py \n",
    "def positive(l): \n",
    "    result = [] \n",
    "    for i in l: \n",
    "        if i > 0: \n",
    "            result.append(i) \n",
    "    return result\n",
    "\n",
    "print(positive([1,-3,2,0,-5,6]))"
   ]
  },
  {
   "cell_type": "code",
   "execution_count": 18,
   "id": "6b8948d9",
   "metadata": {},
   "outputs": [
    {
     "name": "stdout",
     "output_type": "stream",
     "text": [
      "[1, 2, 6]\n"
     ]
    }
   ],
   "source": [
    "def positive(x):\n",
    "    return x > 0\n",
    "\n",
    "print(list(filter(positive, [1, -3, 2, 0, -5, 6])))"
   ]
  },
  {
   "cell_type": "code",
   "execution_count": 21,
   "id": "07c0953f",
   "metadata": {},
   "outputs": [
    {
     "name": "stdout",
     "output_type": "stream",
     "text": [
      "[1, 2, 6]\n"
     ]
    }
   ],
   "source": [
    "print(list(filter(lambda x: x>0, [1, -3, 2, 0, -5, 6])))"
   ]
  },
  {
   "cell_type": "markdown",
   "id": "b7fa9a22",
   "metadata": {},
   "source": [
    "## 1.10 hex"
   ]
  },
  {
   "cell_type": "code",
   "execution_count": null,
   "id": "ff6f5e0d",
   "metadata": {},
   "outputs": [],
   "source": [
    "hex(x)는 정수를 입력받아 16진수(hexadecimal) 문자열로 변환하여 리턴하는 함수이다."
   ]
  },
  {
   "cell_type": "markdown",
   "id": "95105faf",
   "metadata": {},
   "source": [
    "## 1.11 id#"
   ]
  },
  {
   "cell_type": "code",
   "execution_count": null,
   "id": "f14d7c6c",
   "metadata": {},
   "outputs": [],
   "source": [
    "id(object)는 객체를 입력받아 객체의 고유 주솟값(레퍼런스)을 리턴하는 함수이다."
   ]
  },
  {
   "cell_type": "markdown",
   "id": "e6ac69c9",
   "metadata": {},
   "source": [
    "## 1.12 input#"
   ]
  },
  {
   "cell_type": "code",
   "execution_count": null,
   "id": "1d374fd7",
   "metadata": {},
   "outputs": [],
   "source": [
    "input([prompt])는 사용자 입력을 받는 함수이다. 입력 인수로 문자열을 전달하면 그 문자열은 프롬프트가 된다."
   ]
  },
  {
   "cell_type": "markdown",
   "id": "151fbdee",
   "metadata": {},
   "source": [
    "## 1.13 int#"
   ]
  },
  {
   "cell_type": "code",
   "execution_count": null,
   "id": "99ef285d",
   "metadata": {},
   "outputs": [],
   "source": [
    "int(x)는 문자열 형태의 숫자나 소수점이 있는 숫자를 정수로 리턴하는 함수이다. 만약 정수가 입력되면 그대로 리턴한다."
   ]
  },
  {
   "cell_type": "code",
   "execution_count": 22,
   "id": "f37ebed8",
   "metadata": {},
   "outputs": [
    {
     "data": {
      "text/plain": [
       "3"
      ]
     },
     "execution_count": 22,
     "metadata": {},
     "output_type": "execute_result"
    }
   ],
   "source": [
    "int('3')"
   ]
  },
  {
   "cell_type": "markdown",
   "id": "0ff3a42f",
   "metadata": {},
   "source": [
    "## 1.14 instance"
   ]
  },
  {
   "cell_type": "code",
   "execution_count": 25,
   "id": "5d2cdb6f",
   "metadata": {},
   "outputs": [],
   "source": [
    "class Person: pass\n",
    "a = Person()"
   ]
  },
  {
   "cell_type": "code",
   "execution_count": 26,
   "id": "7f2dd50f",
   "metadata": {},
   "outputs": [
    {
     "data": {
      "text/plain": [
       "True"
      ]
     },
     "execution_count": 26,
     "metadata": {},
     "output_type": "execute_result"
    }
   ],
   "source": [
    "isinstance(a, Person)"
   ]
  },
  {
   "cell_type": "markdown",
   "id": "f980b8a2",
   "metadata": {},
   "source": [
    "## 1.15 len#"
   ]
  },
  {
   "cell_type": "code",
   "execution_count": 27,
   "id": "91d4fbfa",
   "metadata": {},
   "outputs": [
    {
     "data": {
      "text/plain": [
       "6"
      ]
     },
     "execution_count": 27,
     "metadata": {},
     "output_type": "execute_result"
    }
   ],
   "source": [
    "len(\"python\")"
   ]
  },
  {
   "cell_type": "markdown",
   "id": "09b46fdd",
   "metadata": {},
   "source": [
    "## 1.16 list#"
   ]
  },
  {
   "cell_type": "code",
   "execution_count": 28,
   "id": "2975dfb5",
   "metadata": {},
   "outputs": [
    {
     "data": {
      "text/plain": [
       "['p', 'y', 't', 'h', 'o', 'n']"
      ]
     },
     "execution_count": 28,
     "metadata": {},
     "output_type": "execute_result"
    }
   ],
   "source": [
    "list(\"python\")"
   ]
  },
  {
   "cell_type": "code",
   "execution_count": 29,
   "id": "e08d183a",
   "metadata": {},
   "outputs": [
    {
     "data": {
      "text/plain": [
       "[1, 2, 3]"
      ]
     },
     "execution_count": 29,
     "metadata": {},
     "output_type": "execute_result"
    }
   ],
   "source": [
    "list((1,2,3))"
   ]
  },
  {
   "cell_type": "markdown",
   "id": "835287e5",
   "metadata": {},
   "source": [
    "## 1.17 map##"
   ]
  },
  {
   "cell_type": "code",
   "execution_count": null,
   "id": "a5152d8c",
   "metadata": {},
   "outputs": [],
   "source": [
    "map(f, iterable)은 함수(f)와 반복 가능한 데이터를 입력으로 받는다. map은 입력받은 데이터의 각 요소에 함수 f를 적용한 결과를 리턴하는 함수이다.\n",
    "\n",
    "filter는 특정 기준으로 걸러내고, map은 특정 함수를 적용"
   ]
  },
  {
   "cell_type": "code",
   "execution_count": 31,
   "id": "5416f9a5",
   "metadata": {},
   "outputs": [
    {
     "name": "stdout",
     "output_type": "stream",
     "text": [
      "[2, 4, 6, 8]\n"
     ]
    }
   ],
   "source": [
    "def two_times(numberList):\n",
    "    result = []\n",
    "    for number in numberList:\n",
    "        result.append(number*2)\n",
    "    return result\n",
    "\n",
    "result = two_times([1, 2, 3, 4])\n",
    "print(result)"
   ]
  },
  {
   "cell_type": "code",
   "execution_count": 33,
   "id": "e6fb7936",
   "metadata": {},
   "outputs": [
    {
     "data": {
      "text/plain": [
       "[2, 4, 6, 8]"
      ]
     },
     "execution_count": 33,
     "metadata": {},
     "output_type": "execute_result"
    }
   ],
   "source": [
    "def two_times(x):\n",
    "    return x*2\n",
    "\n",
    "list(map(two_times, [1, 2, 3, 4]))"
   ]
  },
  {
   "cell_type": "code",
   "execution_count": 34,
   "id": "492b110c",
   "metadata": {},
   "outputs": [
    {
     "data": {
      "text/plain": [
       "[2, 4, 6, 8]"
      ]
     },
     "execution_count": 34,
     "metadata": {},
     "output_type": "execute_result"
    }
   ],
   "source": [
    "list(map(lambda a: a*2, [1, 2, 3, 4]))"
   ]
  },
  {
   "cell_type": "markdown",
   "id": "6d991e51",
   "metadata": {},
   "source": [
    "## 1.18 max"
   ]
  },
  {
   "cell_type": "code",
   "execution_count": 35,
   "id": "28287b63",
   "metadata": {},
   "outputs": [
    {
     "data": {
      "text/plain": [
       "3"
      ]
     },
     "execution_count": 35,
     "metadata": {},
     "output_type": "execute_result"
    }
   ],
   "source": [
    "max([1, 2, 3])"
   ]
  },
  {
   "cell_type": "code",
   "execution_count": 37,
   "id": "2d02f0da",
   "metadata": {},
   "outputs": [
    {
     "data": {
      "text/plain": [
       "'y'"
      ]
     },
     "execution_count": 37,
     "metadata": {},
     "output_type": "execute_result"
    }
   ],
   "source": [
    "max(\"python\")"
   ]
  },
  {
   "cell_type": "markdown",
   "id": "6be082b6",
   "metadata": {},
   "source": [
    "## 1.19 min"
   ]
  },
  {
   "cell_type": "code",
   "execution_count": 36,
   "id": "a10b122c",
   "metadata": {},
   "outputs": [
    {
     "data": {
      "text/plain": [
       "1"
      ]
     },
     "execution_count": 36,
     "metadata": {},
     "output_type": "execute_result"
    }
   ],
   "source": [
    "min([1, 2, 3])"
   ]
  },
  {
   "cell_type": "code",
   "execution_count": 38,
   "id": "1eda7642",
   "metadata": {},
   "outputs": [
    {
     "data": {
      "text/plain": [
       "'h'"
      ]
     },
     "execution_count": 38,
     "metadata": {},
     "output_type": "execute_result"
    }
   ],
   "source": [
    "min(\"python\")"
   ]
  },
  {
   "cell_type": "markdown",
   "id": "f8703b5f",
   "metadata": {},
   "source": [
    "## 1.20 oct"
   ]
  },
  {
   "cell_type": "code",
   "execution_count": null,
   "id": "276a8c46",
   "metadata": {},
   "outputs": [],
   "source": [
    "oct(x)는 정수를 8진수 문자열로 바꾸어 리턴하는 함수이다"
   ]
  },
  {
   "cell_type": "code",
   "execution_count": null,
   "id": "c240dac6",
   "metadata": {},
   "outputs": [],
   "source": [
    "oct(34)"
   ]
  },
  {
   "cell_type": "markdown",
   "id": "53783fb3",
   "metadata": {},
   "source": [
    "## 1.21 open"
   ]
  },
  {
   "cell_type": "code",
   "execution_count": null,
   "id": "9ce2f093",
   "metadata": {},
   "outputs": [],
   "source": [
    "open(filename, [mode])은 ‘파일 이름’과 ‘읽기 방법’을 입력받아 파일 객체를 리턴하는 함수이다. 읽기 방법(mode)을 생략하면 기본값인 읽기 모드(r)로 파일 객체를 만들어 리턴한다."
   ]
  },
  {
   "cell_type": "markdown",
   "id": "542a725b",
   "metadata": {},
   "source": [
    "## 1.22 ord"
   ]
  },
  {
   "cell_type": "code",
   "execution_count": null,
   "id": "c1bebc94",
   "metadata": {},
   "outputs": [],
   "source": [
    "ord(c)는 문자의 유니코드 숫자 값을 리턴하는 함수이다."
   ]
  },
  {
   "cell_type": "code",
   "execution_count": 39,
   "id": "85eb4c01",
   "metadata": {},
   "outputs": [
    {
     "data": {
      "text/plain": [
       "97"
      ]
     },
     "execution_count": 39,
     "metadata": {},
     "output_type": "execute_result"
    }
   ],
   "source": [
    "ord('a')"
   ]
  },
  {
   "cell_type": "markdown",
   "id": "4722de99",
   "metadata": {},
   "source": [
    "## 1.23 pow"
   ]
  },
  {
   "cell_type": "code",
   "execution_count": null,
   "id": "6a358fb9",
   "metadata": {},
   "outputs": [],
   "source": [
    "pow(x, y)는 x를 y제곱한 결괏값을 리턴하는 함수이다."
   ]
  },
  {
   "cell_type": "code",
   "execution_count": null,
   "id": "f0a5a64b",
   "metadata": {},
   "outputs": [],
   "source": [
    "pow(2, 4)"
   ]
  },
  {
   "cell_type": "markdown",
   "id": "c9f521b3",
   "metadata": {},
   "source": [
    "## 1.24 range#"
   ]
  },
  {
   "cell_type": "code",
   "execution_count": null,
   "id": "62793572",
   "metadata": {},
   "outputs": [],
   "source": [
    "list(range(5))"
   ]
  },
  {
   "cell_type": "markdown",
   "id": "82d7fc69",
   "metadata": {},
   "source": [
    "## 1.25 round"
   ]
  },
  {
   "cell_type": "code",
   "execution_count": 41,
   "id": "40136517",
   "metadata": {},
   "outputs": [
    {
     "data": {
      "text/plain": [
       "5"
      ]
     },
     "execution_count": 41,
     "metadata": {},
     "output_type": "execute_result"
    }
   ],
   "source": [
    "round(4.6)"
   ]
  },
  {
   "cell_type": "code",
   "execution_count": 42,
   "id": "02d52b68",
   "metadata": {},
   "outputs": [
    {
     "data": {
      "text/plain": [
       "5.68"
      ]
     },
     "execution_count": 42,
     "metadata": {},
     "output_type": "execute_result"
    }
   ],
   "source": [
    "round(5.678, 2)"
   ]
  },
  {
   "cell_type": "markdown",
   "id": "9d96a051",
   "metadata": {},
   "source": [
    "## 1.26 sorted#"
   ]
  },
  {
   "cell_type": "code",
   "execution_count": null,
   "id": "6ec7021d",
   "metadata": {},
   "outputs": [],
   "source": [
    "sorted(iterable)는 입력 데이터를 정렬한 후 그 결과를 리스트로 리턴하는 함수이다."
   ]
  },
  {
   "cell_type": "code",
   "execution_count": 43,
   "id": "6bced8d5",
   "metadata": {},
   "outputs": [
    {
     "data": {
      "text/plain": [
       "[1, 2, 3]"
      ]
     },
     "execution_count": 43,
     "metadata": {},
     "output_type": "execute_result"
    }
   ],
   "source": [
    "sorted([3, 1, 2])"
   ]
  },
  {
   "cell_type": "markdown",
   "id": "f6ba88e4",
   "metadata": {},
   "source": [
    "## 1.27 str"
   ]
  },
  {
   "cell_type": "code",
   "execution_count": 44,
   "id": "0f1b561d",
   "metadata": {},
   "outputs": [
    {
     "data": {
      "text/plain": [
       "'3'"
      ]
     },
     "execution_count": 44,
     "metadata": {},
     "output_type": "execute_result"
    }
   ],
   "source": [
    "str(3)"
   ]
  },
  {
   "cell_type": "code",
   "execution_count": null,
   "id": "f351f730",
   "metadata": {},
   "outputs": [],
   "source": [
    "str('hi')"
   ]
  },
  {
   "cell_type": "markdown",
   "id": "a057efc5",
   "metadata": {},
   "source": [
    "## 1.28 sum"
   ]
  },
  {
   "cell_type": "code",
   "execution_count": null,
   "id": "d105f0fe",
   "metadata": {},
   "outputs": [],
   "source": [
    "sum([1,2,3])"
   ]
  },
  {
   "cell_type": "markdown",
   "id": "263452ce",
   "metadata": {},
   "source": [
    "## 1.29 tuple"
   ]
  },
  {
   "cell_type": "code",
   "execution_count": null,
   "id": "4e80d463",
   "metadata": {},
   "outputs": [],
   "source": [
    "tuple(\"abc\")"
   ]
  },
  {
   "cell_type": "markdown",
   "id": "0402e298",
   "metadata": {},
   "source": [
    "## 1.30 type"
   ]
  },
  {
   "cell_type": "code",
   "execution_count": null,
   "id": "8860d3f9",
   "metadata": {},
   "outputs": [],
   "source": [
    "type(\"abc\")"
   ]
  },
  {
   "cell_type": "markdown",
   "id": "829a14dd",
   "metadata": {},
   "source": [
    "## 1.31 zip##"
   ]
  },
  {
   "cell_type": "code",
   "execution_count": null,
   "id": "3966564e",
   "metadata": {},
   "outputs": [],
   "source": [
    "zip(*iterable)은 동일한 개수로 이루어진 데이터들을 묶어서 리턴하는 함수이다.\n",
    "\n",
    "여기서 사용한 *iterable은 반복 가능한 데이터를 여러 개 입력할 수 있다는 의미이다.\n",
    "\n",
    "다음 예제로 사용법을 확인해 보자."
   ]
  },
  {
   "cell_type": "code",
   "execution_count": 45,
   "id": "e0eb17ba",
   "metadata": {},
   "outputs": [
    {
     "data": {
      "text/plain": [
       "[(1, 4), (2, 5), (3, 6)]"
      ]
     },
     "execution_count": 45,
     "metadata": {},
     "output_type": "execute_result"
    }
   ],
   "source": [
    "list(zip([1, 2, 3], [4, 5, 6]))"
   ]
  },
  {
   "cell_type": "code",
   "execution_count": 46,
   "id": "2811ca44",
   "metadata": {},
   "outputs": [
    {
     "data": {
      "text/plain": [
       "[(1, 4, 7), (2, 5, 8), (3, 6, 9)]"
      ]
     },
     "execution_count": 46,
     "metadata": {},
     "output_type": "execute_result"
    }
   ],
   "source": [
    "list(zip([1, 2, 3], [4, 5, 6], [7, 8, 9]))"
   ]
  },
  {
   "cell_type": "markdown",
   "id": "0129e3dd",
   "metadata": {},
   "source": [
    "# 2 라이브러리"
   ]
  },
  {
   "cell_type": "markdown",
   "id": "b0cae82e",
   "metadata": {},
   "source": [
    "## 2.1 표준 라이브러리"
   ]
  },
  {
   "cell_type": "code",
   "execution_count": null,
   "id": "c5bcffa2",
   "metadata": {},
   "outputs": [],
   "source": [
    "datetime.date"
   ]
  },
  {
   "cell_type": "code",
   "execution_count": 52,
   "id": "b4e64dc6",
   "metadata": {},
   "outputs": [],
   "source": [
    "import datetime\n",
    "day1 = datetime.date(2023, 3, 25)\n",
    "day2 = datetime.date(2023, , 5)"
   ]
  },
  {
   "cell_type": "code",
   "execution_count": 53,
   "id": "1ebf18d3",
   "metadata": {},
   "outputs": [],
   "source": [
    "diff = day2 - day1"
   ]
  },
  {
   "cell_type": "code",
   "execution_count": 54,
   "id": "aec7d5fa",
   "metadata": {},
   "outputs": [
    {
     "data": {
      "text/plain": [
       "255"
      ]
     },
     "execution_count": 54,
     "metadata": {},
     "output_type": "execute_result"
    }
   ],
   "source": [
    "diff.days"
   ]
  },
  {
   "cell_type": "code",
   "execution_count": 55,
   "id": "52931105",
   "metadata": {},
   "outputs": [
    {
     "data": {
      "text/plain": [
       "1"
      ]
     },
     "execution_count": 55,
     "metadata": {},
     "output_type": "execute_result"
    }
   ],
   "source": [
    "day = datetime.date(2021, 12, 14)\n",
    "day.weekday()"
   ]
  },
  {
   "cell_type": "markdown",
   "id": "a207a7f1",
   "metadata": {},
   "source": [
    "### 2.1.2 time"
   ]
  },
  {
   "cell_type": "markdown",
   "id": "840a5718",
   "metadata": {},
   "source": [
    "2.1.2.1 time.time"
   ]
  },
  {
   "cell_type": "code",
   "execution_count": 58,
   "id": "02a0ef12",
   "metadata": {},
   "outputs": [
    {
     "data": {
      "text/plain": [
       "1701757074.05351"
      ]
     },
     "execution_count": 58,
     "metadata": {},
     "output_type": "execute_result"
    }
   ],
   "source": [
    "import time\n",
    "time.time()"
   ]
  },
  {
   "cell_type": "markdown",
   "id": "371222ef",
   "metadata": {},
   "source": [
    "2.1.2.2 time.localtime"
   ]
  },
  {
   "cell_type": "code",
   "execution_count": 59,
   "id": "1de97487",
   "metadata": {},
   "outputs": [
    {
     "data": {
      "text/plain": [
       "time.struct_time(tm_year=2023, tm_mon=12, tm_mday=5, tm_hour=15, tm_min=18, tm_sec=16, tm_wday=1, tm_yday=339, tm_isdst=0)"
      ]
     },
     "execution_count": 59,
     "metadata": {},
     "output_type": "execute_result"
    }
   ],
   "source": [
    "time.localtime(time.time())"
   ]
  },
  {
   "cell_type": "markdown",
   "id": "716d4665",
   "metadata": {},
   "source": [
    "2.1.2.3 time.asctime"
   ]
  },
  {
   "cell_type": "code",
   "execution_count": null,
   "id": "ff6300a8",
   "metadata": {},
   "outputs": [],
   "source": [
    "time.asctime(time.localtime(time.time()))"
   ]
  },
  {
   "cell_type": "markdown",
   "id": "b259bc89",
   "metadata": {},
   "source": [
    "2.1.2.4 time.ctime"
   ]
  },
  {
   "cell_type": "code",
   "execution_count": 63,
   "id": "c1037a72",
   "metadata": {},
   "outputs": [
    {
     "data": {
      "text/plain": [
       "'Tue Dec  5 15:21:24 2023'"
      ]
     },
     "execution_count": 63,
     "metadata": {},
     "output_type": "execute_result"
    }
   ],
   "source": [
    "time.ctime()"
   ]
  },
  {
   "cell_type": "markdown",
   "id": "9549e76a",
   "metadata": {},
   "source": [
    "2.1.2.5 time.strftime"
   ]
  },
  {
   "cell_type": "code",
   "execution_count": 64,
   "id": "985acd7c",
   "metadata": {},
   "outputs": [
    {
     "data": {
      "text/plain": [
       "'12/05/23'"
      ]
     },
     "execution_count": 64,
     "metadata": {},
     "output_type": "execute_result"
    }
   ],
   "source": [
    "import time\n",
    "time.strftime('%x', time.localtime(time.time()))"
   ]
  },
  {
   "cell_type": "code",
   "execution_count": 65,
   "id": "cb227a27",
   "metadata": {},
   "outputs": [
    {
     "data": {
      "text/plain": [
       "'Tue Dec  5 15:22:57 2023'"
      ]
     },
     "execution_count": 65,
     "metadata": {},
     "output_type": "execute_result"
    }
   ],
   "source": [
    "time.strftime('%c', time.localtime(time.time()))"
   ]
  },
  {
   "cell_type": "markdown",
   "id": "06ef723e",
   "metadata": {},
   "source": [
    "2.1.2.6 time.sleep"
   ]
  },
  {
   "cell_type": "code",
   "execution_count": 66,
   "id": "27c5ee88",
   "metadata": {},
   "outputs": [
    {
     "name": "stdout",
     "output_type": "stream",
     "text": [
      "0\n",
      "1\n",
      "2\n",
      "3\n",
      "4\n",
      "5\n",
      "6\n",
      "7\n",
      "8\n",
      "9\n"
     ]
    }
   ],
   "source": [
    "import time\n",
    "for i in range(10):\n",
    "    print(i)\n",
    "    time.sleep(1)"
   ]
  },
  {
   "cell_type": "markdown",
   "id": "9d4241dd",
   "metadata": {},
   "source": [
    "2.1.3.1 math.gcd"
   ]
  },
  {
   "cell_type": "code",
   "execution_count": 67,
   "id": "586b7406",
   "metadata": {},
   "outputs": [
    {
     "data": {
      "text/plain": [
       "20"
      ]
     },
     "execution_count": 67,
     "metadata": {},
     "output_type": "execute_result"
    }
   ],
   "source": [
    "import math\n",
    "math.gcd(60, 100, 80)"
   ]
  },
  {
   "cell_type": "markdown",
   "id": "242d527c",
   "metadata": {},
   "source": [
    "2.1.3.2 math.lcm"
   ]
  },
  {
   "cell_type": "code",
   "execution_count": 68,
   "id": "ac47aabd",
   "metadata": {},
   "outputs": [
    {
     "data": {
      "text/plain": [
       "75"
      ]
     },
     "execution_count": 68,
     "metadata": {},
     "output_type": "execute_result"
    }
   ],
   "source": [
    "import math\n",
    "math.lcm(15, 25)"
   ]
  },
  {
   "cell_type": "markdown",
   "id": "aeb41c06",
   "metadata": {},
   "source": [
    "### 2.1.4 random"
   ]
  },
  {
   "cell_type": "code",
   "execution_count": 69,
   "id": "dee5553c",
   "metadata": {},
   "outputs": [
    {
     "data": {
      "text/plain": [
       "0.07822005580886238"
      ]
     },
     "execution_count": 69,
     "metadata": {},
     "output_type": "execute_result"
    }
   ],
   "source": [
    "import random\n",
    "random.random()"
   ]
  },
  {
   "cell_type": "code",
   "execution_count": 71,
   "id": "b2a33a7e",
   "metadata": {},
   "outputs": [
    {
     "name": "stdout",
     "output_type": "stream",
     "text": [
      "1\n",
      "3\n",
      "5\n",
      "4\n",
      "2\n"
     ]
    }
   ],
   "source": [
    "import random\n",
    "def random_pop(data):\n",
    "    number = random.randint(0, len(data)-1)\n",
    "    return data.pop(number)\n",
    "\n",
    "if __name__ == \"__main__\":\n",
    "    data = [1, 2, 3, 4, 5]\n",
    "    while data: \n",
    "        print(random_pop(data))\n"
   ]
  },
  {
   "cell_type": "code",
   "execution_count": null,
   "id": "d1304999",
   "metadata": {},
   "outputs": [],
   "source": [
    "def random_pop(data):\n",
    "    number = random.choice(data)\n",
    "    data.remove(number)\n",
    "    return number"
   ]
  },
  {
   "cell_type": "code",
   "execution_count": 72,
   "id": "625043d5",
   "metadata": {},
   "outputs": [],
   "source": [
    "import random"
   ]
  },
  {
   "cell_type": "code",
   "execution_count": 73,
   "id": "ae5d0454",
   "metadata": {},
   "outputs": [],
   "source": [
    "data = [1, 2, 3, 4, 5]"
   ]
  },
  {
   "cell_type": "code",
   "execution_count": 74,
   "id": "17e882eb",
   "metadata": {},
   "outputs": [
    {
     "data": {
      "text/plain": [
       "[1, 3, 4, 2, 5]"
      ]
     },
     "execution_count": 74,
     "metadata": {},
     "output_type": "execute_result"
    }
   ],
   "source": [
    "random.sample(data, len(data))"
   ]
  },
  {
   "cell_type": "markdown",
   "id": "692e45b6",
   "metadata": {},
   "source": [
    "### 2.1.12 glob"
   ]
  },
  {
   "cell_type": "code",
   "execution_count": null,
   "id": "c6f761a1",
   "metadata": {},
   "outputs": [],
   "source": [
    "가끔 파일을 읽고 쓰는 기능이 있는 프로그램을 만들다 보면 특정 디렉터리에 있는 파일 이름 모두를 알아야 할 때가 있다. 이럴 때 사용하는 모듈이 바로 glob이다."
   ]
  },
  {
   "cell_type": "code",
   "execution_count": null,
   "id": "4f742320",
   "metadata": {},
   "outputs": [],
   "source": [
    "디렉터리에 있는 파일들을 리스트로 만들기 - glob(pathname)"
   ]
  },
  {
   "cell_type": "code",
   "execution_count": null,
   "id": "c7a5f5df",
   "metadata": {},
   "outputs": [],
   "source": [
    "import glob\n",
    "glob.glob(\"c:/doit/mark*\")"
   ]
  },
  {
   "cell_type": "code",
   "execution_count": null,
   "id": "fc885f03",
   "metadata": {},
   "outputs": [],
   "source": [
    "file_list = glob.glob(\"*\")\n",
    "print(file_list)\n",
    "file_name = list(map(lambda x: x.split('.')[0], file_list))\n",
    "print(file_name)"
   ]
  },
  {
   "cell_type": "markdown",
   "id": "fa9ada6e",
   "metadata": {},
   "source": [
    "### 2.1.13 pickle"
   ]
  },
  {
   "cell_type": "markdown",
   "id": "a4e27b2d",
   "metadata": {},
   "source": [
    "### 2.1.14 OS"
   ]
  },
  {
   "cell_type": "code",
   "execution_count": null,
   "id": "410adb16",
   "metadata": {},
   "outputs": [],
   "source": [
    "디렉터리 위치 돌려받기 - os.getcwd"
   ]
  },
  {
   "cell_type": "code",
   "execution_count": 77,
   "id": "f45dc6df",
   "metadata": {},
   "outputs": [
    {
     "ename": "NameError",
     "evalue": "name 'os' is not defined",
     "output_type": "error",
     "traceback": [
      "\u001b[0;31m---------------------------------------------------------------------------\u001b[0m",
      "\u001b[0;31mNameError\u001b[0m                                 Traceback (most recent call last)",
      "Cell \u001b[0;32mIn[77], line 1\u001b[0m\n\u001b[0;32m----> 1\u001b[0m os\u001b[38;5;241m.\u001b[39mgetcwd()\n",
      "\u001b[0;31mNameError\u001b[0m: name 'os' is not defined"
     ]
    }
   ],
   "source": [
    "os.getcwd()"
   ]
  },
  {
   "cell_type": "code",
   "execution_count": null,
   "id": "a4b6ddcc",
   "metadata": {},
   "outputs": [],
   "source": []
  },
  {
   "cell_type": "code",
   "execution_count": null,
   "id": "c1b9b550",
   "metadata": {},
   "outputs": [],
   "source": []
  },
  {
   "cell_type": "code",
   "execution_count": null,
   "id": "a24ff8c5",
   "metadata": {},
   "outputs": [],
   "source": []
  },
  {
   "cell_type": "code",
   "execution_count": null,
   "id": "0fbe4051",
   "metadata": {},
   "outputs": [],
   "source": []
  },
  {
   "cell_type": "code",
   "execution_count": null,
   "id": "9d48ba29",
   "metadata": {},
   "outputs": [],
   "source": []
  }
 ],
 "metadata": {
  "kernelspec": {
   "display_name": "Python 3 (ipykernel)",
   "language": "python",
   "name": "python3"
  },
  "language_info": {
   "codemirror_mode": {
    "name": "ipython",
    "version": 3
   },
   "file_extension": ".py",
   "mimetype": "text/x-python",
   "name": "python",
   "nbconvert_exporter": "python",
   "pygments_lexer": "ipython3",
   "version": "3.11.5"
  }
 },
 "nbformat": 4,
 "nbformat_minor": 5
}
